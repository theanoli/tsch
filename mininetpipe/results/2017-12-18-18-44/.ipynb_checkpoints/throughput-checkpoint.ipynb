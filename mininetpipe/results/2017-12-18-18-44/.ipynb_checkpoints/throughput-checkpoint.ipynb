{
 "cells": [
  {
   "cell_type": "code",
   "execution_count": 1,
   "metadata": {
    "collapsed": true
   },
   "outputs": [],
   "source": [
    "# To find values within a column...\n",
    "#df.loc[df['column_name'] == some_value]\n",
    "#x = dfs[0][1]\n",
    "#x.loc[x[\"ncli\"] == 8151]"
   ]
  },
  {
   "cell_type": "code",
   "execution_count": 2,
   "metadata": {
    "collapsed": true
   },
   "outputs": [],
   "source": [
    "import os\n",
    "import re\n",
    "import math\n",
    "import pandas as pd\n",
    "import numpy as np\n",
    "\n",
    "import plotly\n",
    "import plotly.plotly as py\n",
    "from plotly.graph_objs import *\n",
    "\n",
    "plotly.tools.set_credentials_file(username='theano', api_key='hkYRYxjyM0aAGA5nmGq1')"
   ]
  },
  {
   "cell_type": "code",
   "execution_count": 3,
   "metadata": {
    "collapsed": true
   },
   "outputs": [],
   "source": [
    "import matplotlib.pyplot as plt\n",
    "\n",
    "import matplotlib\n",
    "matplotlib.style.use('ggplot')"
   ]
  },
  {
   "cell_type": "code",
   "execution_count": 4,
   "metadata": {},
   "outputs": [
    {
     "name": "stdout",
     "output_type": "stream",
     "text": [
      "/Users/theano/mountpoint/tsch/mininetpipe/results/2017-12-18-18-44\n"
     ]
    }
   ],
   "source": [
    "home = os.getcwd()\n",
    "print(home)\n",
    "sorted([x for x in os.listdir(home)])\n",
    "collectl_stats = ['Date', '[CPU]User%', '[CPU]Nice%', '[CPU]Sys%', '[CPU]Wait%',\n",
    "                               '[CPU]Irq%', '[CPU]Soft%', '[CPU]Steal%', '[CPU]Idle%',\n",
    "                               '[CPU]Totl%', '[CPU]Intrpt/sec', '[CPU]Ctx/sec', '[CPU]Proc/sec',\n",
    "                               '[CPU]ProcQue', '[CPU]ProcRun', '[CPU]L-Avg1', '[CPU]L-Avg5',\n",
    "                               '[CPU]L-Avg15', '[CPU]RunTot', '[CPU]BlkTot']\n",
    "loaded_files = []\n"
   ]
  },
  {
   "cell_type": "code",
   "execution_count": 10,
   "metadata": {
    "collapsed": true
   },
   "outputs": [],
   "source": [
    "def load_datfile(fpath):\n",
    "    # Returns a dataframe\n",
    "    df = pd.read_csv(fpath, \n",
    "                     index_col=False,\n",
    "                     names=[\"ncli\",\"throughput\"])\n",
    "    return df\n",
    "\n",
    "\n",
    "def load_collectl(fname):\n",
    "    df = pd.read_csv(fname,\n",
    "                     delim_whitespace=True,\n",
    "                     comment=\"#\",\n",
    "                     names=collectl_stats)\n",
    "    return df\n",
    "\n",
    "def load_data_and_stats(basename):\n",
    "    pds = []\n",
    "    prog = re.compile(\"%s_\\w+\\.dat$\" % basename)\n",
    "    \n",
    "    print(\"trying to match...\")\n",
    "    for fname in [x for x in os.listdir(\".\") if prog.match(x)]:\n",
    "        df_tput = load_datfile(os.path.join(home, fname))\n",
    "        \n",
    "        print(\"Loading file %s\" % fname)\n",
    "        collectl_fname = [x for x in os.listdir(\".\") if \"%s-server-0\" % fname in x]\n",
    "        if len(collectl_fname) > 0:\n",
    "            df_stats = load_collectl(collectl_fname[0])\n",
    "            newdf = pd.concat([df_tput.sum(), df_stats.mean()])\n",
    "        else:\n",
    "            newdf = df_tput.sum()\n",
    "        \n",
    "        nclients = re.search(\"(?<=_c)\\d+\", fname)\n",
    "        try:\n",
    "            nclients = int(nclients.group(0))\n",
    "            if newdf[\"ncli\"] != nclients:\n",
    "                print(\"skipping df with %d clients...\\n\" % newdf[\"ncli\"])\n",
    "                continue\n",
    "        except:\n",
    "                print(\"exception\")\n",
    "                continue\n",
    "            \n",
    "        expduration = int(re.search(\"(?<=_u)\\d+\", fname).group(0))\n",
    "        \n",
    "        newdf[\"fname\"] = fname\n",
    "        newdf[\"expduration\"] = expduration\n",
    "        newdf[\"numa\"] = int(fname.split(\"numa\")[0])        \n",
    "        pds.append(newdf)\n",
    "        \n",
    "    return (basename, (pd.concat(pds, axis=1)\n",
    "                        .transpose()).apply(pd.to_numeric, errors='coerce'))\n",
    "\n",
    "def load_data_no_sum(basename):\n",
    "    pds = []\n",
    "    prog = re.compile(\"%s_\\w+\\.dat$\" % basename)\n",
    "    \n",
    "    for fname in [x for x in os.listdir(\".\") if prog.match(x)]:\n",
    "        df_tput = load_datfile(os.path.join(home, fname))\n",
    "        \n",
    "        expduration = int(re.search(\"(?<=_u)\\d+\", fname).group(0))\n",
    "        \n",
    "        collectl_fname = [x for x in os.listdir(\".\") if \"%s-server-0\" % fname in x]\n",
    "        \n",
    "        if len(collectl_fname) > 0:\n",
    "            df_stats = load_collectl(collectl_fname[0])\n",
    "            newdf = pd.concat([df_tput, df_stats])\n",
    "        else:\n",
    "            newdf = df_tput\n",
    "        \n",
    "        newdf[\"expduration\"] = expduration\n",
    "        newdf[\"fname\"] = fname  # for finding weird data\n",
    "        newdf[\"ncores\"] = int(fname.split(\"cores\")[0])\n",
    "        pds.append(newdf)\n",
    "\n",
    "    return (basename, pd.concat(pds).apply(pd.to_numeric, errors='coerce'))"
   ]
  },
  {
   "cell_type": "code",
   "execution_count": 11,
   "metadata": {
    "collapsed": true
   },
   "outputs": [],
   "source": [
    "dfs = {}\n",
    "#os.listdir(\".\")"
   ]
  },
  {
   "cell_type": "code",
   "execution_count": 12,
   "metadata": {
    "scrolled": true
   },
   "outputs": [
    {
     "name": "stdout",
     "output_type": "stream",
     "text": [
      "Working on experiment 4numa...\n",
      "trying to match...\n",
      "Loading file 4numa_u80_c2048_1.dat\n",
      "Loading file 4numa_u80_c2048_6.dat\n",
      "Loading file 4numa_u80_c2048_8.dat\n",
      "skipping df with 0 clients...\n",
      "\n",
      "Loading file 4numa_u80_c2048_7.dat\n",
      "Loading file 4numa_u80_c2048_0.dat\n",
      "Loading file 4numa_u80_c2048_3.dat\n",
      "Loading file 4numa_u80_c2048_4.dat\n",
      "Loading file 4numa_u80_c2048_5.dat\n",
      "Loading file 4numa_u80_c2048_2.dat\n"
     ]
    }
   ],
   "source": [
    "for exp in [\n",
    "    #\"1numa\",\n",
    "    #\"2numa\",\n",
    "    #\"3numa\",\n",
    "    \"4numa\"\n",
    "]:\n",
    "    print (\"Working on experiment %s...\" % exp)\n",
    "    label, df = load_data_and_stats(exp)\n",
    "    df = df.fillna(df.mean())\n",
    "    \n",
    "    # Remove rows where ncli != 2048\n",
    "    dfs[exp] = df\n",
    "    "
   ]
  },
  {
   "cell_type": "code",
   "execution_count": 13,
   "metadata": {
    "collapsed": true
   },
   "outputs": [],
   "source": [
    "grouped = pd.concat([df for key, df in dfs.items()]).groupby(\"numa\")\n",
    "agged = grouped.agg([np.std, np.mean])"
   ]
  },
  {
   "cell_type": "code",
   "execution_count": 14,
   "metadata": {
    "scrolled": false
   },
   "outputs": [
    {
     "data": {
      "text/html": [
       "<iframe id=\"igraph\" scrolling=\"no\" style=\"border:none;\" seamless=\"seamless\" src=\"https://plot.ly/~theano/36.embed\" height=\"525px\" width=\"100%\"></iframe>"
      ],
      "text/plain": [
       "<plotly.tools.PlotlyDisplay object>"
      ]
     },
     "execution_count": 14,
     "metadata": {},
     "output_type": "execute_result"
    }
   ],
   "source": [
    "data = []\n",
    "\n",
    "barwidth = 0.5\n",
    "\n",
    "x = [numacount + \" node(s)\" for numacount in \n",
    "    agged.index.astype(int).astype(str)]\n",
    "\n",
    "# Throughput\n",
    "data.append(Bar(\n",
    "    x = x,\n",
    "    y = agged[(\"[CPU]Sys%\", \"mean\")],\n",
    "    yaxis = 'y2',\n",
    "    name = 'CPU Sys%',\n",
    "    width = barwidth,\n",
    "    opacity=0.6\n",
    "))\n",
    "data.append(Bar(\n",
    "    x = x,\n",
    "    y = agged[(\"[CPU]Soft%\", \"mean\")],\n",
    "    yaxis = 'y2',\n",
    "    name = 'CPU Soft%',\n",
    "    width = barwidth,\n",
    "    opacity=0.6\n",
    "))\n",
    "data.append(Bar(\n",
    "    x = x,\n",
    "    y = agged[(\"[CPU]User%\", \"mean\")],\n",
    "    yaxis = 'y2',\n",
    "    name = 'CPU User%',\n",
    "    width = barwidth,\n",
    "    opacity=0.6\n",
    "))\n",
    "\n",
    "for label, df in grouped:\n",
    "    data.append(Box(\n",
    "        y = df[\"throughput\"],\n",
    "        name = \"%s node(s)\" % label,\n",
    "        boxpoints = 'all',\n",
    "        showlegend = False,\n",
    "        marker = dict(color = \"rgb(8, 81, 156)\",\n",
    "                     size = 3),\n",
    "        jitter = 0.5,\n",
    "    ))\n",
    "\n",
    "    \n",
    "layout = Layout (\n",
    "    xaxis = {'title': 'number of NUMA nodes'},\n",
    "    yaxis = {'title': 'throughput (pps)', 'rangemode': 'tozero'},\n",
    "    yaxis2 = {'title': 'CPU utilization', \n",
    "              'side': 'right', \n",
    "              'overlaying': 'y',\n",
    "              'showgrid': False},\n",
    "    title = 'Small-packet throughput with varying NUMA count: 2048 clients',\n",
    "    #legend = {'x': 0.01, 'y': 1},\n",
    "    #boxmode = \"group\"\n",
    "    barmode = \"stack\",\n",
    "    boxgap = 0.5\n",
    ")\n",
    "\n",
    "fig = Figure(data=data, layout=layout)\n",
    "py.iplot(fig, filename='tcp-cpu-throughput-varynuma-2048cli')"
   ]
  },
  {
   "cell_type": "code",
   "execution_count": 11,
   "metadata": {},
   "outputs": [
    {
     "data": {
      "text/plain": [
       "[numa\n",
       " 1    3.625064\n",
       " 2    3.134832\n",
       " 3    2.718879\n",
       " dtype: float64, numa\n",
       " 1    33.543816\n",
       " 2    32.105163\n",
       " 3    33.679331\n",
       " dtype: float64, numa\n",
       " 1    62.773886\n",
       " 2    64.771888\n",
       " 3    63.694864\n",
       " dtype: float64]"
      ]
     },
     "execution_count": 11,
     "metadata": {},
     "output_type": "execute_result"
    }
   ],
   "source": [
    "ratios = []\n",
    "ratios.append(100*agged[(\"[CPU]User%\", \"mean\")]/agged[(\"[CPU]Totl%\", \"mean\")])\n",
    "ratios.append(100*agged[(\"[CPU]Soft%\", \"mean\")]/agged[(\"[CPU]Totl%\", \"mean\")])\n",
    "ratios.append(100*agged[(\"[CPU]Sys%\", \"mean\")]/agged[(\"[CPU]Totl%\", \"mean\")])\n",
    "ratios"
   ]
  },
  {
   "cell_type": "code",
   "execution_count": 49,
   "metadata": {
    "scrolled": false
   },
   "outputs": [
    {
     "data": {
      "text/html": [
       "<iframe id=\"igraph\" scrolling=\"no\" style=\"border:none;\" seamless=\"seamless\" src=\"https://plot.ly/~theano/30.embed\" height=\"525px\" width=\"100%\"></iframe>"
      ],
      "text/plain": [
       "<plotly.tools.PlotlyDisplay object>"
      ]
     },
     "execution_count": 49,
     "metadata": {},
     "output_type": "execute_result"
    }
   ],
   "source": [
    "data = []\n",
    "\n",
    "i = 1\n",
    "for label, df in grouped:\n",
    "    data.append(Histogram(x=df[\"throughput\"],\n",
    "                          nbinsx=10,\n",
    "                          name=\"%s node(s)\" % label,\n",
    "                          opacity=0.6,\n",
    "                          histnorm=\"probability\"))\n",
    "\n",
    "layout = Layout (\n",
    "    xaxis = {'title': 'throughput (pps)'},\n",
    "    yaxis = {'title': 'frequency'},\n",
    "    title = 'Throughput frequency for varying core counts',\n",
    "    showlegend = True,\n",
    ") \n",
    "fig = Figure(data=data, layout=layout)\n",
    "    \n",
    "py.iplot(fig, filename=\"tput_frequency_durations_ncores\")"
   ]
  },
  {
   "cell_type": "code",
   "execution_count": null,
   "metadata": {
    "collapsed": true
   },
   "outputs": [],
   "source": []
  }
 ],
 "metadata": {
  "kernelspec": {
   "display_name": "Python 3",
   "language": "python",
   "name": "python3"
  },
  "language_info": {
   "codemirror_mode": {
    "name": "ipython",
    "version": 3
   },
   "file_extension": ".py",
   "mimetype": "text/x-python",
   "name": "python",
   "nbconvert_exporter": "python",
   "pygments_lexer": "ipython3",
   "version": "3.6.3"
  }
 },
 "nbformat": 4,
 "nbformat_minor": 2
}
