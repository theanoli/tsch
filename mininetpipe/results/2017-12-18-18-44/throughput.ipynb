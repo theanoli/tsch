{
 "cells": [
  {
   "cell_type": "code",
   "execution_count": 1,
   "metadata": {
    "collapsed": true
   },
   "outputs": [],
   "source": [
    "# To find values within a column...\n",
    "#df.loc[df['column_name'] == some_value]\n",
    "#x = dfs[0][1]\n",
    "#x.loc[x[\"ncli\"] == 8151]"
   ]
  },
  {
   "cell_type": "code",
   "execution_count": 1,
   "metadata": {
    "collapsed": true
   },
   "outputs": [],
   "source": [
    "import os\n",
    "import re\n",
    "import math\n",
    "import pandas as pd\n",
    "import numpy as np\n",
    "\n",
    "import plotly\n",
    "import plotly.plotly as py\n",
    "from plotly.graph_objs import *\n",
    "\n",
    "plotly.tools.set_credentials_file(username='theano', api_key='hkYRYxjyM0aAGA5nmGq1')"
   ]
  },
  {
   "cell_type": "code",
   "execution_count": 2,
   "metadata": {
    "collapsed": true
   },
   "outputs": [],
   "source": [
    "import matplotlib.pyplot as plt\n",
    "\n",
    "import matplotlib\n",
    "matplotlib.style.use('ggplot')"
   ]
  },
  {
   "cell_type": "code",
   "execution_count": 3,
   "metadata": {},
   "outputs": [
    {
     "name": "stdout",
     "output_type": "stream",
     "text": [
      "/Users/theano/mountpoint/tsch/mininetpipe/results/2017-12-18-18-44\n"
     ]
    }
   ],
   "source": [
    "home = os.getcwd()\n",
    "print(home)\n",
    "sorted([x for x in os.listdir(home)])\n",
    "collectl_stats = ['Date', '[CPU]User%', '[CPU]Nice%', '[CPU]Sys%', '[CPU]Wait%',\n",
    "                               '[CPU]Irq%', '[CPU]Soft%', '[CPU]Steal%', '[CPU]Idle%',\n",
    "                               '[CPU]Totl%', '[CPU]Intrpt/sec', '[CPU]Ctx/sec', '[CPU]Proc/sec',\n",
    "                               '[CPU]ProcQue', '[CPU]ProcRun', '[CPU]L-Avg1', '[CPU]L-Avg5',\n",
    "                               '[CPU]L-Avg15', '[CPU]RunTot', '[CPU]BlkTot']\n",
    "loaded_files = []\n"
   ]
  },
  {
   "cell_type": "code",
   "execution_count": 4,
   "metadata": {
    "collapsed": true
   },
   "outputs": [],
   "source": [
    "def load_datfile(fpath):\n",
    "    # Returns a dataframe\n",
    "    df = pd.read_csv(fpath, \n",
    "                     index_col=False,\n",
    "                     names=[\"ncli\",\"throughput\"])\n",
    "    return df\n",
    "\n",
    "\n",
    "def load_collectl(fname):\n",
    "    df = pd.read_csv(fname,\n",
    "                     delim_whitespace=True,\n",
    "                     comment=\"#\",\n",
    "                     names=collectl_stats)\n",
    "    return df\n",
    "\n",
    "def load_data_and_stats(basename):\n",
    "    pds = []\n",
    "    prog = re.compile(\"%s_\\w+\\.dat$\" % basename)\n",
    "    \n",
    "    for fname in [x for x in os.listdir(\".\") if prog.match(x)]:\n",
    "        df_tput = load_datfile(os.path.join(home, fname))\n",
    "        \n",
    "        print(\"Loading file %s\" % fname)\n",
    "        collectl_fname = [x for x in os.listdir(\".\") if \"%s-server-0\" % fname in x]\n",
    "        if len(collectl_fname) > 0:\n",
    "            df_stats = load_collectl(collectl_fname[0])\n",
    "            newdf = pd.concat([df_tput.sum(), df_stats.mean()])\n",
    "        else:\n",
    "            newdf = df_tput.sum()\n",
    "        \n",
    "        nclients = re.search(\"(?<=_c)\\d+\", fname)\n",
    "        try:\n",
    "            nclients = int(nclients.group(0))\n",
    "            if newdf[\"ncli\"] != nclients:\n",
    "                print(\"skipping df with %d clients...\\n\" % newdf[\"ncli\"])\n",
    "                continue\n",
    "        except:\n",
    "                print(\"exception\")\n",
    "                continue\n",
    "            \n",
    "        expduration = int(re.search(\"(?<=_u)\\d+\", fname).group(0))\n",
    "        \n",
    "        newdf[\"fname\"] = fname\n",
    "        newdf[\"expduration\"] = expduration\n",
    "        newdf[\"numa\"] = int(fname.split(\"numa\")[0])        \n",
    "        pds.append(newdf)\n",
    "        \n",
    "    return (basename, (pd.concat(pds, axis=1)\n",
    "                        .transpose()).apply(pd.to_numeric, errors='coerce'))\n",
    "\n",
    "def load_data_no_sum(basename):\n",
    "    pds = []\n",
    "    prog = re.compile(\"%s_\\w+\\.dat$\" % basename)\n",
    "    \n",
    "    for fname in [x for x in os.listdir(\".\") if prog.match(x)]:\n",
    "        df_tput = load_datfile(os.path.join(home, fname))\n",
    "        \n",
    "        expduration = int(re.search(\"(?<=_u)\\d+\", fname).group(0))\n",
    "        \n",
    "        collectl_fname = [x for x in os.listdir(\".\") if \"%s-server-0\" % fname in x]\n",
    "        \n",
    "        if len(collectl_fname) > 0:\n",
    "            df_stats = load_collectl(collectl_fname[0])\n",
    "            newdf = pd.concat([df_tput, df_stats])\n",
    "        else:\n",
    "            newdf = df_tput\n",
    "        \n",
    "        newdf[\"expduration\"] = expduration\n",
    "        newdf[\"fname\"] = fname  # for finding weird data\n",
    "        newdf[\"ncores\"] = int(fname.split(\"cores\")[0])\n",
    "        pds.append(newdf)\n",
    "\n",
    "    return (basename, pd.concat(pds).apply(pd.to_numeric, errors='coerce'))"
   ]
  },
  {
   "cell_type": "code",
   "execution_count": 5,
   "metadata": {},
   "outputs": [
    {
     "data": {
      "text/plain": [
       "['2numa_u80_c2048_23.dat-server-0-20171218.tab',\n",
       " '2numa_u80_c2048_21.dat',\n",
       " '2numa_u80_c2048_26.dat',\n",
       " '3numa_u80_c2048_20.dat-server-0-20171218.tab',\n",
       " '3numa_u80_c2048_8.dat-server-0-20171218.tab',\n",
       " '3numa_u80_c2048_12.dat',\n",
       " '2numa_u80_c2048_28.dat',\n",
       " '4numa_u80_c2048_16.dat-server-0-20171218.tab',\n",
       " '2numa_u80_c2048_4.dat-server-0-20171218.tab',\n",
       " '3numa_u80_c2048_15.dat',\n",
       " '3numa_u80_c2048_20.dat',\n",
       " '3numa_u80_c2048_23.dat-server-0-20171218.tab',\n",
       " '4numa_u80_c2048_1.dat',\n",
       " '3numa_u80_c2048_8.dat',\n",
       " '3numa_u80_c2048_27.dat',\n",
       " '4numa_u80_c2048_6.dat',\n",
       " '2numa_u80_c2048_20.dat-server-0-20171218.tab',\n",
       " '2numa_u80_c2048_7.dat-server-0-20171218.tab',\n",
       " '3numa_u80_c2048_29.dat',\n",
       " '2numa_u80_c2048_3.dat',\n",
       " '2numa_u80_c2048_13.dat',\n",
       " '4numa_u80_c2048_8.dat',\n",
       " '3numa_u80_c2048_1.dat',\n",
       " '2numa.conf',\n",
       " '4numa_u80_c2048_29.dat-server-0-20171218.tab',\n",
       " '2numa_u80_c2048_4.dat',\n",
       " '2numa_u80_c2048_14.dat',\n",
       " '4numa_u80_c2048_15.dat-server-0-20171218.tab',\n",
       " '3numa_u80_c2048_6.dat',\n",
       " '4numa_u80_c2048_14.dat',\n",
       " '4numa_u80_c2048_10.dat-server-0-20171218.tab',\n",
       " '2numa_u80_c2048_2.dat-server-0-20171218.tab',\n",
       " '4numa_u80_c2048_13.dat',\n",
       " '2numa_u80_c2048_19.dat-server-0-20171218.tab',\n",
       " '2numa_u80_c2048_25.dat-server-0-20171218.tab',\n",
       " '3numa_u80_c2048_26.dat-server-0-20171218.tab',\n",
       " '2numa_u80_c2048_1.dat-server-0-20171218.tab',\n",
       " '4numa_u80_c2048_8.dat-server-0-20171218.tab',\n",
       " '4numa_u80_c2048_28.dat',\n",
       " '4numa_u80_c2048_13.dat-server-0-20171218.tab',\n",
       " '3numa_u80_c2048_19.dat-server-0-20171218.tab',\n",
       " '3numa_u80_c2048_25.dat-server-0-20171218.tab',\n",
       " '4numa_u80_c2048_26.dat',\n",
       " '4numa_u80_c2048_21.dat',\n",
       " '2numa_u80_c2048_26.dat-server-0-20171218.tab',\n",
       " '3numa_u80_c2048_13.dat-server-0-20171218.tab',\n",
       " '2numa_u80_c2048_5.dat',\n",
       " '2numa_u80_c2048_15.dat',\n",
       " '3numa_u80_c2048_7.dat',\n",
       " '3numa_u80_c2048_28.dat',\n",
       " '2numa_u80_c2048_2.dat',\n",
       " '4numa_u80_c2048_9.dat',\n",
       " '2numa_u80_c2048_12.dat',\n",
       " '3numa_u80_c2048_0.dat',\n",
       " '2numa_u80_c2048_10.dat-server-0-20171218.tab',\n",
       " '3numa_u80_c2048_26.dat',\n",
       " '4numa_u80_c2048_7.dat',\n",
       " '4numa_u80_c2048_2.dat-server-0-20171218.tab',\n",
       " '3numa_u80_c2048_7.dat-server-0-20171218.tab',\n",
       " '4numa_u80_c2048_25.dat-server-0-20171218.tab',\n",
       " '3numa_u80_c2048_21.dat',\n",
       " '4numa_u80_c2048_0.dat',\n",
       " '4numa_u80_c2048_19.dat-server-0-20171218.tab',\n",
       " '3numa_u80_c2048_9.dat',\n",
       " '2numa_u80_c2048_13.dat-server-0-20171218.tab',\n",
       " '3numa_u80_c2048_14.dat',\n",
       " '3numa_u80_c2048_13.dat',\n",
       " '3numa_u80_c2048_10.dat-server-0-20171218.tab',\n",
       " '2numa_u80_c2048_29.dat',\n",
       " '4numa_u80_c2048_1.dat-server-0-20171218.tab',\n",
       " '3numa_u80_c2048_4.dat-server-0-20171218.tab',\n",
       " '2numa_u80_c2048_27.dat',\n",
       " '4numa_u80_c2048_26.dat-server-0-20171218.tab',\n",
       " '2numa_u80_c2048_8.dat-server-0-20171218.tab',\n",
       " '2numa_u80_c2048_20.dat',\n",
       " '4numa_u80_c2048_20.dat',\n",
       " '4numa_u80_c2048_4.dat-server-0-20171218.tab',\n",
       " '3numa_u80_c2048_1.dat-server-0-20171218.tab',\n",
       " '4numa_u80_c2048_23.dat-server-0-20171218.tab',\n",
       " '4numa.conf',\n",
       " '4numa_u80_c2048_27.dat',\n",
       " '3numa_u80_c2048_15.dat-server-0-20171218.tab',\n",
       " '3numa_u80_c2048_29.dat-server-0-20171218.tab',\n",
       " '4numa_u80_c2048_29.dat',\n",
       " '2numa_u80_c2048_16.dat-server-0-20171218.tab',\n",
       " '4numa_u80_c2048_7.dat-server-0-20171218.tab',\n",
       " '3numa_u80_c2048_2.dat-server-0-20171218.tab',\n",
       " '4numa_u80_c2048_20.dat-server-0-20171218.tab',\n",
       " '2numa_u80_c2048_15.dat-server-0-20171218.tab',\n",
       " '2numa_u80_c2048_29.dat-server-0-20171218.tab',\n",
       " '4numa_u80_c2048_12.dat',\n",
       " '3numa_u80_c2048_16.dat-server-0-20171218.tab',\n",
       " '4numa_u80_c2048_15.dat',\n",
       " '2numa_u80_c2048_22.dat-server-0-20171218.tab',\n",
       " '4numa_u80_c2048_24.dat',\n",
       " '3numa_u80_c2048_21.dat-server-0-20171218.tab',\n",
       " '4numa_u80_c2048_23.dat',\n",
       " '4numa_u80_c2048_17.dat-server-0-20171218.tab',\n",
       " '3numa_u80_c2048_9.dat-server-0-20171218.tab',\n",
       " '2numa_u80_c2048_5.dat-server-0-20171218.tab',\n",
       " '3numa_u80_c2048_22.dat-server-0-20171218.tab',\n",
       " '4numa_u80_c2048_18.dat',\n",
       " '2numa_u80_c2048_21.dat-server-0-20171218.tab',\n",
       " 'throughput.ipynb',\n",
       " '4numa_u80_c2048_16.dat',\n",
       " '2numa_u80_c2048_6.dat-server-0-20171218.tab',\n",
       " '4numa_u80_c2048_14.dat-server-0-20171218.tab',\n",
       " '4numa_u80_c2048_11.dat',\n",
       " '4numa_u80_c2048_28.dat-server-0-20171218.tab',\n",
       " '2numa_u80_c2048_1.dat',\n",
       " '2numa_u80_c2048_11.dat',\n",
       " '3numa_u80_c2048_3.dat',\n",
       " '4numa_u80_c2048_11.dat-server-0-20171218.tab',\n",
       " '2numa_u80_c2048_3.dat-server-0-20171218.tab',\n",
       " '2numa_u80_c2048_6.dat',\n",
       " '2numa_u80_c2048_16.dat',\n",
       " '3numa_u80_c2048_4.dat',\n",
       " '.ipynb_checkpoints',\n",
       " '2numa_u80_c2048_24.dat-server-0-20171218.tab',\n",
       " '3numa_u80_c2048_22.dat',\n",
       " '2numa_u80_c2048_8.dat',\n",
       " '2numa_u80_c2048_18.dat-server-0-20171218.tab',\n",
       " '4numa_u80_c2048_3.dat',\n",
       " '2numa_u80_c2048_18.dat',\n",
       " '3numa_u80_c2048_25.dat',\n",
       " '3numa_u80_c2048_27.dat-server-0-20171218.tab',\n",
       " '4numa_u80_c2048_4.dat',\n",
       " '3numa_u80_c2048_10.dat',\n",
       " '2numa_u80_c2048_0.dat-server-0-20171218.tab',\n",
       " '4numa_u80_c2048_12.dat-server-0-20171218.tab',\n",
       " '3numa_u80_c2048_17.dat',\n",
       " '4numa_u80_c2048_9.dat-server-0-20171218.tab',\n",
       " '3numa_u80_c2048_24.dat-server-0-20171218.tab',\n",
       " '3numa_u80_c2048_18.dat-server-0-20171218.tab',\n",
       " '3numa_u80_c2048_19.dat',\n",
       " '2numa_u80_c2048_23.dat',\n",
       " '2numa_u80_c2048_24.dat',\n",
       " '2numa_u80_c2048_27.dat-server-0-20171218.tab',\n",
       " '3numa_u80_c2048_12.dat-server-0-20171218.tab',\n",
       " '4numa_u80_c2048_10.dat',\n",
       " '4numa_u80_c2048_17.dat',\n",
       " 'config',\n",
       " '2numa_u80_c2048_11.dat-server-0-20171218.tab',\n",
       " '4numa_u80_c2048_19.dat',\n",
       " '4numa_u80_c2048_18.dat-server-0-20171218.tab',\n",
       " '4numa_u80_c2048_3.dat-server-0-20171218.tab',\n",
       " '3numa_u80_c2048_6.dat-server-0-20171218.tab',\n",
       " '4numa_u80_c2048_24.dat-server-0-20171218.tab',\n",
       " '2numa_u80_c2048_12.dat-server-0-20171218.tab',\n",
       " '3numa_u80_c2048_11.dat-server-0-20171218.tab',\n",
       " '4numa_u80_c2048_22.dat',\n",
       " '4numa_u80_c2048_0.dat-server-0-20171218.tab',\n",
       " '3numa_u80_c2048_5.dat-server-0-20171218.tab',\n",
       " '4numa_u80_c2048_27.dat-server-0-20171218.tab',\n",
       " '2numa_u80_c2048_9.dat-server-0-20171218.tab',\n",
       " '4numa_u80_c2048_25.dat',\n",
       " '2numa_u80_c2048_25.dat',\n",
       " '4numa_u80_c2048_5.dat-server-0-20171218.tab',\n",
       " '3numa_u80_c2048_18.dat',\n",
       " '3numa_u80_c2048_0.dat-server-0-20171218.tab',\n",
       " '2numa_u80_c2048_22.dat',\n",
       " '4numa_u80_c2048_22.dat-server-0-20171218.tab',\n",
       " '3numa_u80_c2048_28.dat-server-0-20171218.tab',\n",
       " '3numa_u80_c2048_16.dat',\n",
       " '3numa_u80_c2048_14.dat-server-0-20171218.tab',\n",
       " '3numa_u80_c2048_11.dat',\n",
       " '2numa_u80_c2048_17.dat-server-0-20171218.tab',\n",
       " '3numa_u80_c2048_24.dat',\n",
       " '4numa_u80_c2048_5.dat',\n",
       " '4numa_u80_c2048_6.dat-server-0-20171218.tab',\n",
       " '3numa_u80_c2048_3.dat-server-0-20171218.tab',\n",
       " '4numa_u80_c2048_21.dat-server-0-20171218.tab',\n",
       " '3numa_u80_c2048_23.dat',\n",
       " '2numa_u80_c2048_9.dat',\n",
       " '2numa_u80_c2048_19.dat',\n",
       " '4numa_u80_c2048_2.dat',\n",
       " '2numa_u80_c2048_28.dat-server-0-20171218.tab',\n",
       " '2numa_u80_c2048_7.dat',\n",
       " '2numa_u80_c2048_17.dat',\n",
       " '3numa_u80_c2048_5.dat',\n",
       " '2numa_u80_c2048_14.dat-server-0-20171218.tab',\n",
       " '2numa_u80_c2048_0.dat',\n",
       " '2numa_u80_c2048_10.dat',\n",
       " '3numa_u80_c2048_2.dat',\n",
       " '3numa_u80_c2048_17.dat-server-0-20171218.tab']"
      ]
     },
     "execution_count": 5,
     "metadata": {},
     "output_type": "execute_result"
    }
   ],
   "source": [
    "dfs = {}\n",
    "os.listdir(\".\")"
   ]
  },
  {
   "cell_type": "code",
   "execution_count": 56,
   "metadata": {
    "scrolled": true
   },
   "outputs": [
    {
     "name": "stdout",
     "output_type": "stream",
     "text": [
      "Working on experiment 1numa...\n",
      "trying to match...\n"
     ]
    },
    {
     "ename": "OSError",
     "evalue": "[Errno 5] Input/output error: '.'",
     "output_type": "error",
     "traceback": [
      "\u001b[0;31m---------------------------------------------------------------------------\u001b[0m",
      "\u001b[0;31mOSError\u001b[0m                                   Traceback (most recent call last)",
      "\u001b[0;32m<ipython-input-56-91e84bcc259d>\u001b[0m in \u001b[0;36m<module>\u001b[0;34m()\u001b[0m\n\u001b[1;32m      6\u001b[0m ]:\n\u001b[1;32m      7\u001b[0m     \u001b[0mprint\u001b[0m \u001b[0;34m(\u001b[0m\u001b[0;34m\"Working on experiment %s...\"\u001b[0m \u001b[0;34m%\u001b[0m \u001b[0mexp\u001b[0m\u001b[0;34m)\u001b[0m\u001b[0;34m\u001b[0m\u001b[0m\n\u001b[0;32m----> 8\u001b[0;31m     \u001b[0mlabel\u001b[0m\u001b[0;34m,\u001b[0m \u001b[0mdf\u001b[0m \u001b[0;34m=\u001b[0m \u001b[0mload_data_and_stats\u001b[0m\u001b[0;34m(\u001b[0m\u001b[0mexp\u001b[0m\u001b[0;34m)\u001b[0m\u001b[0;34m\u001b[0m\u001b[0m\n\u001b[0m\u001b[1;32m      9\u001b[0m     \u001b[0mdf\u001b[0m \u001b[0;34m=\u001b[0m \u001b[0mdf\u001b[0m\u001b[0;34m.\u001b[0m\u001b[0mfillna\u001b[0m\u001b[0;34m(\u001b[0m\u001b[0mdf\u001b[0m\u001b[0;34m.\u001b[0m\u001b[0mmean\u001b[0m\u001b[0;34m(\u001b[0m\u001b[0;34m)\u001b[0m\u001b[0;34m)\u001b[0m\u001b[0;34m\u001b[0m\u001b[0m\n\u001b[1;32m     10\u001b[0m \u001b[0;34m\u001b[0m\u001b[0m\n",
      "\u001b[0;32m<ipython-input-4-db030fc4b889>\u001b[0m in \u001b[0;36mload_data_and_stats\u001b[0;34m(basename)\u001b[0m\n\u001b[1;32m     19\u001b[0m \u001b[0;34m\u001b[0m\u001b[0m\n\u001b[1;32m     20\u001b[0m     \u001b[0mprint\u001b[0m\u001b[0;34m(\u001b[0m\u001b[0;34m\"trying to match...\"\u001b[0m\u001b[0;34m)\u001b[0m\u001b[0;34m\u001b[0m\u001b[0m\n\u001b[0;32m---> 21\u001b[0;31m     \u001b[0;32mfor\u001b[0m \u001b[0mfname\u001b[0m \u001b[0;32min\u001b[0m \u001b[0;34m[\u001b[0m\u001b[0mx\u001b[0m \u001b[0;32mfor\u001b[0m \u001b[0mx\u001b[0m \u001b[0;32min\u001b[0m \u001b[0mos\u001b[0m\u001b[0;34m.\u001b[0m\u001b[0mlistdir\u001b[0m\u001b[0;34m(\u001b[0m\u001b[0;34m\".\"\u001b[0m\u001b[0;34m)\u001b[0m \u001b[0;32mif\u001b[0m \u001b[0mprog\u001b[0m\u001b[0;34m.\u001b[0m\u001b[0mmatch\u001b[0m\u001b[0;34m(\u001b[0m\u001b[0mx\u001b[0m\u001b[0;34m)\u001b[0m\u001b[0;34m]\u001b[0m\u001b[0;34m:\u001b[0m\u001b[0;34m\u001b[0m\u001b[0m\n\u001b[0m\u001b[1;32m     22\u001b[0m         \u001b[0mdf_tput\u001b[0m \u001b[0;34m=\u001b[0m \u001b[0mload_datfile\u001b[0m\u001b[0;34m(\u001b[0m\u001b[0mos\u001b[0m\u001b[0;34m.\u001b[0m\u001b[0mpath\u001b[0m\u001b[0;34m.\u001b[0m\u001b[0mjoin\u001b[0m\u001b[0;34m(\u001b[0m\u001b[0mhome\u001b[0m\u001b[0;34m,\u001b[0m \u001b[0mfname\u001b[0m\u001b[0;34m)\u001b[0m\u001b[0;34m)\u001b[0m\u001b[0;34m\u001b[0m\u001b[0m\n\u001b[1;32m     23\u001b[0m \u001b[0;34m\u001b[0m\u001b[0m\n",
      "\u001b[0;31mOSError\u001b[0m: [Errno 5] Input/output error: '.'"
     ]
    }
   ],
   "source": [
    "for exp in [\n",
    "    \"1numa\",\n",
    "    #\"2numa\",\n",
    "    #\"3numa\",\n",
    "    #\"4numa\"\n",
    "]:\n",
    "    print (\"Working on experiment %s...\" % exp)\n",
    "    label, df = load_data_and_stats(exp)\n",
    "    df = df.fillna(df.mean())\n",
    "    \n",
    "    # Remove rows where ncli != 2048\n",
    "    dfs[exp] = df\n",
    "    "
   ]
  },
  {
   "cell_type": "code",
   "execution_count": null,
   "metadata": {
    "collapsed": true
   },
   "outputs": [],
   "source": [
    "grouped = pd.concat([df for key, df in dfs.items()]).groupby(\"numa\")\n",
    "agged = grouped.agg([np.std, np.mean])"
   ]
  },
  {
   "cell_type": "code",
   "execution_count": null,
   "metadata": {},
   "outputs": [],
   "source": [
    "grouped.get_group(1)"
   ]
  },
  {
   "cell_type": "code",
   "execution_count": null,
   "metadata": {
    "scrolled": false
   },
   "outputs": [],
   "source": [
    "data = []\n",
    "\n",
    "barwidth = 0.5\n",
    "\n",
    "x = [numacount + \" node(s)\" for numacount in \n",
    "    agged.index.astype(int).astype(str)]\n",
    "\n",
    "# Throughput\n",
    "data.append(Bar(\n",
    "    x = x,\n",
    "    y = agged[(\"[CPU]Sys%\", \"mean\")],\n",
    "    yaxis = 'y2',\n",
    "    name = 'CPU Sys%',\n",
    "    width = barwidth,\n",
    "    opacity=0.6\n",
    "))\n",
    "data.append(Bar(\n",
    "    x = x,\n",
    "    y = agged[(\"[CPU]Soft%\", \"mean\")],\n",
    "    yaxis = 'y2',\n",
    "    name = 'CPU Soft%',\n",
    "    width = barwidth,\n",
    "    opacity=0.6\n",
    "))\n",
    "data.append(Bar(\n",
    "    x = x,\n",
    "    y = agged[(\"[CPU]User%\", \"mean\")],\n",
    "    yaxis = 'y2',\n",
    "    name = 'CPU User%',\n",
    "    width = barwidth,\n",
    "    opacity=0.6\n",
    "))\n",
    "\n",
    "for label, df in grouped:\n",
    "    data.append(Box(\n",
    "        y = df[\"throughput\"],\n",
    "        name = \"%s node(s)\" % label,\n",
    "        boxpoints = 'all',\n",
    "        #boxmean = \"sd\",\n",
    "        showlegend = False,\n",
    "        marker = dict(color = \"rgb(8, 81, 156)\",\n",
    "                     size = 3),\n",
    "        jitter = 0.5,\n",
    "    ))\n",
    "\n",
    "    \n",
    "layout = Layout (\n",
    "    xaxis = {'title': 'number of NUMA nodes'},\n",
    "    yaxis = {'title': 'throughput (pps)', 'rangemode': 'tozero'},\n",
    "    yaxis2 = {'title': 'CPU utilization', \n",
    "              'side': 'right', \n",
    "              'overlaying': 'y',\n",
    "              'showgrid': False},\n",
    "    title = 'Small-packet throughput with varying NUMA count: 2048 clients',\n",
    "    #legend = {'x': 0.01, 'y': 1},\n",
    "    #boxmode = \"group\"\n",
    "    barmode = \"stack\",\n",
    "    boxgap = 0.5\n",
    ")\n",
    "\n",
    "fig = Figure(data=data, layout=layout)\n",
    "py.iplot(fig, filename='tcp-cpu-throughput-varynuma-2048cli')"
   ]
  },
  {
   "cell_type": "code",
   "execution_count": 32,
   "metadata": {},
   "outputs": [
    {
     "data": {
      "text/plain": [
       "[numa\n",
       " 4    4.455216\n",
       " dtype: float64, numa\n",
       " 4    27.948884\n",
       " dtype: float64, numa\n",
       " 4    66.858389\n",
       " dtype: float64]"
      ]
     },
     "execution_count": 32,
     "metadata": {},
     "output_type": "execute_result"
    }
   ],
   "source": [
    "ratios = []\n",
    "ratios.append(100*agged[(\"[CPU]User%\", \"mean\")]/agged[(\"[CPU]Totl%\", \"mean\")])\n",
    "ratios.append(100*agged[(\"[CPU]Soft%\", \"mean\")]/agged[(\"[CPU]Totl%\", \"mean\")])\n",
    "ratios.append(100*agged[(\"[CPU]Sys%\", \"mean\")]/agged[(\"[CPU]Totl%\", \"mean\")])\n",
    "ratios"
   ]
  },
  {
   "cell_type": "code",
   "execution_count": 24,
   "metadata": {
    "scrolled": false
   },
   "outputs": [
    {
     "data": {
      "text/html": [
       "<iframe id=\"igraph\" scrolling=\"no\" style=\"border:none;\" seamless=\"seamless\" src=\"https://plot.ly/~theano/30.embed\" height=\"525px\" width=\"100%\"></iframe>"
      ],
      "text/plain": [
       "<plotly.tools.PlotlyDisplay object>"
      ]
     },
     "execution_count": 24,
     "metadata": {},
     "output_type": "execute_result"
    }
   ],
   "source": [
    "data = []\n",
    "\n",
    "i = 1\n",
    "for label, df in grouped:\n",
    "    data.append(Histogram(x=df[\"throughput\"],\n",
    "                          nbinsx=10,\n",
    "                          name=\"%s node(s)\" % label,\n",
    "                          opacity=0.6,\n",
    "                          histnorm=\"probability\"))\n",
    "\n",
    "layout = Layout (\n",
    "    xaxis = {'title': 'throughput (pps)'},\n",
    "    yaxis = {'title': 'frequency'},\n",
    "    title = 'Throughput frequency for varying core counts',\n",
    "    showlegend = True,\n",
    ") \n",
    "fig = Figure(data=data, layout=layout)\n",
    "    \n",
    "py.iplot(fig, filename=\"tput_frequency_durations_ncores\")"
   ]
  },
  {
   "cell_type": "code",
   "execution_count": null,
   "metadata": {
    "collapsed": true
   },
   "outputs": [],
   "source": []
  }
 ],
 "metadata": {
  "kernelspec": {
   "display_name": "Python 3",
   "language": "python",
   "name": "python3"
  },
  "language_info": {
   "codemirror_mode": {
    "name": "ipython",
    "version": 3
   },
   "file_extension": ".py",
   "mimetype": "text/x-python",
   "name": "python",
   "nbconvert_exporter": "python",
   "pygments_lexer": "ipython3",
   "version": "3.6.3"
  }
 },
 "nbformat": 4,
 "nbformat_minor": 2
}
