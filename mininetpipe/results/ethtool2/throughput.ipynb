{
 "cells": [
  {
   "cell_type": "code",
   "execution_count": 1,
   "metadata": {
    "collapsed": true
   },
   "outputs": [],
   "source": [
    "# Messing around with flow hashing to see how it influences throughput\n",
    "# server: 612\n",
    "# client: 614\n",
    "# udp_sd_irqb --> first experiments run on startup.\n",
    "# udp_sdfn_irqb --> change hashing algorithm to include ports.\n",
    "# udp_sdfn_noirqb --> now turn off irqbalance.\n",
    "# udp_sdfn_irqb --> ...and restore irqbalance."
   ]
  },
  {
   "cell_type": "code",
   "execution_count": 2,
   "metadata": {
    "collapsed": false
   },
   "outputs": [],
   "source": [
    "import os\n",
    "import re\n",
    "import pandas as pd\n",
    "import numpy as np\n",
    "\n",
    "import plotly\n",
    "import plotly.plotly as py\n",
    "from plotly.graph_objs import *\n",
    "\n",
    "plotly.tools.set_credentials_file(username='theano', api_key='hkYRYxjyM0aAGA5nmGq1')"
   ]
  },
  {
   "cell_type": "code",
   "execution_count": 3,
   "metadata": {
    "collapsed": true
   },
   "outputs": [],
   "source": [
    "import matplotlib.pyplot as plt\n",
    "\n",
    "import matplotlib\n",
    "matplotlib.style.use('ggplot')"
   ]
  },
  {
   "cell_type": "code",
   "execution_count": 4,
   "metadata": {
    "collapsed": false
   },
   "outputs": [
    {
     "name": "stdout",
     "output_type": "stream",
     "text": [
      "/Users/theano/mountpoint/tsch/mininetpipe/results/ethtool2\n"
     ]
    }
   ],
   "source": [
    "home = os.getcwd()\n",
    "print(home)"
   ]
  },
  {
   "cell_type": "code",
   "execution_count": 5,
   "metadata": {
    "collapsed": true
   },
   "outputs": [],
   "source": [
    "def load_datfile(fpath, proto):\n",
    "    # Returns a dataframe\n",
    "    df = pd.read_csv(fpath, \n",
    "                     index_col=False,\n",
    "                     names=[\"ncli\",proto])\n",
    "    return df"
   ]
  },
  {
   "cell_type": "code",
   "execution_count": 7,
   "metadata": {
    "collapsed": true
   },
   "outputs": [],
   "source": [
    "results_files = [\"udp_sd_irqb.txt\",\n",
    "                 \"udp_sdfn_irqb.txt\", # --> change hashing algorithm to include ports.\n",
    "                 \"udp_sd_noirqb.txt\", # --> default hash, turn off irqbalance\n",
    "                 \"tcp_noirqb.txt\",\n",
    "                 \"tcp_irqb.txt\",\n",
    "                 \"tcp_sdfn_s605c610.txt\",\n",
    "                 \"udp_sdfn_noirqb.txt\"\n",
    "                ]"
   ]
  },
  {
   "cell_type": "code",
   "execution_count": 8,
   "metadata": {
    "collapsed": false
   },
   "outputs": [],
   "source": [
    "gps = []\n",
    "\n",
    "for fname in results_files:\n",
    "    df = load_datfile(os.path.join(home, fname), fname)\n",
    "    gps.append(df.groupby(\"ncli\"))"
   ]
  },
  {
   "cell_type": "code",
   "execution_count": null,
   "metadata": {
    "collapsed": false,
    "scrolled": false
   },
   "outputs": [],
   "source": [
    "fig, ax = plt.subplots(figsize=(8,6))\n",
    "\n",
    "for gp in gps:\n",
    "    gp.mean().plot(ax=ax, yerr=gp.std())\n",
    "\n",
    "ax.title.set_text(\"Small-packet throughput\")\n",
    "\n",
    "ax.set_xlabel(\"# clients\")\n",
    "ax.set_ylabel(\"throughput (pps)\")\n",
    "\n",
    "ax.set_xscale('log', basex=2)\n",
    "#ax.set_yscale('log', basey=10)\n",
    "        \n",
    "ax.legend(loc=2)\n",
    "\n",
    "plt.show()"
   ]
  },
  {
   "cell_type": "code",
   "execution_count": 10,
   "metadata": {
    "collapsed": false
   },
   "outputs": [
    {
     "data": {
      "text/html": [
       "<iframe id=\"igraph\" scrolling=\"no\" style=\"border:none;\" seamless=\"seamless\" src=\"https://plot.ly/~theano/18.embed\" height=\"525px\" width=\"100%\"></iframe>"
      ],
      "text/plain": [
       "<plotly.tools.PlotlyDisplay object>"
      ]
     },
     "execution_count": 10,
     "metadata": {},
     "output_type": "execute_result"
    }
   ],
   "source": [
    "fig = {\n",
    "    'data': [\n",
    "        {\n",
    "            'x': gp.mean().index,\n",
    "            'y': gp.mean()[gp.mean().columns[0]],\n",
    "            'name': gp.mean().columns[0],\n",
    "            'error_y': dict(\n",
    "                type='data',\n",
    "                array=gp.std()[gp.std().columns[0]],\n",
    "                visible=True),\n",
    "        } for gp in gps\n",
    "    ],\n",
    "    'layout': {\n",
    "        'xaxis': {'title': '# clients', 'type': 'log'},\n",
    "        'yaxis': {'title': 'throughput (pps)'},\n",
    "        'title': 'Small-packet throughput'\n",
    "    }\n",
    "}\n",
    "\n",
    "py.iplot(fig, filename=\"somefilename\")"
   ]
  },
  {
   "cell_type": "code",
   "execution_count": null,
   "metadata": {
    "collapsed": true
   },
   "outputs": [],
   "source": []
  }
 ],
 "metadata": {
  "kernelspec": {
   "display_name": "Python 3",
   "language": "python",
   "name": "python3"
  },
  "language_info": {
   "codemirror_mode": {
    "name": "ipython",
    "version": 3
   },
   "file_extension": ".py",
   "mimetype": "text/x-python",
   "name": "python",
   "nbconvert_exporter": "python",
   "pygments_lexer": "ipython3",
   "version": "3.4.3"
  }
 },
 "nbformat": 4,
 "nbformat_minor": 2
}
