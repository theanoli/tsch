{
 "cells": [
  {
   "cell_type": "code",
   "execution_count": 1,
   "metadata": {
    "collapsed": true
   },
   "outputs": [],
   "source": [
    "import os\n",
    "import re\n",
    "import pandas as pd\n",
    "import numpy as np\n",
    "\n",
    "import plotly\n",
    "import plotly.plotly as py\n",
    "from plotly.graph_objs import *\n",
    "\n",
    "plotly.tools.set_credentials_file(username='theano', api_key='hkYRYxjyM0aAGA5nmGq1')"
   ]
  },
  {
   "cell_type": "code",
   "execution_count": 2,
   "metadata": {
    "collapsed": true
   },
   "outputs": [],
   "source": [
    "import matplotlib.pyplot as plt\n",
    "\n",
    "import matplotlib\n",
    "matplotlib.style.use('ggplot')"
   ]
  },
  {
   "cell_type": "code",
   "execution_count": 3,
   "metadata": {},
   "outputs": [
    {
     "name": "stdout",
     "output_type": "stream",
     "text": [
      "/home/theano/mountpoint/tsch/mininetpipe/results/2017-12-07-11-36\n"
     ]
    },
    {
     "data": {
      "text/plain": [
       "['tcp_collect_32serv_0.dat',\n",
       " 'tcp_collect_32serv_0.dat-server-0-20171207.tab',\n",
       " 'tcp_collect_32serv_0.dat-server-0-20171207.tab.gz',\n",
       " 'tcp_collect_32serv_1.dat',\n",
       " 'tcp_collect_32serv_1.dat-server-0-20171207.tab',\n",
       " 'tcp_collect_32serv_1.dat-server-0-20171207.tab.gz',\n",
       " 'tcp_collect_32serv_2.dat',\n",
       " 'tcp_collect_32serv_2.dat-server-0-20171207.tab',\n",
       " 'tcp_collect_32serv_2.dat-server-0-20171207.tab.gz',\n",
       " 'tcp_collect_32serv_3.dat',\n",
       " 'tcp_collect_32serv_3.dat-server-0-20171207.tab',\n",
       " 'tcp_collect_32serv_3.dat-server-0-20171207.tab.gz',\n",
       " 'tcp_collect_32serv_4.dat',\n",
       " 'tcp_collect_32serv_4.dat-server-0-20171207.tab',\n",
       " 'tcp_collect_32serv_4.dat-server-0-20171207.tab.gz']"
      ]
     },
     "execution_count": 3,
     "metadata": {},
     "output_type": "execute_result"
    }
   ],
   "source": [
    "home = os.getcwd()\n",
    "print(home)\n",
    "sorted([x for x in os.listdir(home) if \".dat\" in x])"
   ]
  },
  {
   "cell_type": "code",
   "execution_count": 4,
   "metadata": {
    "collapsed": true
   },
   "outputs": [],
   "source": [
    "def load_datfile(fpath, proto):\n",
    "    # Returns a dataframe\n",
    "    df = pd.read_csv(fpath, \n",
    "                     index_col=False,\n",
    "                     names=[\"ncli\",proto])\n",
    "    return df\n",
    "\n",
    "def aggregate_multiserv(fpath, agg_fpath, nservers=32):\n",
    "    # Writes a results file to the same directory\n",
    "    df = pd.read_csv(fpath,\n",
    "                    index_col=False,\n",
    "                    names=[\"ncli\",\"\"])\n",
    "    \n",
    "    gp = df.groupby(np.arange(len(df)) // nservers)\n",
    "    \n",
    "    if len(gp.size().unique()) > 1:\n",
    "        print(\"Warning: something wrong with this DF\")\n",
    "    \n",
    "    summed = gp.sum()\n",
    "    summed.to_csv(agg_fpath,\n",
    "                  mode=\"a\",\n",
    "                  header=False,\n",
    "                  index=False)\n",
    "    os.rename(fpath, fpath + \"_agged\")"
   ]
  },
  {
   "cell_type": "code",
   "execution_count": 8,
   "metadata": {
    "collapsed": true
   },
   "outputs": [],
   "source": [
    "def get_collectl_means(datnames):\n",
    "    fnames = os.listdir(\".\")\n",
    "    gps = []\n",
    "    \n",
    "    for datname in datnames:\n",
    "        fname = [x for x in fnames if datname + \"-server-0-\" in x][0]\n",
    "        df = pd.read_csv(fname,\n",
    "                        delim_whitespace=True,\n",
    "                        comment=\"#\",\n",
    "                        names=['Date', '[CPU]User%', '[CPU]Nice%', '[CPU]Sys%', '[CPU]Wait%',\n",
    "                               '[CPU]Irq%', '[CPU]Soft%', '[CPU]Steal%', '[CPU]Idle%',\n",
    "                               '[CPU]Totl%', '[CPU]Intrpt/sec', '[CPU]Ctx/sec', '[CPU]Proc/sec',\n",
    "                               '[CPU]ProcQue', '[CPU]ProcRun', '[CPU]L-Avg1', '[CPU]L-Avg5',\n",
    "                               '[CPU]L-Avg15', '[CPU]RunTot', '[CPU]BlkTot'])\n",
    "        gps.append(df.groupby(np.arange(len(df))//20).mean())\n",
    "    \n",
    "    concatenated = pd.concat(gps)\n",
    "    return concatenated.groupby(level=0).mean()"
   ]
  },
  {
   "cell_type": "code",
   "execution_count": 9,
   "metadata": {
    "collapsed": true
   },
   "outputs": [],
   "source": [
    "results = {\n",
    "                 #\"udp_1core\": \"udp_2_1s.txt\", # --> change hashing algorithm to include ports.\n",
    "                 #\"udp_1core\": \"udp_sdfn_irqb.txt\", # --> change hashing algorithm to include ports.\n",
    "                 \"tcp_1core\": \"tcp_1_1s_1core.txt\",\n",
    "                 #\"tcp_1core\": \"tcp_2_1s_1core.txt\",\n",
    "                 #\"tcp_1core_1cli\": \"tcp_irqb.txt\",\n",
    "                 #\"udp_32core\": \"udp_32_servers_rerun.txt\",\n",
    "                 \"tcp_32core\": \"tcp_32core.txt\",\n",
    "                 \"tcp_1core_collectl\": \"tcp_1core_collectl.txt\",\n",
    "                 \"tcp_32core_collectl\": \"tcp_32core_collectl.txt\"\n",
    "}"
   ]
  },
  {
   "cell_type": "code",
   "execution_count": 101,
   "metadata": {
    "collapsed": true
   },
   "outputs": [],
   "source": [
    "for fname in [\n",
    "    #\"tcp_collect_32serv_2.dat\",\n",
    "    #\"tcp_collect_32serv_0.dat\"\n",
    "]:\n",
    "    aggregate_multiserv(os.path.join(home, fname), results[\"tcp_32core_collectl\"])\n",
    "\n",
    "for fname in [\n",
    "    #\"tcp_collect_1serv_1.dat\",\n",
    "    #\"tcp_collect_1serv_2.dat\",\n",
    "    #\"tcp_collect_1serv_0.dat\"\n",
    "]:\n",
    "    aggregate_multiserv(os.path.join(home, fname), results[\"tcp_1core_collectl\"], 1)\n",
    "    \n",
    "    \n",
    "for fname in [\n",
    "    \"tcp_1.dat\",\n",
    "    \"tcp_2.dat\",\n",
    "    \"tcp_3.dat\",\n",
    "]:\n",
    "    aggregate_multiserv(os.path.join(home, fname), results[\"tcp_32core\"])"
   ]
  },
  {
   "cell_type": "code",
   "execution_count": 10,
   "metadata": {
    "collapsed": true
   },
   "outputs": [],
   "source": [
    "gps = []\n",
    "\n",
    "for ftype, fname in sorted(results.items()):\n",
    "    df = load_datfile(os.path.join(home, fname), ftype)\n",
    "    gps.append(df.groupby(\"ncli\"))\n",
    "    \n",
    "cpu_means = get_collectl_means([\"tcp_collect_32serv_1.dat\",\"tcp_collect_32serv_2.dat\"])"
   ]
  },
  {
   "cell_type": "code",
   "execution_count": 13,
   "metadata": {
    "scrolled": false
   },
   "outputs": [
    {
     "data": {
      "text/html": [
       "<iframe id=\"igraph\" scrolling=\"no\" style=\"border:none;\" seamless=\"seamless\" src=\"https://plot.ly/~theano/18.embed\" height=\"525px\" width=\"100%\"></iframe>"
      ],
      "text/plain": [
       "<plotly.tools.PlotlyDisplay object>"
      ]
     },
     "execution_count": 13,
     "metadata": {},
     "output_type": "execute_result"
    }
   ],
   "source": [
    "fig = {\n",
    "    'data': [\n",
    "        {\n",
    "            'x': gp.mean().index,\n",
    "            'y': gp.mean()[gp.mean().columns[0]],\n",
    "            'name': gp.mean().columns[0],\n",
    "            'error_y': dict(\n",
    "                type='data',\n",
    "                array=gp.std()[gp.std().columns[0]],\n",
    "                visible=True\n",
    "            ),\n",
    "        } for gp in gps]\n",
    "    ,\n",
    "    'layout': {\n",
    "        'xaxis': {'title': '# clients', 'type': 'log'},\n",
    "        'yaxis': {'title': 'throughput (pps)'},\n",
    "        'title': 'Small-packet throughput'\n",
    "    }\n",
    "}\n",
    "\n",
    "py.iplot(fig, filename=\"somefilename\")"
   ]
  },
  {
   "cell_type": "code",
   "execution_count": 136,
   "metadata": {},
   "outputs": [
    {
     "data": {
      "text/html": [
       "<iframe id=\"igraph\" scrolling=\"no\" style=\"border:none;\" seamless=\"seamless\" src=\"https://plot.ly/~theano/20.embed\" height=\"525px\" width=\"100%\"></iframe>"
      ],
      "text/plain": [
       "<plotly.tools.PlotlyDisplay object>"
      ]
     },
     "execution_count": 136,
     "metadata": {},
     "output_type": "execute_result"
    }
   ],
   "source": [
    "traces = [Scatter(\n",
    "    x = gp.mean().index,\n",
    "    y = gp.mean()[gp.mean().columns[0]],\n",
    "    name = gp.mean().columns[0],\n",
    "    error_y = dict(\n",
    "        type='data',\n",
    "        array=gp.std()[gp.std().columns[0]],\n",
    "        visible=False\n",
    "    )\n",
    ") for gp in gps]\n",
    "\n",
    "trace2 = Bar(\n",
    "    x = 2**(means.index + 5),\n",
    "    y = means[\"[CPU]Totl%\"],\n",
    "    yaxis = 'y2',\n",
    "    name = 'tcp_cpu_32serv',\n",
    "    width = (2**(means.index + 5))/32\n",
    ")\n",
    "\n",
    "data = traces + [trace2]\n",
    "\n",
    "layout = Layout (\n",
    "    xaxis = {'title': '# clients', 'type': 'log'},\n",
    "    yaxis = {'title': 'throughput (pps)', 'range':[0,1800000]},\n",
    "    yaxis2 = {'title': 'Total CPU utilization', \n",
    "              'side': 'right', \n",
    "              'overlaying': 'y',\n",
    "              'showgrid': False},\n",
    "    title = 'Small-packet throughput',\n",
    "    legend = {'x': 0.01, 'y': 1}\n",
    ")\n",
    "\n",
    "fig = Figure(data=data, layout=layout)\n",
    "\n",
    "py.iplot(fig, filename='cpu-throughput')"
   ]
  },
  {
   "cell_type": "code",
   "execution_count": 29,
   "metadata": {
    "scrolled": false
   },
   "outputs": [
    {
     "data": {
      "text/plain": [
       "'\\nfig, ax = plt.subplots(figsize=(8,6))\\n\\nfor gp in gps:\\n    gp.mean().plot(ax=ax, \\n                   yerr=gp.std(),\\n                  )\\n\\nax.title.set_text(\"Small-packet throughput\")\\n\\nax.set_xlabel(\"# clients\")\\nax.set_ylabel(\"throughput (pps)\")\\n\\nax.set_xscale(\\'log\\', basex=2)\\n#ax.set_yscale(\\'log\\', basey=10)\\n        \\nax.legend(loc=2)\\n\\nplt.show()\\n'"
      ]
     },
     "execution_count": 29,
     "metadata": {},
     "output_type": "execute_result"
    }
   ],
   "source": [
    "# This is just in case I want to use plt; identical in what gets plotted\n",
    "# to the plotly script\n",
    "\n",
    "\"\"\"\n",
    "fig, ax = plt.subplots(figsize=(8,6))\n",
    "\n",
    "for gp in gps:\n",
    "    gp.mean().plot(ax=ax, \n",
    "                   yerr=gp.std(),\n",
    "                  )\n",
    "\n",
    "ax.title.set_text(\"Small-packet throughput\")\n",
    "\n",
    "ax.set_xlabel(\"# clients\")\n",
    "ax.set_ylabel(\"throughput (pps)\")\n",
    "\n",
    "ax.set_xscale('log', basex=2)\n",
    "#ax.set_yscale('log', basey=10)\n",
    "        \n",
    "ax.legend(loc=2)\n",
    "\n",
    "plt.show()\n",
    "\"\"\""
   ]
  },
  {
   "cell_type": "code",
   "execution_count": null,
   "metadata": {
    "collapsed": true
   },
   "outputs": [],
   "source": []
  }
 ],
 "metadata": {
  "kernelspec": {
   "display_name": "Python 3",
   "language": "python",
   "name": "python3"
  },
  "language_info": {
   "codemirror_mode": {
    "name": "ipython",
    "version": 3
   },
   "file_extension": ".py",
   "mimetype": "text/x-python",
   "name": "python",
   "nbconvert_exporter": "python",
   "pygments_lexer": "ipython3",
   "version": "3.5.2"
  }
 },
 "nbformat": 4,
 "nbformat_minor": 2
}
