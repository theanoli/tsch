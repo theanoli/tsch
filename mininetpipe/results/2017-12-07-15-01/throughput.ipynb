{
 "cells": [
  {
   "cell_type": "code",
   "execution_count": 11,
   "metadata": {
    "collapsed": true
   },
   "outputs": [],
   "source": [
    "import os\n",
    "import re\n",
    "import pandas as pd\n",
    "import numpy as np\n",
    "\n",
    "import plotly\n",
    "import plotly.plotly as py\n",
    "from plotly.graph_objs import *\n",
    "\n",
    "plotly.tools.set_credentials_file(username='theano', api_key='hkYRYxjyM0aAGA5nmGq1')"
   ]
  },
  {
   "cell_type": "code",
   "execution_count": 12,
   "metadata": {
    "collapsed": true
   },
   "outputs": [],
   "source": [
    "import matplotlib.pyplot as plt\n",
    "\n",
    "import matplotlib\n",
    "matplotlib.style.use('ggplot')"
   ]
  },
  {
   "cell_type": "code",
   "execution_count": 22,
   "metadata": {},
   "outputs": [
    {
     "name": "stdout",
     "output_type": "stream",
     "text": [
      "/home/theano/mountpoint/tsch/mininetpipe/results/2017-12-07-15-01\n"
     ]
    }
   ],
   "source": [
    "home = os.getcwd()\n",
    "print(home)\n",
    "sorted([x for x in os.listdir(home)])\n",
    "collectl_stats = ['Date', '[CPU]User%', '[CPU]Nice%', '[CPU]Sys%', '[CPU]Wait%',\n",
    "                               '[CPU]Irq%', '[CPU]Soft%', '[CPU]Steal%', '[CPU]Idle%',\n",
    "                               '[CPU]Totl%', '[CPU]Intrpt/sec', '[CPU]Ctx/sec', '[CPU]Proc/sec',\n",
    "                               '[CPU]ProcQue', '[CPU]ProcRun', '[CPU]L-Avg1', '[CPU]L-Avg5',\n",
    "                               '[CPU]L-Avg15', '[CPU]RunTot', '[CPU]BlkTot']"
   ]
  },
  {
   "cell_type": "code",
   "execution_count": 14,
   "metadata": {
    "collapsed": true
   },
   "outputs": [],
   "source": [
    "def load_datfile(fpath, proto):\n",
    "    # Returns a dataframe\n",
    "    df = pd.read_csv(fpath, \n",
    "                     index_col=False,\n",
    "                     names=[\"ncli\",proto])\n",
    "    return df\n",
    "\n",
    "def aggregate_multiserv(fpath, agg_fpath, nservers=64):\n",
    "    # Writes a results file to the same directory\n",
    "    df = pd.read_csv(fpath,\n",
    "                    index_col=False,\n",
    "                    names=[\"ncli\",\"\"])\n",
    "    \n",
    "    gp = df.groupby(np.arange(len(df)) // nservers)\n",
    "    \n",
    "    if len(gp.size().unique()) > 1:\n",
    "        print(\"Warning: something wrong with this DF\")\n",
    "    \n",
    "    summed = gp.sum()\n",
    "    summed.to_csv(agg_fpath,\n",
    "                  mode=\"a\",\n",
    "                  header=False,\n",
    "                  index=False)\n",
    "    os.rename(fpath, fpath + \"_agged\")"
   ]
  },
  {
   "cell_type": "code",
   "execution_count": 45,
   "metadata": {
    "collapsed": true
   },
   "outputs": [],
   "source": [
    "def load_collectl(fname):\n",
    "    df = pd.read_csv(fname,\n",
    "                     delim_whitespace=True,\n",
    "                     comment=\"#\",\n",
    "                     names=collectl_stats)\n",
    "    return df\n",
    "\n",
    "def get_collectl_means(datnames):\n",
    "    fnames = os.listdir(\".\")\n",
    "    gps = []\n",
    "    \n",
    "    for datname in datnames:\n",
    "        fname = [x for x in fnames if datname + \"-server-0-\" in x][0]\n",
    "        df = load_collectl(datname)\n",
    "        gps.append(df.groupby(np.arange(len(df))//20).mean())\n",
    "    \n",
    "    concatenated = pd.concat(gps)\n",
    "    return concatenated.groupby(level=0).mean()"
   ]
  },
  {
   "cell_type": "code",
   "execution_count": 18,
   "metadata": {
    "collapsed": true
   },
   "outputs": [],
   "source": [
    "results = {\n",
    "                 #\"udp_1core\": \"udp_2_1s.txt\", # --> change hashing algorithm to include ports.\n",
    "                 #\"udp_1core\": \"udp_sdfn_irqb.txt\", # --> change hashing algorithm to include ports.\n",
    "                 #\"tcp_1core\": \"tcp_1_1s_1core.txt\",\n",
    "                 #\"tcp_1core\": \"tcp_2_1s_1core.txt\",\n",
    "                 #\"tcp_1core_1cli\": \"tcp_irqb.txt\",\n",
    "                 #\"udp_32core\": \"udp_32_servers_rerun.txt\",\n",
    "                 #\"tcp_32core\": \"tcp_32core.txt\",\n",
    "                 #\"tcp_1core_collectl\": \"tcp_1core_collectl.txt\",\n",
    "                 \"tcp_collect_64serv\": \"tcp_collect_64serv.txt\"\n",
    "}"
   ]
  },
  {
   "cell_type": "code",
   "execution_count": 59,
   "metadata": {},
   "outputs": [],
   "source": [
    "def load_data_and_stats(basename):\n",
    "    pds = []\n",
    "    for fname in [x for x in os.listdir(\".\") if \n",
    "                  (\"server-0\" not in x and basename in x)]:\n",
    "        print (fname)\n",
    "        df_tput = load_datfile(os.path.join(home, fname), \"%s.txt\" % basename)\n",
    "\n",
    "        collectl_fname = [x for x in os.listdir(\".\") if \"%s-server-0\" % fname in x]\n",
    "\n",
    "        if len(collectl_fname) > 0:\n",
    "            df_stats = load_collectl(collectl_fname[0])\n",
    "\n",
    "        pds.append(pd.concat([df_tput.sum(), df_stats.mean()]))\n",
    "    return pd.concat(pds, axis=1).transpose()"
   ]
  },
  {
   "cell_type": "code",
   "execution_count": 60,
   "metadata": {},
   "outputs": [
    {
     "name": "stdout",
     "output_type": "stream",
     "text": [
      "tcp_collect_64serv_23.dat\n",
      "tcp_collect_64serv_24.dat\n",
      "tcp_collect_64serv_5.dat\n",
      "tcp_collect_64serv_51.dat\n",
      "tcp_collect_64serv_2.dat\n",
      "tcp_collect_64serv_18.dat\n",
      "tcp_collect_64serv_11.dat\n",
      "tcp_collect_64serv_16.dat\n",
      "tcp_collect_64serv_40.dat\n",
      "tcp_collect_64serv_47.dat\n",
      "tcp_collect_64serv_35.dat\n",
      "tcp_collect_64serv_49.dat\n",
      "tcp_collect_64serv_32.dat\n",
      "tcp_collect_64serv_17.dat\n",
      "tcp_collect_64serv_10.dat\n",
      "tcp_collect_64serv_19.dat\n",
      "tcp_collect_64serv_50.dat\n",
      "tcp_collect_64serv_3.dat\n",
      "tcp_collect_64serv_4.dat\n",
      "tcp_collect_64serv_25.dat\n",
      "tcp_collect_64serv_22.dat\n",
      "tcp_collect_64serv_33.dat\n",
      "tcp_collect_64serv_34.dat\n",
      "tcp_collect_64serv_48.dat\n",
      "tcp_collect_64serv_46.dat\n",
      "tcp_collect_64serv_41.dat\n",
      "tcp_collect_64serv_37.dat\n",
      "tcp_collect_64serv_30.dat\n",
      "tcp_collect_64serv_42.dat\n",
      "tcp_collect_64serv_39.dat\n",
      "tcp_collect_64serv_45.dat\n",
      "tcp_collect_64serv_13.dat\n",
      "tcp_collect_64serv_14.dat\n",
      "tcp_collect_64serv_7.dat\n",
      "tcp_collect_64serv_28.dat\n",
      "tcp_collect_64serv_53.dat\n",
      "tcp_collect_64serv_0.dat\n",
      "tcp_collect_64serv_21.dat\n",
      "tcp_collect_64serv_9.dat\n",
      "tcp_collect_64serv_26.dat\n",
      "tcp_collect_64serv_38.dat\n",
      "tcp_collect_64serv_44.dat\n",
      "tcp_collect_64serv_43.dat\n",
      "tcp_collect_64serv_31.dat\n",
      "tcp_collect_64serv_36.dat\n",
      "tcp_collect_64serv_8.dat\n",
      "tcp_collect_64serv_27.dat\n",
      "tcp_collect_64serv_20.dat\n",
      "tcp_collect_64serv_52.dat\n",
      "tcp_collect_64serv_1.dat\n",
      "tcp_collect_64serv_6.dat\n",
      "tcp_collect_64serv_29.dat\n",
      "tcp_collect_64serv_15.dat\n",
      "tcp_collect_64serv_12.dat\n"
     ]
    }
   ],
   "source": [
    "data = load_data_and_stats(\"tcp_collect_64serv\")"
   ]
  },
  {
   "cell_type": "code",
   "execution_count": 67,
   "metadata": {},
   "outputs": [
    {
     "data": {
      "image/png": "[encoded data removed]",
      "text/plain": [
       "<matplotlib.figure.Figure at 0x7f2eba56f7f0>"
      ]
     },
     "metadata": {},
     "output_type": "display_data"
    }
   ],
   "source": [
    "data.groupby([\"ncli\"]).mean().plot()\n",
    "plt.show()"
   ]
  },
  {
   "cell_type": "code",
   "execution_count": 101,
   "metadata": {
    "collapsed": true
   },
   "outputs": [],
   "source": [
    "for fname in [\n",
    "    #\"tcp_collect_32serv_2.dat\",\n",
    "    #\"tcp_collect_32serv_0.dat\"\n",
    "]:\n",
    "    aggregate_multiserv(os.path.join(home, fname), results[\"tcp_32core_collectl\"])\n",
    "\n",
    "for fname in [\n",
    "    #\"tcp_collect_1serv_1.dat\",\n",
    "    #\"tcp_collect_1serv_2.dat\",\n",
    "    #\"tcp_collect_1serv_0.dat\"\n",
    "]:\n",
    "    aggregate_multiserv(os.path.join(home, fname), results[\"tcp_1core_collectl\"], 1)\n",
    "    \n",
    "    \n",
    "for fname in [\n",
    "    \"tcp_1.dat\",\n",
    "    \"tcp_2.dat\",\n",
    "    \"tcp_3.dat\",\n",
    "]:\n",
    "    aggregate_multiserv(os.path.join(home, fname), results[\"tcp_32core\"])"
   ]
  },
  {
   "cell_type": "code",
   "execution_count": 10,
   "metadata": {
    "collapsed": true
   },
   "outputs": [],
   "source": [
    "gps = []\n",
    "\n",
    "for ftype, fname in sorted(results.items()):\n",
    "    df = load_datfile(os.path.join(home, fname), ftype)\n",
    "    gps.append(df.groupby(\"ncli\"))\n",
    "    \n",
    "cpu_means = get_collectl_means([\"tcp_collect_32serv_1.dat\",\"tcp_collect_32serv_2.dat\"])"
   ]
  },
  {
   "cell_type": "code",
   "execution_count": 13,
   "metadata": {
    "scrolled": false
   },
   "outputs": [
    {
     "data": {
      "text/html": [
       "<iframe id=\"igraph\" scrolling=\"no\" style=\"border:none;\" seamless=\"seamless\" src=\"https://plot.ly/~theano/18.embed\" height=\"525px\" width=\"100%\"></iframe>"
      ],
      "text/plain": [
       "<plotly.tools.PlotlyDisplay object>"
      ]
     },
     "execution_count": 13,
     "metadata": {},
     "output_type": "execute_result"
    }
   ],
   "source": [
    "fig = {\n",
    "    'data': [\n",
    "        {\n",
    "            'x': gp.mean().index,\n",
    "            'y': gp.mean()[gp.mean().columns[0]],\n",
    "            'name': gp.mean().columns[0],\n",
    "            'error_y': dict(\n",
    "                type='data',\n",
    "                array=gp.std()[gp.std().columns[0]],\n",
    "                visible=True\n",
    "            ),\n",
    "        } for gp in gps]\n",
    "    ,\n",
    "    'layout': {\n",
    "        'xaxis': {'title': '# clients', 'type': 'log'},\n",
    "        'yaxis': {'title': 'throughput (pps)'},\n",
    "        'title': 'Small-packet throughput'\n",
    "    }\n",
    "}\n",
    "\n",
    "py.iplot(fig, filename=\"somefilename\")"
   ]
  },
  {
   "cell_type": "code",
   "execution_count": 136,
   "metadata": {},
   "outputs": [
    {
     "data": {
      "text/html": [
       "<iframe id=\"igraph\" scrolling=\"no\" style=\"border:none;\" seamless=\"seamless\" src=\"https://plot.ly/~theano/20.embed\" height=\"525px\" width=\"100%\"></iframe>"
      ],
      "text/plain": [
       "<plotly.tools.PlotlyDisplay object>"
      ]
     },
     "execution_count": 136,
     "metadata": {},
     "output_type": "execute_result"
    }
   ],
   "source": [
    "traces = [Scatter(\n",
    "    x = gp.mean().index,\n",
    "    y = gp.mean()[gp.mean().columns[0]],\n",
    "    name = gp.mean().columns[0],\n",
    "    error_y = dict(\n",
    "        type='data',\n",
    "        array=gp.std()[gp.std().columns[0]],\n",
    "        visible=False\n",
    "    )\n",
    ") for gp in gps]\n",
    "\n",
    "trace2 = Bar(\n",
    "    x = 2**(means.index + 5),\n",
    "    y = means[\"[CPU]Totl%\"],\n",
    "    yaxis = 'y2',\n",
    "    name = 'tcp_cpu_32serv',\n",
    "    width = (2**(means.index + 5))/32\n",
    ")\n",
    "\n",
    "data = traces + [trace2]\n",
    "\n",
    "layout = Layout (\n",
    "    xaxis = {'title': '# clients', 'type': 'log'},\n",
    "    yaxis = {'title': 'throughput (pps)', 'range':[0,1800000]},\n",
    "    yaxis2 = {'title': 'Total CPU utilization', \n",
    "              'side': 'right', \n",
    "              'overlaying': 'y',\n",
    "              'showgrid': False},\n",
    "    title = 'Small-packet throughput',\n",
    "    legend = {'x': 0.01, 'y': 1}\n",
    ")\n",
    "\n",
    "fig = Figure(data=data, layout=layout)\n",
    "\n",
    "py.iplot(fig, filename='cpu-throughput')"
   ]
  },
  {
   "cell_type": "code",
   "execution_count": 29,
   "metadata": {
    "scrolled": false
   },
   "outputs": [
    {
     "data": {
      "text/plain": [
       "'\\nfig, ax = plt.subplots(figsize=(8,6))\\n\\nfor gp in gps:\\n    gp.mean().plot(ax=ax, \\n                   yerr=gp.std(),\\n                  )\\n\\nax.title.set_text(\"Small-packet throughput\")\\n\\nax.set_xlabel(\"# clients\")\\nax.set_ylabel(\"throughput (pps)\")\\n\\nax.set_xscale(\\'log\\', basex=2)\\n#ax.set_yscale(\\'log\\', basey=10)\\n        \\nax.legend(loc=2)\\n\\nplt.show()\\n'"
      ]
     },
     "execution_count": 29,
     "metadata": {},
     "output_type": "execute_result"
    }
   ],
   "source": [
    "# This is just in case I want to use plt; identical in what gets plotted\n",
    "# to the plotly script\n",
    "\n",
    "\"\"\"\n",
    "fig, ax = plt.subplots(figsize=(8,6))\n",
    "\n",
    "for gp in gps:\n",
    "    gp.mean().plot(ax=ax, \n",
    "                   yerr=gp.std(),\n",
    "                  )\n",
    "\n",
    "ax.title.set_text(\"Small-packet throughput\")\n",
    "\n",
    "ax.set_xlabel(\"# clients\")\n",
    "ax.set_ylabel(\"throughput (pps)\")\n",
    "\n",
    "ax.set_xscale('log', basex=2)\n",
    "#ax.set_yscale('log', basey=10)\n",
    "        \n",
    "ax.legend(loc=2)\n",
    "\n",
    "plt.show()\n",
    "\"\"\""
   ]
  },
  {
   "cell_type": "code",
   "execution_count": null,
   "metadata": {
    "collapsed": true
   },
   "outputs": [],
   "source": []
  }
 ],
 "metadata": {
  "kernelspec": {
   "display_name": "Python 3",
   "language": "python",
   "name": "python3"
  },
  "language_info": {
   "codemirror_mode": {
    "name": "ipython",
    "version": 3
   },
   "file_extension": ".py",
   "mimetype": "text/x-python",
   "name": "python",
   "nbconvert_exporter": "python",
   "pygments_lexer": "ipython3",
   "version": "3.5.2"
  }
 },
 "nbformat": 4,
 "nbformat_minor": 2
}
