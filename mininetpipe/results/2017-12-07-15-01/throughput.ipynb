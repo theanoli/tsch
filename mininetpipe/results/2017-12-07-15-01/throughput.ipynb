{
 "cells": [
  {
   "cell_type": "code",
   "execution_count": 3,
   "metadata": {
    "collapsed": true
   },
   "outputs": [],
   "source": [
    "# To find values within a column...\n",
    "#df.loc[df['column_name'] == some_value]\n",
    "#x = dfs[0][1]\n",
    "#x.loc[x[\"ncli\"] == 8151]"
   ]
  },
  {
   "cell_type": "code",
   "execution_count": 4,
   "metadata": {
    "collapsed": true
   },
   "outputs": [],
   "source": [
    "import os\n",
    "import re\n",
    "import math\n",
    "import pandas as pd\n",
    "import numpy as np\n",
    "\n",
    "import plotly\n",
    "import plotly.plotly as py\n",
    "from plotly.graph_objs import *\n",
    "\n",
    "plotly.tools.set_credentials_file(username='theano', api_key='hkYRYxjyM0aAGA5nmGq1')"
   ]
  },
  {
   "cell_type": "code",
   "execution_count": 5,
   "metadata": {
    "collapsed": true
   },
   "outputs": [],
   "source": [
    "import matplotlib.pyplot as plt\n",
    "\n",
    "import matplotlib\n",
    "matplotlib.style.use('ggplot')"
   ]
  },
  {
   "cell_type": "code",
   "execution_count": 6,
   "metadata": {},
   "outputs": [
    {
     "name": "stdout",
     "output_type": "stream",
     "text": [
      "/home/theano/mountpoint/tsch/mininetpipe/results/2017-12-07-15-01\n"
     ]
    }
   ],
   "source": [
    "home = os.getcwd()\n",
    "print(home)\n",
    "sorted([x for x in os.listdir(home)])\n",
    "collectl_stats = ['Date', '[CPU]User%', '[CPU]Nice%', '[CPU]Sys%', '[CPU]Wait%',\n",
    "                               '[CPU]Irq%', '[CPU]Soft%', '[CPU]Steal%', '[CPU]Idle%',\n",
    "                               '[CPU]Totl%', '[CPU]Intrpt/sec', '[CPU]Ctx/sec', '[CPU]Proc/sec',\n",
    "                               '[CPU]ProcQue', '[CPU]ProcRun', '[CPU]L-Avg1', '[CPU]L-Avg5',\n",
    "                               '[CPU]L-Avg15', '[CPU]RunTot', '[CPU]BlkTot']\n",
    "loaded_files = []\n"
   ]
  },
  {
   "cell_type": "code",
   "execution_count": 7,
   "metadata": {
    "collapsed": true
   },
   "outputs": [],
   "source": [
    "def load_datfile(fpath, proto):\n",
    "    # Returns a dataframe\n",
    "    df = pd.read_csv(fpath, \n",
    "                     index_col=False,\n",
    "                     names=[\"ncli\",proto])\n",
    "    return df\n",
    "\n",
    "\n",
    "def load_collectl(fname):\n",
    "    df = pd.read_csv(fname,\n",
    "                     delim_whitespace=True,\n",
    "                     comment=\"#\",\n",
    "                     names=collectl_stats)\n",
    "    return df\n",
    "\n",
    "def load_data_and_stats(basename):\n",
    "    pds = []\n",
    "    for fname in [x for x in os.listdir(\".\") if \n",
    "                  (\"server-0\" not in x and basename in x)]:\n",
    "        df_tput = load_datfile(os.path.join(home, fname), basename)\n",
    "        \n",
    "        collectl_fname = [x for x in os.listdir(\".\") if \"%s-server-0\" % fname in x]\n",
    "        if len(collectl_fname) > 0:\n",
    "            df_stats = load_collectl(collectl_fname[0])\n",
    "            \n",
    "        newdf = pd.concat([df_tput.sum(), df_stats.mean()])\n",
    "        newdf[\"fname\"] = fname\n",
    "        pds.append(newdf)\n",
    "    return (basename, pd.concat(pds, axis=1).transpose())\n",
    "\n",
    "def load_data_no_sum(basename):\n",
    "    pds = []\n",
    "    for fname in [x for x in os.listdir(\".\") if \n",
    "                  (\"server-0\" not in x and basename in x)]:\n",
    "        df_tput = load_datfile(os.path.join(home, fname), basename)\n",
    "                \n",
    "        collectl_fname = [x for x in os.listdir(\".\") if \"%s-server-0\" % fname in x]\n",
    "        if len(collectl_fname) > 0:\n",
    "            df_stats = load_collectl(collectl_fname[0])\n",
    "        \n",
    "        newdf = pd.concat([df_tput, df_stats])\n",
    "        newdf[\"fname\"] = fname\n",
    "        pds.append(newdf)\n",
    "\n",
    "    return (basename, pd.concat(pds))"
   ]
  },
  {
   "cell_type": "code",
   "execution_count": 8,
   "metadata": {},
   "outputs": [
    {
     "data": {
      "text/plain": [
       "[ncli\n",
       " 64.0       31\n",
       " 128.0      30\n",
       " 256.0      30\n",
       " 512.0      30\n",
       " 1024.0     36\n",
       " 2048.0     30\n",
       " 4096.0     35\n",
       " 8192.0     38\n",
       " 16384.0    31\n",
       " 26824.0     1\n",
       " 32764.0     1\n",
       " 32768.0     3\n",
       " dtype: int64]"
      ]
     },
     "execution_count": 8,
     "metadata": {},
     "output_type": "execute_result"
    }
   ],
   "source": [
    "df = load_data_and_stats(\"tcp_collect\")\n",
    "\n",
    "dfs = [df]\n",
    "groups = [(name, df.drop(\"fname\", axis=1).astype(float).groupby([\"ncli\"])) for name, df in dfs]\n",
    "agged = [(name, gp.mean(), gp.std()) for name, gp in groups]\n",
    "[x.size() for name, x in groups]"
   ]
  },
  {
   "cell_type": "code",
   "execution_count": 10,
   "metadata": {
    "scrolled": false
   },
   "outputs": [
    {
     "data": {
      "text/html": [
       "<iframe id=\"igraph\" scrolling=\"no\" style=\"border:none;\" seamless=\"seamless\" src=\"https://plot.ly/~theano/20.embed\" height=\"525px\" width=\"100%\"></iframe>"
      ],
      "text/plain": [
       "<plotly.tools.PlotlyDisplay object>"
      ]
     },
     "execution_count": 10,
     "metadata": {},
     "output_type": "execute_result"
    }
   ],
   "source": [
    "traces = []\n",
    "barwidth_scalar = 1/4\n",
    "\n",
    "for (name, means, standards) in agged:\n",
    "    barwidth = means.index.values * barwidth_scalar\n",
    "    #barwidth = 10\n",
    "    \n",
    "    # Collectl data\n",
    "    traces.append(Bar(\n",
    "        x = means.index.values,\n",
    "        y = means[\"[CPU]Sys%\"],\n",
    "        yaxis = 'y2',\n",
    "        name = '%s CPU Sys%%' % name,\n",
    "        width = barwidth,\n",
    "        opacity=0.6\n",
    "    ))\n",
    "    traces.append(Bar(\n",
    "        x = means.index.values,\n",
    "        y = means[\"[CPU]Soft%\"],\n",
    "        yaxis = 'y2',\n",
    "        name = '%s CPU Soft%%' % name,\n",
    "        width = barwidth,\n",
    "        opacity=0.6\n",
    "    ))\n",
    "    traces.append(Bar(\n",
    "        x = means.index.values,\n",
    "        y = means[\"[CPU]User%\"],\n",
    "        yaxis = 'y2',\n",
    "        name = '%s CPU User%%' % name,\n",
    "        width = barwidth,\n",
    "        opacity=0.6\n",
    "    ))\n",
    "    \n",
    "    # Throughput\n",
    "    traces.append(Scatter(\n",
    "        x = means.index.values,\n",
    "        y = means[name],\n",
    "        name = name,\n",
    "        error_y = dict(\n",
    "            type='data',\n",
    "            array=standards[name],\n",
    "            visible=True\n",
    "        ),\n",
    "    ))\n",
    "    \n",
    "    \n",
    "layout = Layout (\n",
    "    xaxis = {'title': 'number of clients', 'type': 'log'},\n",
    "    yaxis = {'title': 'throughput (pps)', 'rangemode': 'tozero'},\n",
    "    yaxis2 = {'title': 'CPU utilization', \n",
    "              'side': 'right', \n",
    "              'overlaying': 'y',\n",
    "              'showgrid': False},\n",
    "    title = 'Small-packet throughput',\n",
    "    legend = {'x': 0.01, 'y': 1},\n",
    "    barmode = \"stack\"\n",
    ")\n",
    "\n",
    "fig = Figure(data=traces, layout=layout)\n",
    "\n",
    "py.iplot(fig, filename='cpu-throughput')"
   ]
  },
  {
   "cell_type": "code",
   "execution_count": null,
   "metadata": {
    "collapsed": true
   },
   "outputs": [],
   "source": [
    "traces = []\n",
    "barwidth_scalar = 1/4\n",
    "idx = pd.IndexSlice\n",
    "#barwidth = 2\n",
    "\n",
    "# Collectl data\n",
    "traces.append(Bar(\n",
    "    y = nosum_groups_160_described.loc[:, idx[:, \"mean\"]][(\"[CPU]Totl%\", \"mean\")],\n",
    "    name = \"[CPU]Totl%\",\n",
    "    yaxis = 'y2',\n",
    "    #width = barwidth,\n",
    "    opacity=0.6,\n",
    "))\n",
    "\n",
    "# Throughput\n",
    "traces.append(Scatter(\n",
    "    y = nosum_groups_160_described.loc[:, idx[:, \"mean\"]][(\"tcp_collect\", \"mean\")],\n",
    "    name = \"throughput\",\n",
    "    legendgroup = \"throughput\",        \n",
    "    error_y = dict(\n",
    "        type='data',\n",
    "        array=nosum_groups_160_described.loc[:, idx[:, \"std\"]][(\"tcp_collect\", \"std\")],\n",
    "        visible=True\n",
    "    ),\n",
    "    mode=\"markers\",\n",
    "))\n",
    "    \n",
    "    \n",
    "layout = Layout (\n",
    "    xaxis = {'title': 'individual experiments'},\n",
    "    yaxis = {'title': 'throughput (pps)', 'rangemode': 'tozero'},\n",
    "    yaxis2 = {'title': 'CPU utilization', \n",
    "              'side': 'right', \n",
    "              'overlaying': 'y',\n",
    "              'showgrid': False},\n",
    "    title = 'Cross-core variance in throughput over CPU utilization<br>CPU legend: blue=Sys, orange=User, green=Soft',\n",
    "    legend = {'x': 0.01, 'y': 1},\n",
    "    barmode = \"stack\",\n",
    "    showlegend = True\n",
    ")\n",
    "\n",
    "fig = Figure(data=traces, layout=layout)\n",
    "\n",
    "py.iplot(fig, filename='cpu-throughput')"
   ]
  },
  {
   "cell_type": "code",
   "execution_count": 11,
   "metadata": {},
   "outputs": [
    {
     "name": "stdout",
     "output_type": "stream",
     "text": [
      "This is the format of your plot grid:\n",
      "[ (1,1) x1,y1 ]  [ (1,2) x2,y2 ]\n",
      "[ (2,1) x3,y3 ]  [ (2,2) x4,y4 ]\n",
      "\n"
     ]
    },
    {
     "data": {
      "text/html": [
       "<iframe id=\"igraph\" scrolling=\"no\" style=\"border:none;\" seamless=\"seamless\" src=\"https://plot.ly/~theano/24.embed\" height=\"525px\" width=\"100%\"></iframe>"
      ],
      "text/plain": [
       "<plotly.tools.PlotlyDisplay object>"
      ]
     },
     "execution_count": 11,
     "metadata": {},
     "output_type": "execute_result"
    }
   ],
   "source": [
    "data = []\n",
    "\n",
    "i = 1\n",
    "for label, df in groups[0][1]:\n",
    "    data.append(Histogram(x=df[\"tcp_collect\"],\n",
    "                          nbinsx=20,\n",
    "                          name=\"%ss\" % label,\n",
    "                          opacity=0.6,\n",
    "                          histnorm=\"probability\",\n",
    "                          xaxis='x%d' % i,\n",
    "                          yaxis='y%d' % i))\n",
    "    i += 1\n",
    "        \n",
    "nrows = math.ceil(len(data)/2)\n",
    "fig = plotly.tools.make_subplots(rows=nrows, cols=2)\n",
    "\n",
    "for i, dat in enumerate(data):\n",
    "    fig.append_trace(dat, math.ceil((i+1)/2), (i % 2) + 1)\n",
    "    fig['layout']['xaxis%d' % (i + 1)].update(title='throughput (pps)')\n",
    "    fig['layout']['yaxis%d' % (i + 1)].update(title='frequency')    \n",
    "    \n",
    "fig['layout'].update(title='Throughput frequency for varying experiment durations')\n",
    "    \n",
    "py.iplot(fig, filename=\"somefile\")"
   ]
  },
  {
   "cell_type": "code",
   "execution_count": 12,
   "metadata": {},
   "outputs": [
    {
     "name": "stdout",
     "output_type": "stream",
     "text": [
      "This is the format of your plot grid:\n",
      "[ (1,1) x1,y1 ]  [ (1,2) x2,y2 ]\n",
      "[ (2,1) x3,y3 ]  [ (2,2) x4,y4 ]\n",
      "\n"
     ]
    },
    {
     "data": {
      "text/html": [
       "<iframe id=\"igraph\" scrolling=\"no\" style=\"border:none;\" seamless=\"seamless\" src=\"https://plot.ly/~theano/24.embed\" height=\"525px\" width=\"100%\"></iframe>"
      ],
      "text/plain": [
       "<plotly.tools.PlotlyDisplay object>"
      ]
     },
     "execution_count": 12,
     "metadata": {},
     "output_type": "execute_result"
    }
   ],
   "source": [
    "data = []\n",
    "\n",
    "i = 1\n",
    "for label, df in nosum_gp:\n",
    "    data.append(Histogram(x=df[\"tcp_collect\"],\n",
    "                          nbinsx=40,\n",
    "                          name=\"%ss\" % label,\n",
    "                          opacity=0.6,\n",
    "                          histnorm=\"probability\",\n",
    "                          xaxis='x%d' % i,\n",
    "                          yaxis='y%d' % i))\n",
    "    i += 1\n",
    "        \n",
    "nrows = math.ceil(len(data)/2)\n",
    "fig = plotly.tools.make_subplots(rows=nrows, cols=2)\n",
    "\n",
    "for i, dat in enumerate(data):\n",
    "    fig.append_trace(dat, math.ceil((i+1)/2), (i % 2) + 1)\n",
    "    fig['layout']['xaxis%d' % (i + 1)].update(title='throughput (pps)')\n",
    "    fig['layout']['yaxis%d' % (i + 1)].update(title='frequency')    \n",
    "    \n",
    "fig['layout'].update(title='Per-process throughput frequency for varying experiment durations')\n",
    "    \n",
    "py.iplot(fig, filename=\"somefile\")"
   ]
  },
  {
   "cell_type": "code",
   "execution_count": null,
   "metadata": {
    "collapsed": true
   },
   "outputs": [],
   "source": []
  }
 ],
 "metadata": {
  "kernelspec": {
   "display_name": "Python 3",
   "language": "python",
   "name": "python3"
  },
  "language_info": {
   "codemirror_mode": {
    "name": "ipython",
    "version": 3
   },
   "file_extension": ".py",
   "mimetype": "text/x-python",
   "name": "python",
   "nbconvert_exporter": "python",
   "pygments_lexer": "ipython3",
   "version": "3.5.2"
  }
 },
 "nbformat": 4,
 "nbformat_minor": 2
}
