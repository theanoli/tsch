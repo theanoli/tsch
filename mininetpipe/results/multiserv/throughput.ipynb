{
 "cells": [
  {
   "cell_type": "code",
   "execution_count": 1,
   "metadata": {
    "collapsed": true
   },
   "outputs": [],
   "source": [
    "# Previous experiments:\n",
    "# server: 612\n",
    "# client: 614\n",
    "# udp_sd_irqb --> first experiments run on startup.\n",
    "# udp_sdfn_irqb --> change hashing algorithm to include ports.\n",
    "# udp_sdfn_noirqb --> now turn off irqbalance.\n",
    "# udp_sdfn_irqb --> ...and restore irqbalance.\n",
    "\n",
    "# Multiserver experiments:\n",
    "# s610 --> 32 cores\n",
    "# c609 --> 64 cores"
   ]
  },
  {
   "cell_type": "code",
   "execution_count": 2,
   "metadata": {
    "collapsed": true
   },
   "outputs": [],
   "source": [
    "import os\n",
    "import re\n",
    "import pandas as pd\n",
    "import numpy as np\n",
    "\n",
    "import plotly\n",
    "import plotly.plotly as py\n",
    "from plotly.graph_objs import *\n",
    "\n",
    "plotly.tools.set_credentials_file(username='theano', api_key='hkYRYxjyM0aAGA5nmGq1')"
   ]
  },
  {
   "cell_type": "code",
   "execution_count": 3,
   "metadata": {
    "collapsed": true
   },
   "outputs": [],
   "source": [
    "import matplotlib.pyplot as plt\n",
    "\n",
    "import matplotlib\n",
    "matplotlib.style.use('ggplot')"
   ]
  },
  {
   "cell_type": "code",
   "execution_count": 4,
   "metadata": {},
   "outputs": [
    {
     "name": "stdout",
     "output_type": "stream",
     "text": [
      "/home/theano/mountpoint/tsch/mininetpipe/results/multiserv\n"
     ]
    }
   ],
   "source": [
    "home = os.getcwd()\n",
    "print(home)"
   ]
  },
  {
   "cell_type": "code",
   "execution_count": 5,
   "metadata": {
    "collapsed": true
   },
   "outputs": [],
   "source": [
    "def load_datfile(fpath, proto):\n",
    "    # Returns a dataframe\n",
    "    df = pd.read_csv(fpath, \n",
    "                     index_col=False,\n",
    "                     names=[\"ncli\",proto])\n",
    "    return df\n",
    "\n",
    "def aggregate_multiserv(fpath, agg_fpath):\n",
    "    # Writes a results file to the same directory\n",
    "    df = pd.read_csv(fpath,\n",
    "                    index_col=False,\n",
    "                    names=[\"ncli\",\"\"])\n",
    "    summed = df.groupby([\"ncli\"]).sum()\n",
    "    summed.to_csv(agg_fpath,\n",
    "                  mode=\"a\",\n",
    "                  header=False)\n",
    "    os.rename(fpath, fpath + \"_agged\")"
   ]
  },
  {
   "cell_type": "code",
   "execution_count": 7,
   "metadata": {
    "collapsed": true
   },
   "outputs": [],
   "source": [
    "results_files = [\n",
    "                 # \"udp_sd_irqb.txt\",\n",
    "                 \"udp_sdfn_irqb.txt\", # --> change hashing algorithm to include ports.\n",
    "                 # \"udp_sd_noirqb.txt\", # --> default hash, turn off irqbalance\n",
    "                 # \"tcp_noirqb.txt\",\n",
    "                 \"tcp_irqb.txt\",\n",
    "                 # \"tcp_sdfn_s605c610.txt\",\n",
    "                 # \"udp_allcores_irqb_sdfn.txt\",\n",
    "                 # \"tcp_allcores_irqb.txt\",\n",
    "                 \"tcp_32_servers.txt\",\n",
    "                 \"udp_32_servers.txt\",\n",
    "                 \"tcp_32_servers_64clicores.txt\",\n",
    "                 \"udp_32_servers_64clicores.txt\",\n",
    "                ]"
   ]
  },
  {
   "cell_type": "code",
   "execution_count": 8,
   "metadata": {
    "collapsed": true
   },
   "outputs": [],
   "source": [
    "#for fname in [\"udp_4.txt\",\"udp_5.txt\"]:\n",
    "#    aggregate_multiserv(os.path.join(home, fname), \"udp_32_servers.txt\")\n",
    "    \n",
    "for fname in [\"udp_allclicores_1.txt\"]:\n",
    "    aggregate_multiserv(os.path.join(home, fname), \"udp_32_servers_64clicores.txt\")"
   ]
  },
  {
   "cell_type": "code",
   "execution_count": 9,
   "metadata": {
    "collapsed": true
   },
   "outputs": [],
   "source": [
    "gps = []\n",
    "\n",
    "for fname in results_files:\n",
    "    df = load_datfile(os.path.join(home, fname), fname)\n",
    "    gps.append(df.groupby(\"ncli\"))"
   ]
  },
  {
   "cell_type": "code",
   "execution_count": 10,
   "metadata": {},
   "outputs": [
    {
     "data": {
      "text/html": [
       "<iframe id=\"igraph\" scrolling=\"no\" style=\"border:none;\" seamless=\"seamless\" src=\"https://plot.ly/~theano/18.embed\" height=\"525px\" width=\"100%\"></iframe>"
      ],
      "text/plain": [
       "<plotly.tools.PlotlyDisplay object>"
      ]
     },
     "execution_count": 10,
     "metadata": {},
     "output_type": "execute_result"
    }
   ],
   "source": [
    "fig = {\n",
    "    'data': [\n",
    "        {\n",
    "            'x': gp.mean().index,\n",
    "            'y': gp.mean()[gp.mean().columns[0]],\n",
    "            'name': gp.mean().columns[0],\n",
    "            'error_y': dict(\n",
    "                type='data',\n",
    "                array=gp.std()[gp.std().columns[0]],\n",
    "                visible=True\n",
    "            ),\n",
    "        } for gp in gps\n",
    "    ],\n",
    "    'layout': {\n",
    "        'xaxis': {'title': '# clients', 'type': 'log'},\n",
    "        'yaxis': {'title': 'throughput (pps)'},\n",
    "        'title': 'Small-packet throughput'\n",
    "    }\n",
    "}\n",
    "\n",
    "py.iplot(fig, filename=\"somefilename\")"
   ]
  },
  {
   "cell_type": "code",
   "execution_count": 18,
   "metadata": {
    "scrolled": false
   },
   "outputs": [
    {
     "data": {
      "text/plain": [
       "'\\nfig, ax = plt.subplots(figsize=(8,6))\\n\\nfor gp in gps:\\n    gp.mean().plot(ax=ax, \\n                   yerr=gp.std(),\\n                  )\\n\\nax.title.set_text(\"Small-packet throughput\")\\n\\nax.set_xlabel(\"# clients\")\\nax.set_ylabel(\"throughput (pps)\")\\n\\nax.set_xscale(\\'log\\', basex=2)\\n#ax.set_yscale(\\'log\\', basey=10)\\n        \\nax.legend(loc=2)\\n\\nplt.show()\\n'"
      ]
     },
     "execution_count": 18,
     "metadata": {},
     "output_type": "execute_result"
    }
   ],
   "source": [
    "# This is just in case I want to use plt; identical in what gets plotted\n",
    "# to the plotly script\n",
    "\n",
    "\"\"\"\n",
    "fig, ax = plt.subplots(figsize=(8,6))\n",
    "\n",
    "for gp in gps:\n",
    "    gp.mean().plot(ax=ax, \n",
    "                   yerr=gp.std(),\n",
    "                  )\n",
    "\n",
    "ax.title.set_text(\"Small-packet throughput\")\n",
    "\n",
    "ax.set_xlabel(\"# clients\")\n",
    "ax.set_ylabel(\"throughput (pps)\")\n",
    "\n",
    "ax.set_xscale('log', basex=2)\n",
    "#ax.set_yscale('log', basey=10)\n",
    "        \n",
    "ax.legend(loc=2)\n",
    "\n",
    "plt.show()\n",
    "\"\"\""
   ]
  },
  {
   "cell_type": "code",
   "execution_count": null,
   "metadata": {
    "collapsed": true
   },
   "outputs": [],
   "source": []
  }
 ],
 "metadata": {
  "kernelspec": {
   "display_name": "Python 3",
   "language": "python",
   "name": "python3"
  },
  "language_info": {
   "codemirror_mode": {
    "name": "ipython",
    "version": 3
   },
   "file_extension": ".py",
   "mimetype": "text/x-python",
   "name": "python",
   "nbconvert_exporter": "python",
   "pygments_lexer": "ipython3",
   "version": "3.5.2"
  }
 },
 "nbformat": 4,
 "nbformat_minor": 2
}
