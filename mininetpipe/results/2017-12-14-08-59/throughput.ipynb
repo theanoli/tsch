{
 "cells": [
  {
   "cell_type": "code",
   "execution_count": 1,
   "metadata": {
    "collapsed": true
   },
   "outputs": [],
   "source": [
    "# To find values within a column...\n",
    "#df.loc[df['column_name'] == some_value]\n",
    "#x = dfs[0][1]\n",
    "#x.loc[x[\"ncli\"] == 8151]"
   ]
  },
  {
   "cell_type": "code",
   "execution_count": 2,
   "metadata": {
    "collapsed": true
   },
   "outputs": [],
   "source": [
    "import os\n",
    "import re\n",
    "import math\n",
    "import pandas as pd\n",
    "import numpy as np\n",
    "\n",
    "import plotly\n",
    "import plotly.plotly as py\n",
    "from plotly.graph_objs import *\n",
    "\n",
    "plotly.tools.set_credentials_file(username='theano', api_key='hkYRYxjyM0aAGA5nmGq1')"
   ]
  },
  {
   "cell_type": "code",
   "execution_count": 3,
   "metadata": {
    "collapsed": true
   },
   "outputs": [],
   "source": [
    "import matplotlib.pyplot as plt\n",
    "\n",
    "import matplotlib\n",
    "matplotlib.style.use('ggplot')"
   ]
  },
  {
   "cell_type": "code",
   "execution_count": 4,
   "metadata": {},
   "outputs": [
    {
     "name": "stdout",
     "output_type": "stream",
     "text": [
      "/home/theano/mountpoint/tsch/mininetpipe/results/2017-12-14-08-59\n"
     ]
    }
   ],
   "source": [
    "home = os.getcwd()\n",
    "print(home)\n",
    "sorted([x for x in os.listdir(home)])\n",
    "collectl_stats = ['Date', '[CPU]User%', '[CPU]Nice%', '[CPU]Sys%', '[CPU]Wait%',\n",
    "                               '[CPU]Irq%', '[CPU]Soft%', '[CPU]Steal%', '[CPU]Idle%',\n",
    "                               '[CPU]Totl%', '[CPU]Intrpt/sec', '[CPU]Ctx/sec', '[CPU]Proc/sec',\n",
    "                               '[CPU]ProcQue', '[CPU]ProcRun', '[CPU]L-Avg1', '[CPU]L-Avg5',\n",
    "                               '[CPU]L-Avg15', '[CPU]RunTot', '[CPU]BlkTot']\n",
    "loaded_files = []\n"
   ]
  },
  {
   "cell_type": "code",
   "execution_count": 5,
   "metadata": {
    "collapsed": true
   },
   "outputs": [],
   "source": [
    "def load_datfile(fpath):\n",
    "    # Returns a dataframe\n",
    "    df = pd.read_csv(fpath, \n",
    "                     index_col=False,\n",
    "                     names=[\"ncli\",\"throughput\"])\n",
    "    return df\n",
    "\n",
    "\n",
    "def load_collectl(fname):\n",
    "    df = pd.read_csv(fname,\n",
    "                     delim_whitespace=True,\n",
    "                     comment=\"#\",\n",
    "                     names=collectl_stats)\n",
    "    return df\n",
    "\n",
    "def load_data_and_stats(basename):\n",
    "    pds = []\n",
    "    prog = re.compile(\"%s_u\\d+_\\d+.dat$\" % basename)\n",
    "    \n",
    "    for fname in [x for x in os.listdir(\".\") if prog.match(x)]:\n",
    "        print(fname)\n",
    "        df_tput = load_datfile(os.path.join(home, fname))\n",
    "        \n",
    "        collectl_fname = [x for x in os.listdir(\".\") if \"%s-server-0\" % fname in x]\n",
    "        if len(collectl_fname) > 0:\n",
    "            df_stats = load_collectl(collectl_fname[0])\n",
    "\n",
    "        expduration = int(re.search(\"(?<=_u)\\d+\", fname).group(0))\n",
    "            \n",
    "        newdf = pd.concat([df_tput.sum(), df_stats.mean()])\n",
    "        newdf[\"fname\"] = fname\n",
    "        newdf[\"expduration\"] = expduration\n",
    "        newdf[\"ncores\"] = int(fname.split(\"cores\")[0])        \n",
    "        pds.append(newdf)\n",
    "        \n",
    "    return (basename, pd.concat(pds, axis=1).transpose())\n",
    "\n",
    "def load_data_no_sum(basename):\n",
    "    pds = []\n",
    "    prog = re.compile(\"%s_u\\d+_\\d+.dat$\" % basename)\n",
    "    \n",
    "    for fname in [x for x in os.listdir(\".\") if prog.match(x)]:\n",
    "        df_tput = load_datfile(os.path.join(home, fname))\n",
    "        \n",
    "        expduration = int(re.search(\"(?<=_u)\\d+\", fname).group(0))\n",
    "        \n",
    "        collectl_fname = [x for x in os.listdir(\".\") if \"%s-server-0\" % fname in x]\n",
    "        if len(collectl_fname) > 0:\n",
    "            df_stats = load_collectl(collectl_fname[0])\n",
    "        \n",
    "        newdf = pd.concat([df_tput, df_stats])\n",
    "        newdf[\"expduration\"] = expduration\n",
    "        newdf[\"fname\"] = fname  # for finding weird data\n",
    "        newdf[\"ncores\"] = int(fname.split(\"cores\")[0])\n",
    "        pds.append(newdf)\n",
    "\n",
    "    return (basename, pd.concat(pds).apply(pd.to_numeric, errors='ignore'))"
   ]
  },
  {
   "cell_type": "code",
   "execution_count": 45,
   "metadata": {
    "scrolled": true
   },
   "outputs": [
    {
     "ename": "OSError",
     "evalue": "[Errno 107] Transport endpoint is not connected: '.'",
     "output_type": "error",
     "traceback": [
      "\u001b[0;31m---------------------------------------------------------------------------\u001b[0m",
      "\u001b[0;31mOSError\u001b[0m                                   Traceback (most recent call last)",
      "\u001b[0;32m<ipython-input-45-c6e5b167cead>\u001b[0m in \u001b[0;36m<module>\u001b[0;34m()\u001b[0m\n\u001b[0;32m----> 1\u001b[0;31m \u001b[0mdf1\u001b[0m \u001b[0;34m=\u001b[0m \u001b[0mload_data_and_stats\u001b[0m\u001b[0;34m(\u001b[0m\u001b[0;34m\"32cores\"\u001b[0m\u001b[0;34m)\u001b[0m\u001b[0;34m\u001b[0m\u001b[0m\n\u001b[0m\u001b[1;32m      2\u001b[0m \u001b[0mdf2\u001b[0m \u001b[0;34m=\u001b[0m \u001b[0mload_data_and_stats\u001b[0m\u001b[0;34m(\u001b[0m\u001b[0;34m\"16cores_on\"\u001b[0m\u001b[0;34m)\u001b[0m\u001b[0;34m\u001b[0m\u001b[0m\n\u001b[1;32m      3\u001b[0m \u001b[0mdf3\u001b[0m \u001b[0;34m=\u001b[0m \u001b[0mload_data_and_stats\u001b[0m\u001b[0;34m(\u001b[0m\u001b[0;34m\"8cores\"\u001b[0m\u001b[0;34m)\u001b[0m\u001b[0;34m\u001b[0m\u001b[0m\n",
      "\u001b[0;32m<ipython-input-5-3967bf046dac>\u001b[0m in \u001b[0;36mload_data_and_stats\u001b[0;34m(basename)\u001b[0m\n\u001b[1;32m     18\u001b[0m     \u001b[0mprog\u001b[0m \u001b[0;34m=\u001b[0m \u001b[0mre\u001b[0m\u001b[0;34m.\u001b[0m\u001b[0mcompile\u001b[0m\u001b[0;34m(\u001b[0m\u001b[0;34m\"%s_u\\d+_\\d+.dat$\"\u001b[0m \u001b[0;34m%\u001b[0m \u001b[0mbasename\u001b[0m\u001b[0;34m)\u001b[0m\u001b[0;34m\u001b[0m\u001b[0m\n\u001b[1;32m     19\u001b[0m \u001b[0;34m\u001b[0m\u001b[0m\n\u001b[0;32m---> 20\u001b[0;31m     \u001b[0;32mfor\u001b[0m \u001b[0mfname\u001b[0m \u001b[0;32min\u001b[0m \u001b[0;34m[\u001b[0m\u001b[0mx\u001b[0m \u001b[0;32mfor\u001b[0m \u001b[0mx\u001b[0m \u001b[0;32min\u001b[0m \u001b[0mos\u001b[0m\u001b[0;34m.\u001b[0m\u001b[0mlistdir\u001b[0m\u001b[0;34m(\u001b[0m\u001b[0;34m\".\"\u001b[0m\u001b[0;34m)\u001b[0m \u001b[0;32mif\u001b[0m \u001b[0mprog\u001b[0m\u001b[0;34m.\u001b[0m\u001b[0mmatch\u001b[0m\u001b[0;34m(\u001b[0m\u001b[0mx\u001b[0m\u001b[0;34m)\u001b[0m\u001b[0;34m]\u001b[0m\u001b[0;34m:\u001b[0m\u001b[0;34m\u001b[0m\u001b[0m\n\u001b[0m\u001b[1;32m     21\u001b[0m         \u001b[0mprint\u001b[0m\u001b[0;34m(\u001b[0m\u001b[0mfname\u001b[0m\u001b[0;34m)\u001b[0m\u001b[0;34m\u001b[0m\u001b[0m\n\u001b[1;32m     22\u001b[0m         \u001b[0mdf_tput\u001b[0m \u001b[0;34m=\u001b[0m \u001b[0mload_datfile\u001b[0m\u001b[0;34m(\u001b[0m\u001b[0mos\u001b[0m\u001b[0;34m.\u001b[0m\u001b[0mpath\u001b[0m\u001b[0;34m.\u001b[0m\u001b[0mjoin\u001b[0m\u001b[0;34m(\u001b[0m\u001b[0mhome\u001b[0m\u001b[0;34m,\u001b[0m \u001b[0mfname\u001b[0m\u001b[0;34m)\u001b[0m\u001b[0;34m)\u001b[0m\u001b[0;34m\u001b[0m\u001b[0m\n",
      "\u001b[0;31mOSError\u001b[0m: [Errno 107] Transport endpoint is not connected: '.'"
     ]
    }
   ],
   "source": [
    "df1 = load_data_and_stats(\"32cores\")\n",
    "df2 = load_data_and_stats(\"16cores_on\")\n",
    "df3 = load_data_and_stats(\"8cores\")"
   ]
  },
  {
   "cell_type": "code",
   "execution_count": null,
   "metadata": {
    "collapsed": true
   },
   "outputs": [],
   "source": [
    "df1 = (df1[0], df1[1].loc[df1[1][\"ncli\"] == 2048])\n",
    "df2 = (df2[0], df2[1].loc[df2[1][\"ncli\"] == 2048])\n",
    "df3 = (df3[0], df3[1].loc[df3[1][\"ncli\"] == 2048])\n",
    "\n",
    "dfs = [df1, df2, df3]"
   ]
  },
  {
   "cell_type": "code",
   "execution_count": null,
   "metadata": {},
   "outputs": [],
   "source": [
    "grouped = pd.concat([df.apply(pd.to_numeric, errors='coerce') for name, df in dfs]).groupby(\"ncores\")\n",
    "agged = grouped.agg([np.std, np.mean])"
   ]
  },
  {
   "cell_type": "code",
   "execution_count": null,
   "metadata": {
    "scrolled": false
   },
   "outputs": [],
   "source": [
    "traces = []\n",
    "barwidth_scalar = 1/4\n",
    "idx = pd.IndexSlice\n",
    "\n",
    "barwidth = mean.index * barwidth_scalar\n",
    "\n",
    "mean = agged.loc[:, idx[:, \"mean\"]]\n",
    "std = agged.loc[:, idx[:, \"std\"]]\n",
    "\n",
    "# Collectl data\n",
    "traces.append(Bar(\n",
    "    x = mean.index,\n",
    "    y = mean[(\"[CPU]Sys%\", \"mean\")],\n",
    "    yaxis = 'y2',\n",
    "    name = 'CPU Sys%',\n",
    "    width = barwidth,\n",
    "    opacity=0.6\n",
    "))\n",
    "traces.append(Bar(\n",
    "    x = mean.index,\n",
    "    y = mean[(\"[CPU]Soft%\", \"mean\")],\n",
    "    yaxis = 'y2',\n",
    "    name = 'CPU Soft%',\n",
    "    width = barwidth,\n",
    "    opacity=0.6\n",
    "))\n",
    "traces.append(Bar(\n",
    "    x = mean.index,\n",
    "    y = mean[(\"[CPU]User%\", \"mean\")],\n",
    "    yaxis = 'y2',\n",
    "    name = 'CPU User%',\n",
    "    width = barwidth,\n",
    "    opacity=0.6\n",
    "))\n",
    "\n",
    "# Throughput\n",
    "traces.append(Scatter(\n",
    "    x = mean.index,\n",
    "    y = mean[(\"throughput\", \"mean\")],\n",
    "    name = \"throughput\",\n",
    "    error_y = dict(\n",
    "        type='data',\n",
    "        array=std[(\"throughput\", \"std\")],\n",
    "        visible=True\n",
    "    ),\n",
    "))\n",
    "    \n",
    "    \n",
    "layout = Layout (\n",
    "    xaxis = {'title': 'ncores', 'type': 'log'},\n",
    "    yaxis = {'title': 'throughput (pps)', 'rangemode': 'tozero'},\n",
    "    yaxis2 = {'title': 'CPU utilization', \n",
    "              'side': 'right', \n",
    "              'overlaying': 'y',\n",
    "              'showgrid': False},\n",
    "    title = 'Small-packet throughput',\n",
    "    legend = {'x': 0.01, 'y': 1},\n",
    "    barmode = \"stack\"\n",
    ")\n",
    "\n",
    "fig = Figure(data=traces, layout=layout)\n",
    "\n",
    "py.iplot(fig, filename='tcp-cpu-throughput-varycores-2048cli')"
   ]
  },
  {
   "cell_type": "code",
   "execution_count": 40,
   "metadata": {},
   "outputs": [
    {
     "data": {
      "text/plain": [
       "ncores\n",
       "8     0.004042\n",
       "16    0.179658\n",
       "32    0.200193\n",
       "dtype: float64"
      ]
     },
     "execution_count": 40,
     "metadata": {},
     "output_type": "execute_result"
    }
   ],
   "source": [
    "std[(\"throughput\", \"std\")]/mean[(\"throughput\", \"mean\")]"
   ]
  },
  {
   "cell_type": "code",
   "execution_count": 43,
   "metadata": {
    "scrolled": false
   },
   "outputs": [
    {
     "data": {
      "text/html": [
       "<iframe id=\"igraph\" scrolling=\"no\" style=\"border:none;\" seamless=\"seamless\" src=\"https://plot.ly/~theano/30.embed\" height=\"525px\" width=\"100%\"></iframe>"
      ],
      "text/plain": [
       "<plotly.tools.PlotlyDisplay object>"
      ]
     },
     "execution_count": 43,
     "metadata": {},
     "output_type": "execute_result"
    }
   ],
   "source": [
    "data = []\n",
    "\n",
    "i = 1\n",
    "for label, df in grouped:\n",
    "    data.append(Histogram(x=df[\"throughput\"],\n",
    "                          nbinsx=4,\n",
    "                          name=\"%s cores\" % label,\n",
    "                          opacity=0.6,\n",
    "                          histnorm=\"probability\"))\n",
    "\n",
    "layout = Layout (\n",
    "    xaxis = {'title': 'throughput (pps)'},\n",
    "    yaxis = {'title': 'frequency'},\n",
    "    title = 'Throughput frequency for varying core counts',\n",
    "    showlegend = True,\n",
    ") \n",
    "fig = Figure(data=data, layout=layout)\n",
    "    \n",
    "py.iplot(fig, filename=\"tput_frequency_durations_ncores\")"
   ]
  },
  {
   "cell_type": "code",
   "execution_count": null,
   "metadata": {
    "collapsed": true
   },
   "outputs": [],
   "source": []
  }
 ],
 "metadata": {
  "kernelspec": {
   "display_name": "Python 3",
   "language": "python",
   "name": "python3"
  },
  "language_info": {
   "codemirror_mode": {
    "name": "ipython",
    "version": 3
   },
   "file_extension": ".py",
   "mimetype": "text/x-python",
   "name": "python",
   "nbconvert_exporter": "python",
   "pygments_lexer": "ipython3",
   "version": "3.5.2"
  }
 },
 "nbformat": 4,
 "nbformat_minor": 2
}
