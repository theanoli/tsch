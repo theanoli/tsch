{
 "cells": [
  {
   "cell_type": "code",
   "execution_count": 4,
   "metadata": {
    "collapsed": true
   },
   "outputs": [],
   "source": [
    "# To find values within a column...\n",
    "#df.loc[df['column_name'] == some_value]\n",
    "#x = dfs[0][1]\n",
    "#x.loc[x[\"ncli\"] == 8151]"
   ]
  },
  {
   "cell_type": "code",
   "execution_count": 5,
   "metadata": {},
   "outputs": [
    {
     "name": "stderr",
     "output_type": "stream",
     "text": [
      "IOPub data rate exceeded.\n",
      "The notebook server will temporarily stop sending output\n",
      "to the client in order to avoid crashing it.\n",
      "To change this limit, set the config variable\n",
      "`--NotebookApp.iopub_data_rate_limit`.\n"
     ]
    }
   ],
   "source": [
    "import os\n",
    "import re\n",
    "import math\n",
    "import pandas as pd\n",
    "import numpy as np\n",
    "\n",
    "#import plotly\n",
    "#import plotly.plotly as py\n",
    "from plotly.offline import download_plotlyjs, init_notebook_mode, iplot\n",
    "from plotly.graph_objs import *\n",
    "init_notebook_mode()\n",
    "\n",
    "#plotly.tools.set_credentials_file(username='theano', api_key='hkYRYxjyM0aAGA5nmGq1')"
   ]
  },
  {
   "cell_type": "code",
   "execution_count": 6,
   "metadata": {
    "collapsed": true
   },
   "outputs": [],
   "source": [
    "import matplotlib.pyplot as plt\n",
    "\n",
    "import matplotlib\n",
    "matplotlib.style.use('ggplot')"
   ]
  },
  {
   "cell_type": "code",
   "execution_count": 7,
   "metadata": {},
   "outputs": [
    {
     "name": "stdout",
     "output_type": "stream",
     "text": [
      "/home/theano/mountpoint/tsch/mininetpipe/results/2017-12-19-09-26\n"
     ]
    }
   ],
   "source": [
    "home = os.getcwd()\n",
    "print(home)\n",
    "sorted([x for x in os.listdir(home)])\n",
    "collectl_stats = ['Date', '[CPU]User%', '[CPU]Nice%', '[CPU]Sys%', '[CPU]Wait%',\n",
    "                               '[CPU]Irq%', '[CPU]Soft%', '[CPU]Steal%', '[CPU]Idle%',\n",
    "                               '[CPU]Totl%', '[CPU]Intrpt/sec', '[CPU]Ctx/sec', '[CPU]Proc/sec',\n",
    "                               '[CPU]ProcQue', '[CPU]ProcRun', '[CPU]L-Avg1', '[CPU]L-Avg5',\n",
    "                               '[CPU]L-Avg15', '[CPU]RunTot', '[CPU]BlkTot']\n",
    "loaded_files = []\n"
   ]
  },
  {
   "cell_type": "code",
   "execution_count": 31,
   "metadata": {},
   "outputs": [
    {
     "data": {
      "text/plain": [
       "'def load_data_no_sum(dirname, basename):\\n    pds = []\\n    prog = re.compile(\"%s_\\\\w+\\\\.dat$\" % basename)\\n    \\n    for fname in [x for x in os.listdir(dirname) if prog.match(x)]:\\n        df_tput = load_datfile(os.path.join(dirname, fname))\\n        \\n        expduration = int(re.search(\"(?<=_u)\\\\d+\", fname).group(0))\\n        \\n        collectl_fname = [x for x in os.listdir(dirname) if \"%s-server-0\" % fname in x]\\n        \\n        if len(collectl_fname) > 0:\\n            df_stats = load_collectl(os.path.join(dirname, collectl_fname[0]))\\n            newdf = pd.concat([df_tput, df_stats])\\n        else:\\n            newdf = df_tput\\n        \\n        newdf[\"expduration\"] = expduration\\n        newdf[\"fname\"] = fname  # for finding weird data\\n        newdf[\"ncores\"] = int(fname.split(\"cores\")[0])\\n\\n        pds.append(newdf)\\n\\n    return (basename, pd.concat(pds).apply(pd.to_numeric, errors=\\'coerce\\'))'"
      ]
     },
     "execution_count": 31,
     "metadata": {},
     "output_type": "execute_result"
    }
   ],
   "source": [
    "def load_datfile(fpath):\n",
    "    # Returns a dataframe\n",
    "    df = pd.read_csv(fpath, \n",
    "                     index_col=False,\n",
    "                     names=[\"ncli\",\"throughput\"])\n",
    "    return df\n",
    "\n",
    "\n",
    "def load_collectl(fpath):\n",
    "    df = pd.read_csv(fpath,\n",
    "                     delim_whitespace=True,\n",
    "                     comment=\"#\",\n",
    "                     names=collectl_stats)\n",
    "    return df\n",
    "\n",
    "def load_data_and_stats(dirname, basename, loaded_files):\n",
    "    pds = []\n",
    "    newfiles = []  # files loaded in this module\n",
    "    prog = re.compile(\"%s_\\w+\\.dat$\" % basename)\n",
    "    \n",
    "    for fname in [x for x in os.listdir(dirname) if prog.match(x)]:\n",
    "        fpath = os.path.join(dirname, fname)\n",
    "        if fpath in loaded_files: \n",
    "            # We've already loaded this one\n",
    "            continue\n",
    "        \n",
    "        df_tput = load_datfile(fpath)\n",
    "        \n",
    "        print(\"Loading file %s\" % fpath)\n",
    "        collectl_fname = [x for x in os.listdir(dirname) if \"%s-server-0\" % fname in x]\n",
    "        if len(collectl_fname) > 0:\n",
    "            df_stats = load_collectl(os.path.join(dirname, collectl_fname[0]))\n",
    "            newdf = pd.concat([df_tput.sum(), df_stats.mean()])\n",
    "        else:\n",
    "            newdf = df_tput.sum()\n",
    "        \n",
    "        nclients = re.search(\"(?<=_c)\\d+\", fname)\n",
    "        try:\n",
    "            nclients = int(nclients.group(0))\n",
    "            if newdf[\"ncli\"] != nclients:\n",
    "                print(\"skipping df with %d clients...\" % newdf[\"ncli\"])\n",
    "                continue\n",
    "        except:\n",
    "                print(\"exception\")\n",
    "                continue\n",
    "            \n",
    "        expduration = int(re.search(\"(?<=_u)\\d+\", fname).group(0))\n",
    "        \n",
    "        newdf[\"fname\"] = fname\n",
    "        newdf[\"expduration\"] = expduration\n",
    "        newdf[\"numa\"] = int(fname.split(\"numa\")[0])        \n",
    "     \n",
    "        pds.append(newdf)\n",
    "        newfiles.append(fpath)\n",
    "        \n",
    "    if newfiles == []:\n",
    "        return basename, None, None\n",
    "    else:\n",
    "        return basename, newfiles, (pd.concat(pds, axis=1)\n",
    "                        .transpose()).apply(pd.to_numeric, errors='coerce')\n",
    "\n",
    "\n",
    "\"\"\"def load_data_no_sum(dirname, basename):\n",
    "    pds = []\n",
    "    prog = re.compile(\"%s_\\w+\\.dat$\" % basename)\n",
    "    \n",
    "    for fname in [x for x in os.listdir(dirname) if prog.match(x)]:\n",
    "        df_tput = load_datfile(os.path.join(dirname, fname))\n",
    "        \n",
    "        expduration = int(re.search(\"(?<=_u)\\d+\", fname).group(0))\n",
    "        \n",
    "        collectl_fname = [x for x in os.listdir(dirname) if \"%s-server-0\" % fname in x]\n",
    "        \n",
    "        if len(collectl_fname) > 0:\n",
    "            df_stats = load_collectl(os.path.join(dirname, collectl_fname[0]))\n",
    "            newdf = pd.concat([df_tput, df_stats])\n",
    "        else:\n",
    "            newdf = df_tput\n",
    "        \n",
    "        newdf[\"expduration\"] = expduration\n",
    "        newdf[\"fname\"] = fname  # for finding weird data\n",
    "        newdf[\"ncores\"] = int(fname.split(\"cores\")[0])\n",
    "\n",
    "        pds.append(newdf)\n",
    "\n",
    "    return (basename, pd.concat(pds).apply(pd.to_numeric, errors='coerce'))\"\"\""
   ]
  },
  {
   "cell_type": "code",
   "execution_count": 29,
   "metadata": {
    "collapsed": true
   },
   "outputs": [],
   "source": [
    "otherdata = \"../2017-12-18-12-32\"\n",
    "\n",
    "dfs = {}"
   ]
  },
  {
   "cell_type": "code",
   "execution_count": 44,
   "metadata": {
    "scrolled": true
   },
   "outputs": [
    {
     "name": "stdout",
     "output_type": "stream",
     "text": [
      "\n",
      "Working on experiment 1numa...\n",
      "No df to concatenate for 1numa...\n",
      "\n",
      "Working on experiment 2numa...\n",
      "Loading file ../2017-12-18-12-32/2numa_u80_c2048_29.dat\n",
      "skipping df with 0 clients...\n",
      "No df to concatenate for 2numa...\n",
      "\n",
      "Working on experiment 3numa...\n",
      "No df to concatenate for 3numa...\n",
      "\n",
      "Working on experiment 3numa...\n",
      "Loading file /home/theano/mountpoint/tsch/mininetpipe/results/2017-12-19-09-26/3numa_u80_c2048_13.dat\n",
      "skipping df with 0 clients...\n",
      "Loading file /home/theano/mountpoint/tsch/mininetpipe/results/2017-12-19-09-26/3numa_u80_c2048_12.dat\n",
      "\n",
      "Working on experiment 4numa...\n",
      "No df to concatenate for 4numa...\n"
     ]
    }
   ],
   "source": [
    "# \"remote\"\n",
    "for exp in [\n",
    "    \"1numa\",\n",
    "    \"2numa\",\n",
    "    \"3numa\",\n",
    "    #\"4numa\"\n",
    "]:\n",
    "    print (\"\\nWorking on experiment %s...\" % exp)\n",
    "    \n",
    "    loadedfiles = \"%s_loaded\" % exp\n",
    "    if loadedfiles not in dfs:\n",
    "        dfs[loadedfiles] = []\n",
    "    \n",
    "    label, newfiles, df = load_data_and_stats(otherdata, exp, dfs[loadedfiles])\n",
    "    \n",
    "    if newfiles != None:\n",
    "        dfs[loadedfiles] += newfiles\n",
    "\n",
    "        df = df.fillna(df.mean())\n",
    "\n",
    "        if exp in dfs:\n",
    "            dfs[exp] = pd.concat([dfs[exp]], [df])\n",
    "        else:\n",
    "            dfs[exp] = df\n",
    "    else:\n",
    "        print(\"No df to concatenate for %s...\" % exp)\n",
    "\n",
    "# \"local\"\n",
    "for exp in [\n",
    "    #\"1numa\",\n",
    "    #\"2numa\",\n",
    "    \"3numa\",\n",
    "    \"4numa\"\n",
    "]:\n",
    "    print (\"\\nWorking on experiment %s...\" % exp)\n",
    "    \n",
    "    loadedfiles = \"%s_loaded\" % exp\n",
    "    if loadedfiles not in dfs:\n",
    "        dfs[loadedfiles] = []\n",
    "    \n",
    "    label, newfiles, df = load_data_and_stats(home, exp, dfs[loadedfiles])\n",
    "    \n",
    "    if newfiles != None:\n",
    "        dfs[loadedfiles] += newfiles\n",
    "\n",
    "        df = df.fillna(df.mean())\n",
    "\n",
    "        if exp in dfs:\n",
    "            dfs[exp] = pd.concat([dfs[exp], df])\n",
    "        else:\n",
    "            dfs[exp] = df\n",
    "    else:\n",
    "        print(\"No df to concatenate for %s...\" % exp)"
   ]
  },
  {
   "cell_type": "code",
   "execution_count": 45,
   "metadata": {},
   "outputs": [],
   "source": [
    "grouped = pd.concat([df for key, df in dfs.items() if \"_loaded\" not in key]).groupby(\"numa\")\n",
    "agged = grouped.agg([np.std, np.mean])"
   ]
  },
  {
   "cell_type": "code",
   "execution_count": 46,
   "metadata": {
    "scrolled": false
   },
   "outputs": [
    {
     "data": {
      "application/vnd.plotly.v1+json": {
       "data": [
        {
         "name": "CPU Sys%",
         "opacity": 0.6,
         "type": "bar",
         "width": 0.5,
         "x": [
          "1 node(s)",
          "2 node(s)",
          "3 node(s)",
          "4 node(s)"
         ],
         "y": [
          42.04333333333334,
          54.04181034482758,
          42.66484375,
          27.145208333333333
         ],
         "yaxis": "y2"
        },
        {
         "name": "CPU Soft%",
         "opacity": 0.6,
         "type": "bar",
         "width": 0.5,
         "x": [
          "1 node(s)",
          "2 node(s)",
          "3 node(s)",
          "4 node(s)"
         ],
         "y": [
          22.46625,
          26.786637931034484,
          22.820312499999993,
          12.974999999999998
         ],
         "yaxis": "y2"
        },
        {
         "name": "CPU User%",
         "opacity": 0.6,
         "type": "bar",
         "width": 0.5,
         "x": [
          "1 node(s)",
          "2 node(s)",
          "3 node(s)",
          "4 node(s)"
         ],
         "y": [
          2.4279166666666665,
          2.6155172413793113,
          1.79453125,
          1.1129166666666668
         ],
         "yaxis": "y2"
        },
        {
         "boxpoints": "all",
         "jitter": 0.5,
         "marker": {
          "color": "rgb(8, 81, 156)",
          "size": 3
         },
         "name": "1 node(s)",
         "showlegend": false,
         "type": "box",
         "y": [
          664688.098608,
          661605.0486989999,
          547043.2353569999,
          659734.421118,
          655310.795647,
          658487.8531579999,
          661841.4249469999,
          661950.729642,
          654384.4311330001,
          656129.573318,
          627592.972207,
          661410.12657,
          654924.725632,
          657877.5468930001,
          663967.3693750001,
          661694.5134919999,
          652011.515319,
          656737.761246,
          663386.417269,
          644620.571782,
          655629.489999,
          661032.381388,
          660587.2652690001,
          661332.360788,
          657562.149279,
          659309.8061510001,
          658952.4794839999,
          655604.1654320001,
          663849.806004,
          643312.70484
         ]
        },
        {
         "boxpoints": "all",
         "jitter": 0.5,
         "marker": {
          "color": "rgb(8, 81, 156)",
          "size": 3
         },
         "name": "2 node(s)",
         "showlegend": false,
         "type": "box",
         "y": [
          615394.63218,
          658110.403708,
          675834.157209,
          538253.251107,
          580109.382445,
          672979.214262,
          524688.027752,
          673354.4983749999,
          641980.638826,
          668795.66271,
          655094.196746,
          669750.634089,
          590190.122726,
          666021.4906049999,
          623702.3386440001,
          582408.9475390001,
          663933.877439,
          678837.262322,
          670835.270466,
          654280.7771439999,
          661120.887093,
          673953.2190629999,
          678015.4652700002,
          638859.2955250001,
          647187.89337,
          674474.350431,
          674610.2173149999,
          678491.641372,
          681124.376466
         ]
        },
        {
         "boxpoints": "all",
         "jitter": 0.5,
         "marker": {
          "color": "rgb(8, 81, 156)",
          "size": 3
         },
         "name": "3 node(s)",
         "showlegend": false,
         "type": "box",
         "y": [
          505401.906281,
          537753.939582,
          534400.6547129999,
          539739.745442,
          537983.7683509999,
          535784.9805749999,
          520238.26659,
          535804.50722,
          543574.856169,
          510027.86306999996,
          538362.901683,
          540519.6869,
          537433.138774,
          536271.825132,
          541055.207743,
          535774.096436,
          535785.852634,
          540026.508207,
          539323.8912780001,
          540085.094853,
          536753.1062990001,
          548920.3479,
          538950.440524,
          469336.839632,
          482545.83652400004,
          539656.8467850001,
          536447.8711250001,
          540991.710875,
          540272.47935,
          537253.382052,
          349140.877092,
          343706.40966599993
         ]
        },
        {
         "boxpoints": "all",
         "jitter": 0.5,
         "marker": {
          "color": "rgb(8, 81, 156)",
          "size": 3
         },
         "name": "4 node(s)",
         "showlegend": false,
         "type": "box",
         "y": [
          193172.316047,
          203905.86766400002,
          196121.48122900003,
          200369.222766,
          196501.185403,
          199105.72693,
          193855.608803,
          201370.620267,
          196716.790322,
          199419.11825000003,
          198490.92168600002,
          197315.477159,
          198360.976841,
          199014.518981,
          184071.122241,
          202056.343502,
          198010.415918,
          199351.43700799998,
          202330.385285,
          205522.99988400002,
          193493.992201,
          194857.82470099998,
          191182.085016,
          193539.805541,
          190405.44645400002,
          182524.849886,
          197636.950709,
          200050.81206499998,
          193034.78851399999,
          190210.16289600002,
          199595.27714000002,
          196491.18556800002,
          191635.452658,
          198774.274963,
          197417.40483400002,
          200620.81493999998,
          193776.318571,
          196280.841195,
          190173.56973000002,
          198030.56350400002,
          188937.340953,
          198249.981928,
          197782.17269,
          196101.337539,
          195995.15867299997,
          194404.937055,
          192057.76092000003,
          193462.618364,
          192162.224549,
          191018.34483999998,
          198853.310411,
          202518.304667,
          192219.230064,
          194917.500991,
          198306.947933,
          198730.46931400002,
          188416.321642,
          195560.70893,
          196342.101843,
          200648.457743
         ]
        }
       ],
       "layout": {
        "barmode": "stack",
        "boxgap": 0.5,
        "title": "Small-packet throughput with varying NUMA count<br>2048 clients, 8 CPUs",
        "xaxis": {
         "title": "# NUMA nodes"
        },
        "yaxis": {
         "rangemode": "tozero",
         "title": "throughput (pps)"
        },
        "yaxis2": {
         "overlaying": "y",
         "showgrid": false,
         "side": "right",
         "title": "CPU utilization"
        }
       }
      },
      "text/html": [
       "<div id=\"77d39994-b275-4482-aec2-3269cee1b339\" style=\"height: 525px; width: 100%;\" class=\"plotly-graph-div\"></div><script type=\"text/javascript\">require([\"plotly\"], function(Plotly) { window.PLOTLYENV=window.PLOTLYENV || {};window.PLOTLYENV.BASE_URL=\"https://plot.ly\";Plotly.newPlot(\"77d39994-b275-4482-aec2-3269cee1b339\", [{\"width\": 0.5, \"y\": [42.04333333333334, 54.04181034482758, 42.66484375, 27.145208333333333], \"x\": [\"1 node(s)\", \"2 node(s)\", \"3 node(s)\", \"4 node(s)\"], \"yaxis\": \"y2\", \"type\": \"bar\", \"name\": \"CPU Sys%\", \"opacity\": 0.6}, {\"width\": 0.5, \"y\": [22.46625, 26.786637931034484, 22.820312499999993, 12.974999999999998], \"x\": [\"1 node(s)\", \"2 node(s)\", \"3 node(s)\", \"4 node(s)\"], \"yaxis\": \"y2\", \"type\": \"bar\", \"name\": \"CPU Soft%\", \"opacity\": 0.6}, {\"width\": 0.5, \"y\": [2.4279166666666665, 2.6155172413793113, 1.79453125, 1.1129166666666668], \"x\": [\"1 node(s)\", \"2 node(s)\", \"3 node(s)\", \"4 node(s)\"], \"yaxis\": \"y2\", \"type\": \"bar\", \"name\": \"CPU User%\", \"opacity\": 0.6}, {\"jitter\": 0.5, \"y\": [664688.098608, 661605.0486989999, 547043.2353569999, 659734.421118, 655310.795647, 658487.8531579999, 661841.4249469999, 661950.729642, 654384.4311330001, 656129.573318, 627592.972207, 661410.12657, 654924.725632, 657877.5468930001, 663967.3693750001, 661694.5134919999, 652011.515319, 656737.761246, 663386.417269, 644620.571782, 655629.489999, 661032.381388, 660587.2652690001, 661332.360788, 657562.149279, 659309.8061510001, 658952.4794839999, 655604.1654320001, 663849.806004, 643312.70484], \"marker\": {\"color\": \"rgb(8, 81, 156)\", \"size\": 3}, \"boxpoints\": \"all\", \"type\": \"box\", \"name\": \"1 node(s)\", \"showlegend\": false}, {\"jitter\": 0.5, \"y\": [615394.63218, 658110.403708, 675834.157209, 538253.251107, 580109.382445, 672979.214262, 524688.027752, 673354.4983749999, 641980.638826, 668795.66271, 655094.196746, 669750.634089, 590190.122726, 666021.4906049999, 623702.3386440001, 582408.9475390001, 663933.877439, 678837.262322, 670835.270466, 654280.7771439999, 661120.887093, 673953.2190629999, 678015.4652700002, 638859.2955250001, 647187.89337, 674474.350431, 674610.2173149999, 678491.641372, 681124.376466], \"marker\": {\"color\": \"rgb(8, 81, 156)\", \"size\": 3}, \"boxpoints\": \"all\", \"type\": \"box\", \"name\": \"2 node(s)\", \"showlegend\": false}, {\"jitter\": 0.5, \"y\": [505401.906281, 537753.939582, 534400.6547129999, 539739.745442, 537983.7683509999, 535784.9805749999, 520238.26659, 535804.50722, 543574.856169, 510027.86306999996, 538362.901683, 540519.6869, 537433.138774, 536271.825132, 541055.207743, 535774.096436, 535785.852634, 540026.508207, 539323.8912780001, 540085.094853, 536753.1062990001, 548920.3479, 538950.440524, 469336.839632, 482545.83652400004, 539656.8467850001, 536447.8711250001, 540991.710875, 540272.47935, 537253.382052, 349140.877092, 343706.40966599993], \"marker\": {\"color\": \"rgb(8, 81, 156)\", \"size\": 3}, \"boxpoints\": \"all\", \"type\": \"box\", \"name\": \"3 node(s)\", \"showlegend\": false}, {\"jitter\": 0.5, \"y\": [193172.316047, 203905.86766400002, 196121.48122900003, 200369.222766, 196501.185403, 199105.72693, 193855.608803, 201370.620267, 196716.790322, 199419.11825000003, 198490.92168600002, 197315.477159, 198360.976841, 199014.518981, 184071.122241, 202056.343502, 198010.415918, 199351.43700799998, 202330.385285, 205522.99988400002, 193493.992201, 194857.82470099998, 191182.085016, 193539.805541, 190405.44645400002, 182524.849886, 197636.950709, 200050.81206499998, 193034.78851399999, 190210.16289600002, 199595.27714000002, 196491.18556800002, 191635.452658, 198774.274963, 197417.40483400002, 200620.81493999998, 193776.318571, 196280.841195, 190173.56973000002, 198030.56350400002, 188937.340953, 198249.981928, 197782.17269, 196101.337539, 195995.15867299997, 194404.937055, 192057.76092000003, 193462.618364, 192162.224549, 191018.34483999998, 198853.310411, 202518.304667, 192219.230064, 194917.500991, 198306.947933, 198730.46931400002, 188416.321642, 195560.70893, 196342.101843, 200648.457743], \"marker\": {\"color\": \"rgb(8, 81, 156)\", \"size\": 3}, \"boxpoints\": \"all\", \"type\": \"box\", \"name\": \"4 node(s)\", \"showlegend\": false}], {\"barmode\": \"stack\", \"title\": \"Small-packet throughput with varying NUMA count<br>2048 clients, 8 CPUs\", \"boxgap\": 0.5, \"yaxis\": {\"rangemode\": \"tozero\", \"title\": \"throughput (pps)\"}, \"yaxis2\": {\"overlaying\": \"y\", \"showgrid\": false, \"title\": \"CPU utilization\", \"side\": \"right\"}, \"xaxis\": {\"title\": \"# NUMA nodes\"}}, {\"showLink\": true, \"linkText\": \"Export to plot.ly\"})});</script>"
      ],
      "text/vnd.plotly.v1+html": [
       "<div id=\"77d39994-b275-4482-aec2-3269cee1b339\" style=\"height: 525px; width: 100%;\" class=\"plotly-graph-div\"></div><script type=\"text/javascript\">require([\"plotly\"], function(Plotly) { window.PLOTLYENV=window.PLOTLYENV || {};window.PLOTLYENV.BASE_URL=\"https://plot.ly\";Plotly.newPlot(\"77d39994-b275-4482-aec2-3269cee1b339\", [{\"width\": 0.5, \"y\": [42.04333333333334, 54.04181034482758, 42.66484375, 27.145208333333333], \"x\": [\"1 node(s)\", \"2 node(s)\", \"3 node(s)\", \"4 node(s)\"], \"yaxis\": \"y2\", \"type\": \"bar\", \"name\": \"CPU Sys%\", \"opacity\": 0.6}, {\"width\": 0.5, \"y\": [22.46625, 26.786637931034484, 22.820312499999993, 12.974999999999998], \"x\": [\"1 node(s)\", \"2 node(s)\", \"3 node(s)\", \"4 node(s)\"], \"yaxis\": \"y2\", \"type\": \"bar\", \"name\": \"CPU Soft%\", \"opacity\": 0.6}, {\"width\": 0.5, \"y\": [2.4279166666666665, 2.6155172413793113, 1.79453125, 1.1129166666666668], \"x\": [\"1 node(s)\", \"2 node(s)\", \"3 node(s)\", \"4 node(s)\"], \"yaxis\": \"y2\", \"type\": \"bar\", \"name\": \"CPU User%\", \"opacity\": 0.6}, {\"jitter\": 0.5, \"y\": [664688.098608, 661605.0486989999, 547043.2353569999, 659734.421118, 655310.795647, 658487.8531579999, 661841.4249469999, 661950.729642, 654384.4311330001, 656129.573318, 627592.972207, 661410.12657, 654924.725632, 657877.5468930001, 663967.3693750001, 661694.5134919999, 652011.515319, 656737.761246, 663386.417269, 644620.571782, 655629.489999, 661032.381388, 660587.2652690001, 661332.360788, 657562.149279, 659309.8061510001, 658952.4794839999, 655604.1654320001, 663849.806004, 643312.70484], \"marker\": {\"color\": \"rgb(8, 81, 156)\", \"size\": 3}, \"boxpoints\": \"all\", \"type\": \"box\", \"name\": \"1 node(s)\", \"showlegend\": false}, {\"jitter\": 0.5, \"y\": [615394.63218, 658110.403708, 675834.157209, 538253.251107, 580109.382445, 672979.214262, 524688.027752, 673354.4983749999, 641980.638826, 668795.66271, 655094.196746, 669750.634089, 590190.122726, 666021.4906049999, 623702.3386440001, 582408.9475390001, 663933.877439, 678837.262322, 670835.270466, 654280.7771439999, 661120.887093, 673953.2190629999, 678015.4652700002, 638859.2955250001, 647187.89337, 674474.350431, 674610.2173149999, 678491.641372, 681124.376466], \"marker\": {\"color\": \"rgb(8, 81, 156)\", \"size\": 3}, \"boxpoints\": \"all\", \"type\": \"box\", \"name\": \"2 node(s)\", \"showlegend\": false}, {\"jitter\": 0.5, \"y\": [505401.906281, 537753.939582, 534400.6547129999, 539739.745442, 537983.7683509999, 535784.9805749999, 520238.26659, 535804.50722, 543574.856169, 510027.86306999996, 538362.901683, 540519.6869, 537433.138774, 536271.825132, 541055.207743, 535774.096436, 535785.852634, 540026.508207, 539323.8912780001, 540085.094853, 536753.1062990001, 548920.3479, 538950.440524, 469336.839632, 482545.83652400004, 539656.8467850001, 536447.8711250001, 540991.710875, 540272.47935, 537253.382052, 349140.877092, 343706.40966599993], \"marker\": {\"color\": \"rgb(8, 81, 156)\", \"size\": 3}, \"boxpoints\": \"all\", \"type\": \"box\", \"name\": \"3 node(s)\", \"showlegend\": false}, {\"jitter\": 0.5, \"y\": [193172.316047, 203905.86766400002, 196121.48122900003, 200369.222766, 196501.185403, 199105.72693, 193855.608803, 201370.620267, 196716.790322, 199419.11825000003, 198490.92168600002, 197315.477159, 198360.976841, 199014.518981, 184071.122241, 202056.343502, 198010.415918, 199351.43700799998, 202330.385285, 205522.99988400002, 193493.992201, 194857.82470099998, 191182.085016, 193539.805541, 190405.44645400002, 182524.849886, 197636.950709, 200050.81206499998, 193034.78851399999, 190210.16289600002, 199595.27714000002, 196491.18556800002, 191635.452658, 198774.274963, 197417.40483400002, 200620.81493999998, 193776.318571, 196280.841195, 190173.56973000002, 198030.56350400002, 188937.340953, 198249.981928, 197782.17269, 196101.337539, 195995.15867299997, 194404.937055, 192057.76092000003, 193462.618364, 192162.224549, 191018.34483999998, 198853.310411, 202518.304667, 192219.230064, 194917.500991, 198306.947933, 198730.46931400002, 188416.321642, 195560.70893, 196342.101843, 200648.457743], \"marker\": {\"color\": \"rgb(8, 81, 156)\", \"size\": 3}, \"boxpoints\": \"all\", \"type\": \"box\", \"name\": \"4 node(s)\", \"showlegend\": false}], {\"barmode\": \"stack\", \"title\": \"Small-packet throughput with varying NUMA count<br>2048 clients, 8 CPUs\", \"boxgap\": 0.5, \"yaxis\": {\"rangemode\": \"tozero\", \"title\": \"throughput (pps)\"}, \"yaxis2\": {\"overlaying\": \"y\", \"showgrid\": false, \"title\": \"CPU utilization\", \"side\": \"right\"}, \"xaxis\": {\"title\": \"# NUMA nodes\"}}, {\"showLink\": true, \"linkText\": \"Export to plot.ly\"})});</script>"
      ]
     },
     "metadata": {},
     "output_type": "display_data"
    }
   ],
   "source": [
    "data = []\n",
    "\n",
    "barwidth = 0.5\n",
    "\n",
    "x = [numacount + \" node(s)\" for numacount in \n",
    "    agged.index.astype(int).astype(str)]\n",
    "\n",
    "# Throughput\n",
    "data.append(Bar(\n",
    "    x = x,\n",
    "    y = agged[(\"[CPU]Sys%\", \"mean\")],\n",
    "    yaxis = 'y2',\n",
    "    name = 'CPU Sys%',\n",
    "    width = barwidth,\n",
    "    opacity=0.6\n",
    "))\n",
    "data.append(Bar(\n",
    "    x = x,\n",
    "    y = agged[(\"[CPU]Soft%\", \"mean\")],\n",
    "    yaxis = 'y2',\n",
    "    name = 'CPU Soft%',\n",
    "    width = barwidth,\n",
    "    opacity=0.6\n",
    "))\n",
    "data.append(Bar(\n",
    "    x = x,\n",
    "    y = agged[(\"[CPU]User%\", \"mean\")],\n",
    "    yaxis = 'y2',\n",
    "    name = 'CPU User%',\n",
    "    width = barwidth,\n",
    "    opacity=0.6\n",
    "))\n",
    "\n",
    "for label, df in grouped:\n",
    "    data.append(Box(\n",
    "        y = df[\"throughput\"],\n",
    "        name = \"%s node(s)\" % label,\n",
    "        boxpoints = 'all',\n",
    "        #boxmean = \"sd\",\n",
    "        showlegend = False,\n",
    "        marker = dict(color = \"rgb(8, 81, 156)\",\n",
    "                     size = 3),\n",
    "        jitter = 0.5,\n",
    "    ))\n",
    "\n",
    "    \n",
    "layout = Layout (\n",
    "    xaxis = {'title': '# NUMA nodes'},\n",
    "    yaxis = {'title': 'throughput (pps)', 'rangemode': 'tozero'},\n",
    "    yaxis2 = {'title': 'CPU utilization', \n",
    "              'side': 'right', \n",
    "              'overlaying': 'y',\n",
    "              'showgrid': False},\n",
    "    title = 'Small-packet throughput with varying NUMA count<br>2048 clients, 8 CPUs',\n",
    "    #legend = {'x': 0.01, 'y': 1},\n",
    "    #boxmode = \"group\"\n",
    "    barmode = \"stack\",\n",
    "    boxgap = 0.5\n",
    ")\n",
    "\n",
    "fig = dict(data=data, layout=layout)\n",
    "iplot(fig, filename='tcp-cpu-throughput-varynuma-2048cli')"
   ]
  },
  {
   "cell_type": "code",
   "execution_count": 43,
   "metadata": {},
   "outputs": [
    {
     "data": {
      "text/plain": [
       "[numa\n",
       " 1    3.625064\n",
       " 2    3.134832\n",
       " 3    2.693518\n",
       " 4    2.720680\n",
       " dtype: float64, numa\n",
       " 1    33.543816\n",
       " 2    32.105163\n",
       " 3    33.819746\n",
       " 4    31.719192\n",
       " dtype: float64, numa\n",
       " 1    62.773886\n",
       " 2    64.771888\n",
       " 3    63.576480\n",
       " 4    66.360238\n",
       " dtype: float64]"
      ]
     },
     "execution_count": 43,
     "metadata": {},
     "output_type": "execute_result"
    }
   ],
   "source": [
    "ratios = []\n",
    "ratios.append(100*agged[(\"[CPU]User%\", \"mean\")]/agged[(\"[CPU]Totl%\", \"mean\")])\n",
    "ratios.append(100*agged[(\"[CPU]Soft%\", \"mean\")]/agged[(\"[CPU]Totl%\", \"mean\")])\n",
    "ratios.append(100*agged[(\"[CPU]Sys%\", \"mean\")]/agged[(\"[CPU]Totl%\", \"mean\")])\n",
    "ratios"
   ]
  },
  {
   "cell_type": "code",
   "execution_count": 22,
   "metadata": {
    "scrolled": false
   },
   "outputs": [
    {
     "ename": "NameError",
     "evalue": "name 'py' is not defined",
     "output_type": "error",
     "traceback": [
      "\u001b[0;31m---------------------------------------------------------------------------\u001b[0m",
      "\u001b[0;31mNameError\u001b[0m                                 Traceback (most recent call last)",
      "\u001b[0;32m<ipython-input-22-2f046f03bfe1>\u001b[0m in \u001b[0;36m<module>\u001b[0;34m()\u001b[0m\n\u001b[1;32m     17\u001b[0m \u001b[0mfig\u001b[0m \u001b[0;34m=\u001b[0m \u001b[0mFigure\u001b[0m\u001b[0;34m(\u001b[0m\u001b[0mdata\u001b[0m\u001b[0;34m=\u001b[0m\u001b[0mdata\u001b[0m\u001b[0;34m,\u001b[0m \u001b[0mlayout\u001b[0m\u001b[0;34m=\u001b[0m\u001b[0mlayout\u001b[0m\u001b[0;34m)\u001b[0m\u001b[0;34m\u001b[0m\u001b[0m\n\u001b[1;32m     18\u001b[0m \u001b[0;34m\u001b[0m\u001b[0m\n\u001b[0;32m---> 19\u001b[0;31m \u001b[0mpy\u001b[0m\u001b[0;34m.\u001b[0m\u001b[0miplot\u001b[0m\u001b[0;34m(\u001b[0m\u001b[0mfig\u001b[0m\u001b[0;34m,\u001b[0m \u001b[0mfilename\u001b[0m\u001b[0;34m=\u001b[0m\u001b[0;34m\"tput_frequency_durations_ncores\"\u001b[0m\u001b[0;34m)\u001b[0m\u001b[0;34m\u001b[0m\u001b[0m\n\u001b[0m",
      "\u001b[0;31mNameError\u001b[0m: name 'py' is not defined"
     ]
    }
   ],
   "source": [
    "data = []\n",
    "\n",
    "i = 1\n",
    "for label, df in grouped:\n",
    "    data.append(Histogram(x=df[\"throughput\"],\n",
    "                          nbinsx=10,\n",
    "                          name=\"%s node(s)\" % label,\n",
    "                          opacity=0.6,\n",
    "                          histnorm=\"probability\"))\n",
    "\n",
    "layout = Layout (\n",
    "    xaxis = {'title': 'throughput (pps)'},\n",
    "    yaxis = {'title': 'frequency'},\n",
    "    title = 'Throughput frequency for varying core counts',\n",
    "    showlegend = True,\n",
    ") \n",
    "fig = Figure(data=data, layout=layout)\n",
    "    \n",
    "py.iplot(fig, filename=\"tput_frequency_durations_ncores\")"
   ]
  },
  {
   "cell_type": "code",
   "execution_count": null,
   "metadata": {
    "collapsed": true
   },
   "outputs": [],
   "source": []
  }
 ],
 "metadata": {
  "kernelspec": {
   "display_name": "Python 3",
   "language": "python",
   "name": "python3"
  },
  "language_info": {
   "codemirror_mode": {
    "name": "ipython",
    "version": 3
   },
   "file_extension": ".py",
   "mimetype": "text/x-python",
   "name": "python",
   "nbconvert_exporter": "python",
   "pygments_lexer": "ipython3",
   "version": "3.5.2"
  }
 },
 "nbformat": 4,
 "nbformat_minor": 2
}
