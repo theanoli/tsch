{
 "cells": [
  {
   "cell_type": "code",
   "execution_count": 1,
   "metadata": {
    "collapsed": true
   },
   "outputs": [],
   "source": [
    "import os\n",
    "import re\n",
    "import shutil\n",
    "import subprocess\n",
    "\n",
    "import pandas as pd\n",
    "import numpy as np\n",
    "\n",
    "import plotly.plotly as py\n",
    "from plotly.graph_objs import *"
   ]
  },
  {
   "cell_type": "code",
   "execution_count": 2,
   "metadata": {},
   "outputs": [
    {
     "name": "stdout",
     "output_type": "stream",
     "text": [
      "/home/theano/mountpoint/tsch/mininetpipe\n"
     ]
    }
   ],
   "source": [
    "home = os.getcwd()\n",
    "print(home)"
   ]
  },
  {
   "cell_type": "code",
   "execution_count": 5,
   "metadata": {
    "collapsed": true
   },
   "outputs": [],
   "source": [
    "def remove_file_whitespace(fpath):\n",
    "    # Removes whitespace from output file\n",
    "    # No return value; replaces original .out file\n",
    "    fname = os.path.basename(fpath)\n",
    "\n",
    "    with open(\"tmp.txt\", \"w\") as tmp:\n",
    "        with open(fpath, \"r\") as f:\n",
    "            for line in f:\n",
    "                subbed = re.sub(\"\\s*\", \"\", line.strip())\n",
    "                tmp.write(\"%s\\n\" % subbed)\n",
    "    shutil.move(\"tmp.txt\", fpath)\n",
    "    \n",
    "def convert_to_usec(fpath):\n",
    "    # Converts the file at fpath to us by calling an octave program\n",
    "    # No return value; will write a file fpath.dat\n",
    "    # TODO: decide if this is reasonable or should just skip write-to-file\n",
    "    remove_file_whitespace(fpath)\n",
    "    \n",
    "    subprocess.call([\"octave\", \n",
    "                    os.path.join(home, \"convert_raw_to_usec.oct\"),\n",
    "                   os.path.basename(fpath).split(\".\")[0],\n",
    "                os.path.split(fpath)[:-1][0]])\n",
    "    \n",
    "def load_datfiles(dirname, fname_filter=\"*\"):\n",
    "    # Loads all the files in dirname/, filtered by fname_filter\n",
    "    # Returns a list of (filename, df) tuples\n",
    "    files = os.listdir(dirname)\n",
    "    files = [fname for fname in files \n",
    "             if fname.startswith(fname_filter) and \".out\" in fname]\n",
    "    \n",
    "    dfs = []\n",
    "    \n",
    "    for fname in files: \n",
    "        stem = os.path.join(dirname, fname.split(\".\")[0])\n",
    "        print(\"Working on %s...\" % fname)\n",
    "        if not os.path.exists(stem + \".dat\"):\n",
    "            print(\"Converting to usec...\")\n",
    "            convert_to_usec(stem + \".out\")\n",
    "        dfs.append(load_datfile(stem + \".dat\"))\n",
    "            \n",
    "    return dfs\n",
    "\n",
    "def load_datfile(fpath):\n",
    "    # Returns a (filename, df) tuple where df has latency computed\n",
    "    df = pd.read_csv(fpath, \n",
    "                     index_col=False, \n",
    "                     names=[\"send_secs\", \"recv_secs\"])\n",
    "    df[\"latency(us)\"] = df[\"recv_secs\"] - df[\"send_secs\"]\n",
    "    return (os.path.basename(fpath), df)\n",
    "\n",
    "def plot_multiple_cdfs(df_tuple_list):\n",
    "    # Takes a list of (fname, df) tuples and returns a plotly Fig of a CDF of RTTs\n",
    "    # and a new df where each column is an experiment and values are computed RTTs\n",
    "    # for that experiment\n",
    "    \n",
    "    # Sort by recv-send delay\n",
    "    df_tuple_list.sort(key=lambda x: int(re.sub(\"[^\\d]+\", \"\", x[0].split(\"-\")[-1])))\n",
    "    \n",
    "    dfs = [pd.Series(x[1][\"latency(us)\"], name=x[0]) for x in df_tuple_list]\n",
    "    latencies = pd.concat(dfs, axis=1)\n",
    "    latencies.columns = [\", \".join([x.split(\"-\")[0]] + x.split(\".\")[0].split(\"-\")[2:]) for x in latencies.columns]\n",
    "\n",
    "    data = []\n",
    "    \n",
    "    for column in latencies.columns:\n",
    "        # Bins (bases) returned by np.histogram are open on the RIGHT edge, except the last one: \n",
    "        # [0, 1), [1, 2), ... [n-1, n]\n",
    "        values, base = np.histogram(latencies[column], bins=1000)\n",
    "        cumsum = np.cumsum(values)\n",
    "        \n",
    "        cdf = Scatter(x=base[:-1],\n",
    "                      y=cumsum/float(len(latencies[column])),\n",
    "                      name=column)\n",
    "        data.append(cdf)\n",
    "        \n",
    "    buttons = []\n",
    "    for i, column in enumerate(latencies.columns):\n",
    "        buttons.append(\n",
    "            dict(\n",
    "                args=['visible', [False if x != i else True for x in range(len(latencies.columns))]],\n",
    "                label=column,\n",
    "                method='restyle'\n",
    "            )\n",
    "        )\n",
    "    \n",
    "    buttons.append(\n",
    "        dict(\n",
    "            args=['visible', [True for x in latencies.columns]],\n",
    "            label='All',\n",
    "            method='restyle'\n",
    "        )\n",
    "    )\n",
    "    \n",
    "    layout = Layout(\n",
    "        title=\"CDF of RTT (us)\",\n",
    "        width=900,\n",
    "        height=600,\n",
    "        xaxis={'title' : 'RTT (us)'},\n",
    "        yaxis={'title' : 'frequency'},\n",
    "        updatemenus=list([\n",
    "            dict(\n",
    "                yanchor='top',\n",
    "                buttons=buttons\n",
    "            ),\n",
    "        ]),\n",
    "    )\n",
    "    fig = Figure(data=Data(data), layout=layout)\n",
    "    \n",
    "    return fig, latencies\n",
    "\n",
    "def plot_multiple_hists(df_tuple_list):\n",
    "    # Takes a list of (fname, df) tuples and returns a plotly Fig for a histogram of RTTs\n",
    "    # and a new df where each column is an experiment and values are computed RTTs\n",
    "    # for that experiment\n",
    "    \n",
    "    # Sort by recv-send delay\n",
    "    df_tuple_list.sort(key=lambda x: int(re.sub(\"[^\\d]+\", \"\", x[0].split(\"-\")[-1])))\n",
    "    \n",
    "    dfs = [pd.Series(x[1][\"latency(us)\"], name=x[0]) for x in df_tuple_list]\n",
    "    latencies = pd.concat(dfs, axis=1)\n",
    "    latencies.columns = [\", \".join([x.split(\"-\")[0]] + x.split(\".\")[0].split(\"-\")[2:]) for x in latencies.columns]\n",
    "\n",
    "    data = []\n",
    "    \n",
    "    for column in latencies.columns:\n",
    "        hist = Histogram(x=latencies[column].tolist(),\n",
    "                         opacity=0.6,\n",
    "                         name=column)\n",
    "        data.append(hist)\n",
    "        \n",
    "    buttons = []\n",
    "    for i, column in enumerate(latencies.columns):\n",
    "        buttons.append(\n",
    "            dict(\n",
    "                args=['visible', [False if x != i else True for x in range(len(latencies.columns))]],\n",
    "                label=column,\n",
    "                method='restyle'\n",
    "            )\n",
    "        )\n",
    "    \n",
    "    buttons.append(\n",
    "        dict(\n",
    "            args=['visible', [True for x in latencies.columns]],\n",
    "            label='All',\n",
    "            method='restyle'\n",
    "        )\n",
    "    )\n",
    "    \n",
    "    layout = Layout(\n",
    "        title=\"CDF of RTT (us)\",\n",
    "        width=900,\n",
    "        height=600,\n",
    "        xaxis={'title' : 'RTT (us)'},\n",
    "        yaxis={'title' : 'count'},\n",
    "        barmode='overlay',\n",
    "        updatemenus=list([\n",
    "            dict(\n",
    "                yanchor='top',\n",
    "                buttons=buttons\n",
    "            ),\n",
    "        ]),\n",
    "    )\n",
    "    fig = Figure(data=Data(data), layout=layout)\n",
    "    \n",
    "    return fig, latencies\n",
    "\n",
    "def get_expdir(expname):\n",
    "    # If your exp directory is under \"results\"\n",
    "    return os.path.join(home, \"results\", expname)"
   ]
  },
  {
   "cell_type": "code",
   "execution_count": 6,
   "metadata": {
    "scrolled": false
   },
   "outputs": [
    {
     "name": "stdout",
     "output_type": "stream",
     "text": [
      "Working on TCP-1507734784-r1000000-s640.out...\n",
      "Working on TCP-1507733920-r1000000-s160.out...\n",
      "Working on TCP-1507734229-r1000000-s320.out...\n",
      "Working on TCP-1507733295-r1000000-s20.out...\n",
      "Working on TCP-1507733486-r1000000-s40.out...\n",
      "Working on TCP-1507732990-r1000000-s0.out...\n",
      "Working on TCP-1507733683-r1000000-s80.out...\n",
      "Converting to usec...\n"
     ]
    },
    {
     "data": {
      "text/html": [
       "<iframe id=\"igraph\" scrolling=\"no\" style=\"border:none;\" seamless=\"seamless\" src=\"https://plot.ly/~theano/14.embed\" height=\"600px\" width=\"900px\"></iframe>"
      ],
      "text/plain": [
       "<plotly.tools.PlotlyDisplay object>"
      ]
     },
     "execution_count": 6,
     "metadata": {},
     "output_type": "execute_result"
    }
   ],
   "source": [
    "dfs_tcp = load_datfiles(get_expdir(\"xlong_exps\"), \"TCP\")  # search for files with \"TCP\" in name\n",
    "fig_tcp, latencies_tcp = plot_multiple_cdfs(dfs_tcp)\n",
    "\n",
    "py.iplot(fig_tcp, filename=\"cumulative histogram\")"
   ]
  },
  {
   "cell_type": "code",
   "execution_count": 7,
   "metadata": {
    "scrolled": false
   },
   "outputs": [
    {
     "name": "stdout",
     "output_type": "stream",
     "text": [
      "Working on UDP-1507737518-r1000000-s160.out...\n",
      "Converting to usec...\n",
      "Working on UDP-1507737022-r1000000-s40.out...\n",
      "Converting to usec...\n",
      "Working on UDP-1507737817-r1000000-s320.out...\n",
      "Converting to usec...\n",
      "Working on UDP-1507738311-r1000000-s640.out...\n",
      "Converting to usec...\n",
      "Working on UDP-1507736871-r1000000-s20.out...\n",
      "Converting to usec...\n",
      "Working on UDP-1507737283-r1000000-s80.out...\n",
      "Converting to usec...\n",
      "Working on UDP-1507736742-r1000000-s0.out...\n",
      "Converting to usec...\n"
     ]
    },
    {
     "data": {
      "text/html": [
       "<iframe id=\"igraph\" scrolling=\"no\" style=\"border:none;\" seamless=\"seamless\" src=\"https://plot.ly/~theano/14.embed\" height=\"600px\" width=\"900px\"></iframe>"
      ],
      "text/plain": [
       "<plotly.tools.PlotlyDisplay object>"
      ]
     },
     "execution_count": 7,
     "metadata": {},
     "output_type": "execute_result"
    }
   ],
   "source": [
    "dfs_udp = load_datfiles(get_expdir(\"xlong_exps\"), \"UDP\")  # search for files with \"TCP\" in name\n",
    "fig_udp, latencies_udp = plot_multiple_cdfs(dfs_udp)\n",
    "\n",
    "py.iplot(fig_udp, filename=\"cumulative histogram\")"
   ]
  },
  {
   "cell_type": "code",
   "execution_count": 10,
   "metadata": {},
   "outputs": [
    {
     "name": "stdout",
     "output_type": "stream",
     "text": [
      "Working on mTCP-1507729668-r1000000-s80.out...\n",
      "Working on mTCP-1507730539-r1000000-s640.out...\n",
      "Working on mTCP-1507729227-r1000000-s0.out...\n",
      "Working on mTCP-1507729326-r1000000-s20.out...\n",
      "Working on mTCP-1507729477-r1000000-s40.out...\n",
      "Working on mTCP-1507731297-r1000000-s1280.out...\n",
      "Working on mTCP-1507729847-r1000000-s160.out...\n",
      "Working on mTCP-1507730119-r1000000-s320.out...\n"
     ]
    },
    {
     "ename": "ValueError",
     "evalue": "range parameter must be finite.",
     "output_type": "error",
     "traceback": [
      "\u001b[0;31m---------------------------------------------------------------------------\u001b[0m",
      "\u001b[0;31mValueError\u001b[0m                                Traceback (most recent call last)",
      "\u001b[0;32m<ipython-input-10-502c969a5de6>\u001b[0m in \u001b[0;36m<module>\u001b[0;34m()\u001b[0m\n\u001b[1;32m      1\u001b[0m \u001b[0mdfs_mtcp\u001b[0m \u001b[0;34m=\u001b[0m \u001b[0mload_datfiles\u001b[0m\u001b[0;34m(\u001b[0m\u001b[0mget_expdir\u001b[0m\u001b[0;34m(\u001b[0m\u001b[0;34m\"xlong_exps\"\u001b[0m\u001b[0;34m)\u001b[0m\u001b[0;34m,\u001b[0m \u001b[0;34m\"mTCP\"\u001b[0m\u001b[0;34m)\u001b[0m  \u001b[0;31m# search for files with \"TCP\" in name\u001b[0m\u001b[0;34m\u001b[0m\u001b[0m\n\u001b[0;32m----> 2\u001b[0;31m \u001b[0mfig_mtcp\u001b[0m\u001b[0;34m,\u001b[0m \u001b[0mlatencies_udp\u001b[0m \u001b[0;34m=\u001b[0m \u001b[0mplot_multiple_cdfs\u001b[0m\u001b[0;34m(\u001b[0m\u001b[0mdfs_mtcp\u001b[0m\u001b[0;34m)\u001b[0m\u001b[0;34m\u001b[0m\u001b[0m\n\u001b[0m\u001b[1;32m      3\u001b[0m \u001b[0;34m\u001b[0m\u001b[0m\n\u001b[1;32m      4\u001b[0m \u001b[0mpy\u001b[0m\u001b[0;34m.\u001b[0m\u001b[0miplot\u001b[0m\u001b[0;34m(\u001b[0m\u001b[0mfig_mtcp\u001b[0m\u001b[0;34m,\u001b[0m \u001b[0mfilename\u001b[0m\u001b[0;34m=\u001b[0m\u001b[0;34m\"cumulative histogram\"\u001b[0m\u001b[0;34m)\u001b[0m\u001b[0;34m\u001b[0m\u001b[0m\n",
      "\u001b[0;32m<ipython-input-5-7bd730fa9759>\u001b[0m in \u001b[0;36mplot_multiple_cdfs\u001b[0;34m(df_tuple_list)\u001b[0m\n\u001b[1;32m     66\u001b[0m         \u001b[0;31m# Bins (bases) returned by np.histogram are open on the RIGHT edge, except the last one:\u001b[0m\u001b[0;34m\u001b[0m\u001b[0;34m\u001b[0m\u001b[0m\n\u001b[1;32m     67\u001b[0m         \u001b[0;31m# [0, 1), [1, 2), ... [n-1, n]\u001b[0m\u001b[0;34m\u001b[0m\u001b[0;34m\u001b[0m\u001b[0m\n\u001b[0;32m---> 68\u001b[0;31m         \u001b[0mvalues\u001b[0m\u001b[0;34m,\u001b[0m \u001b[0mbase\u001b[0m \u001b[0;34m=\u001b[0m \u001b[0mnp\u001b[0m\u001b[0;34m.\u001b[0m\u001b[0mhistogram\u001b[0m\u001b[0;34m(\u001b[0m\u001b[0mlatencies\u001b[0m\u001b[0;34m[\u001b[0m\u001b[0mcolumn\u001b[0m\u001b[0;34m]\u001b[0m\u001b[0;34m,\u001b[0m \u001b[0mbins\u001b[0m\u001b[0;34m=\u001b[0m\u001b[0;36m1000\u001b[0m\u001b[0;34m)\u001b[0m\u001b[0;34m\u001b[0m\u001b[0m\n\u001b[0m\u001b[1;32m     69\u001b[0m         \u001b[0mcumsum\u001b[0m \u001b[0;34m=\u001b[0m \u001b[0mnp\u001b[0m\u001b[0;34m.\u001b[0m\u001b[0mcumsum\u001b[0m\u001b[0;34m(\u001b[0m\u001b[0mvalues\u001b[0m\u001b[0;34m)\u001b[0m\u001b[0;34m\u001b[0m\u001b[0m\n\u001b[1;32m     70\u001b[0m \u001b[0;34m\u001b[0m\u001b[0m\n",
      "\u001b[0;32m/usr/local/lib/python3.5/dist-packages/numpy/lib/function_base.py\u001b[0m in \u001b[0;36mhistogram\u001b[0;34m(a, bins, range, normed, weights, density)\u001b[0m\n\u001b[1;32m    668\u001b[0m     \u001b[0;32mif\u001b[0m \u001b[0;32mnot\u001b[0m \u001b[0mnp\u001b[0m\u001b[0;34m.\u001b[0m\u001b[0mall\u001b[0m\u001b[0;34m(\u001b[0m\u001b[0mnp\u001b[0m\u001b[0;34m.\u001b[0m\u001b[0misfinite\u001b[0m\u001b[0;34m(\u001b[0m\u001b[0;34m[\u001b[0m\u001b[0mmn\u001b[0m\u001b[0;34m,\u001b[0m \u001b[0mmx\u001b[0m\u001b[0;34m]\u001b[0m\u001b[0;34m)\u001b[0m\u001b[0;34m)\u001b[0m\u001b[0;34m:\u001b[0m\u001b[0;34m\u001b[0m\u001b[0m\n\u001b[1;32m    669\u001b[0m         raise ValueError(\n\u001b[0;32m--> 670\u001b[0;31m             'range parameter must be finite.')\n\u001b[0m\u001b[1;32m    671\u001b[0m     \u001b[0;32mif\u001b[0m \u001b[0mmn\u001b[0m \u001b[0;34m==\u001b[0m \u001b[0mmx\u001b[0m\u001b[0;34m:\u001b[0m\u001b[0;34m\u001b[0m\u001b[0m\n\u001b[1;32m    672\u001b[0m         \u001b[0mmn\u001b[0m \u001b[0;34m-=\u001b[0m \u001b[0;36m0.5\u001b[0m\u001b[0;34m\u001b[0m\u001b[0m\n",
      "\u001b[0;31mValueError\u001b[0m: range parameter must be finite."
     ]
    }
   ],
   "source": [
    "dfs_mtcp = load_datfiles(get_expdir(\"xlong_exps\"), \"mTCP\")  # search for files with \"TCP\" in name\n"
   ]
  },
  {
   "cell_type": "code",
   "execution_count": null,
   "metadata": {
    "collapsed": true
   },
   "outputs": [],
   "source": [
    "fig_mtcp, latencies_udp = plot_multiple_cdfs(dfs_mtcp)\n",
    "\n",
    "py.iplot(fig_mtcp, filename=\"cumulative histogram\")"
   ]
  },
  {
   "cell_type": "code",
   "execution_count": null,
   "metadata": {
    "collapsed": true
   },
   "outputs": [],
   "source": []
  }
 ],
 "metadata": {
  "kernelspec": {
   "display_name": "Python 3",
   "language": "python",
   "name": "python3"
  },
  "language_info": {
   "codemirror_mode": {
    "name": "ipython",
    "version": 3
   },
   "file_extension": ".py",
   "mimetype": "text/x-python",
   "name": "python",
   "nbconvert_exporter": "python",
   "pygments_lexer": "ipython3",
   "version": "3.5.2"
  }
 },
 "nbformat": 4,
 "nbformat_minor": 2
}
