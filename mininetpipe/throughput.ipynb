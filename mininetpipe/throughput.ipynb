{
 "cells": [
  {
   "cell_type": "code",
   "execution_count": 25,
   "metadata": {
    "collapsed": true
   },
   "outputs": [],
   "source": [
    "import os\n",
    "import re\n",
    "import pandas as pd\n",
    "import numpy as np\n",
    "\n",
    "import plotly\n",
    "import plotly.plotly as py\n",
    "from plotly.graph_objs import *\n",
    "\n",
    "plotly.tools.set_credentials_file(username='theano', api_key='hkYRYxjyM0aAGA5nmGq1')"
   ]
  },
  {
   "cell_type": "code",
   "execution_count": 26,
   "metadata": {},
   "outputs": [],
   "source": [
    "import matplotlib.pyplot as plt\n",
    "\n",
    "import matplotlib\n",
    "matplotlib.style.use('ggplot')"
   ]
  },
  {
   "cell_type": "code",
   "execution_count": 3,
   "metadata": {},
   "outputs": [
    {
     "name": "stdout",
     "output_type": "stream",
     "text": [
      "/home/theano/mountpoint/tsch/mininetpipe\n"
     ]
    }
   ],
   "source": [
    "home = os.getcwd()\n",
    "print(home)"
   ]
  },
  {
   "cell_type": "code",
   "execution_count": 5,
   "metadata": {},
   "outputs": [],
   "source": [
    "results_dir = os.path.join(home, \"results\")"
   ]
  },
  {
   "cell_type": "code",
   "execution_count": 7,
   "metadata": {},
   "outputs": [],
   "source": [
    "tcp_tput_fname = os.path.join(results_dir, \"throughput_TCP.txt\")"
   ]
  },
  {
   "cell_type": "code",
   "execution_count": 30,
   "metadata": {
    "collapsed": true
   },
   "outputs": [],
   "source": [
    "def load_datfile(fpath):\n",
    "    # Returns a dataframe\n",
    "    df = pd.read_table(fpath)\n",
    "    return df"
   ]
  },
  {
   "cell_type": "code",
   "execution_count": 81,
   "metadata": {},
   "outputs": [],
   "source": [
    "df = load_datfile(tcp_tput_fname)"
   ]
  },
  {
   "cell_type": "code",
   "execution_count": 83,
   "metadata": {},
   "outputs": [],
   "source": [
    "df = df.applymap(lambda x: list(map(int, x.split(\",\"))))"
   ]
  },
  {
   "cell_type": "code",
   "execution_count": 140,
   "metadata": {},
   "outputs": [],
   "source": [
    "df_lists = df[list(df.columns.values)].unstack().apply(pd.Series)"
   ]
  },
  {
   "cell_type": "code",
   "execution_count": 199,
   "metadata": {},
   "outputs": [
    {
     "data": {
      "text/html": [
       "<div>\n",
       "<style>\n",
       "    .dataframe thead tr:only-child th {\n",
       "        text-align: right;\n",
       "    }\n",
       "\n",
       "    .dataframe thead th {\n",
       "        text-align: left;\n",
       "    }\n",
       "\n",
       "    .dataframe tbody tr th {\n",
       "        vertical-align: top;\n",
       "    }\n",
       "</style>\n",
       "<table border=\"1\" class=\"dataframe\">\n",
       "  <thead>\n",
       "    <tr style=\"text-align: right;\">\n",
       "      <th></th>\n",
       "      <th>Unnamed: 0</th>\n",
       "      <th>udp20</th>\n",
       "    </tr>\n",
       "  </thead>\n",
       "  <tbody>\n",
       "    <tr>\n",
       "      <th>0</th>\n",
       "      <td>1</td>\n",
       "      <td>17463,17572,17467,17318,16931</td>\n",
       "    </tr>\n",
       "    <tr>\n",
       "      <th>1</th>\n",
       "      <td>2</td>\n",
       "      <td>29906,29721,29819,36214,35789</td>\n",
       "    </tr>\n",
       "    <tr>\n",
       "      <th>2</th>\n",
       "      <td>4</td>\n",
       "      <td>73793,73218,74431,73454,72505</td>\n",
       "    </tr>\n",
       "    <tr>\n",
       "      <th>3</th>\n",
       "      <td>8</td>\n",
       "      <td>140608,141055,141055,141055,141055</td>\n",
       "    </tr>\n",
       "    <tr>\n",
       "      <th>4</th>\n",
       "      <td>16</td>\n",
       "      <td>189789,194213,194213,194213,194213</td>\n",
       "    </tr>\n",
       "    <tr>\n",
       "      <th>5</th>\n",
       "      <td>32</td>\n",
       "      <td>260903,260903,260903,260903,260903</td>\n",
       "    </tr>\n",
       "    <tr>\n",
       "      <th>6</th>\n",
       "      <td>64</td>\n",
       "      <td>290660,290660,290660,290660,290660</td>\n",
       "    </tr>\n",
       "    <tr>\n",
       "      <th>7</th>\n",
       "      <td>128</td>\n",
       "      <td>307034,307034,307034,307034,307034</td>\n",
       "    </tr>\n",
       "    <tr>\n",
       "      <th>8</th>\n",
       "      <td>256</td>\n",
       "      <td>299024,299024,299024,299024,299024</td>\n",
       "    </tr>\n",
       "    <tr>\n",
       "      <th>9</th>\n",
       "      <td>512</td>\n",
       "      <td>298223,298223,298223,298223,298223</td>\n",
       "    </tr>\n",
       "    <tr>\n",
       "      <th>10</th>\n",
       "      <td>1024</td>\n",
       "      <td>310677,299535,312550,312550,312550</td>\n",
       "    </tr>\n",
       "  </tbody>\n",
       "</table>\n",
       "</div>"
      ],
      "text/plain": [
       "    Unnamed: 0                               udp20\n",
       "0            1       17463,17572,17467,17318,16931\n",
       "1            2       29906,29721,29819,36214,35789\n",
       "2            4       73793,73218,74431,73454,72505\n",
       "3            8  140608,141055,141055,141055,141055\n",
       "4           16  189789,194213,194213,194213,194213\n",
       "5           32  260903,260903,260903,260903,260903\n",
       "6           64  290660,290660,290660,290660,290660\n",
       "7          128  307034,307034,307034,307034,307034\n",
       "8          256  299024,299024,299024,299024,299024\n",
       "9          512  298223,298223,298223,298223,298223\n",
       "10        1024  310677,299535,312550,312550,312550"
      ]
     },
     "execution_count": 199,
     "metadata": {},
     "output_type": "execute_result"
    }
   ],
   "source": [
    "udp_tput_fname = os.path.join(results_dir, \"throughput_UDP.txt\")\n",
    "df3 = load_datfile(udp_tput_fname)\n",
    "df3"
   ]
  },
  {
   "cell_type": "code",
   "execution_count": null,
   "metadata": {
    "collapsed": true
   },
   "outputs": [],
   "source": [
    "df3 = df3.applymap(lambda x: list(map(int, x.split(\",\"))))"
   ]
  },
  {
   "cell_type": "code",
   "execution_count": 188,
   "metadata": {},
   "outputs": [
    {
     "data": {
      "text/html": [
       "<div>\n",
       "<style>\n",
       "    .dataframe thead tr:only-child th {\n",
       "        text-align: right;\n",
       "    }\n",
       "\n",
       "    .dataframe thead th {\n",
       "        text-align: left;\n",
       "    }\n",
       "\n",
       "    .dataframe tbody tr th {\n",
       "        vertical-align: top;\n",
       "    }\n",
       "</style>\n",
       "<table border=\"1\" class=\"dataframe\">\n",
       "  <thead>\n",
       "    <tr style=\"text-align: right;\">\n",
       "      <th></th>\n",
       "      <th>tput20+spin</th>\n",
       "      <th>tput20-spin</th>\n",
       "    </tr>\n",
       "  </thead>\n",
       "  <tbody>\n",
       "    <tr>\n",
       "      <th>1</th>\n",
       "      <td>[18558, 19082, 18871, 18999, 18992]</td>\n",
       "      <td>[14712, 14755, 14610, 14867, 14603]</td>\n",
       "    </tr>\n",
       "    <tr>\n",
       "      <th>2</th>\n",
       "      <td>[37824, 37657, 37064, 37058, 38678]</td>\n",
       "      <td>[27478, 27002, 26850, 26880, 27119]</td>\n",
       "    </tr>\n",
       "    <tr>\n",
       "      <th>4</th>\n",
       "      <td>[66396, 65043, 66665, 68838, 68572]</td>\n",
       "      <td>[49617, 50032, 51021, 48605, 49428]</td>\n",
       "    </tr>\n",
       "    <tr>\n",
       "      <th>8</th>\n",
       "      <td>[84380, 84243, 84594, 84141, 84300]</td>\n",
       "      <td>[93602, 91114, 96788, 83013, 83860]</td>\n",
       "    </tr>\n",
       "    <tr>\n",
       "      <th>16</th>\n",
       "      <td>[129822, 134030, 131798, 129577, 130878]</td>\n",
       "      <td>[101458, 121925, 101112, 100454, 101737]</td>\n",
       "    </tr>\n",
       "    <tr>\n",
       "      <th>32</th>\n",
       "      <td>[185354, 187715, 186313, 189191, 188496]</td>\n",
       "      <td>[168214, 171324, 164918, 174953, 173541]</td>\n",
       "    </tr>\n",
       "    <tr>\n",
       "      <th>64</th>\n",
       "      <td>[231423, 232386, 232680, 231721, 232423]</td>\n",
       "      <td>[229631, 230671, 230816, 228329, 229410]</td>\n",
       "    </tr>\n",
       "    <tr>\n",
       "      <th>128</th>\n",
       "      <td>[224435, 224239, 227767, 228333, 227664]</td>\n",
       "      <td>[226023, 226575, 225953, 227588, 226886]</td>\n",
       "    </tr>\n",
       "    <tr>\n",
       "      <th>256</th>\n",
       "      <td>[224571, 225476, 225133, 224123, 221891]</td>\n",
       "      <td>[224154, 224073, 223298, 223966, 223688]</td>\n",
       "    </tr>\n",
       "    <tr>\n",
       "      <th>512</th>\n",
       "      <td>[220980, 221307, 222249, 220135, 220788]</td>\n",
       "      <td>[219136, 220044, 221010, 219276, 218361]</td>\n",
       "    </tr>\n",
       "    <tr>\n",
       "      <th>1024</th>\n",
       "      <td>[215736, 215657, 215335, 212757, 216258]</td>\n",
       "      <td>[215410, 214565, 215516, 215765, 216434]</td>\n",
       "    </tr>\n",
       "  </tbody>\n",
       "</table>\n",
       "</div>"
      ],
      "text/plain": [
       "                                   tput20+spin  \\\n",
       "1          [18558, 19082, 18871, 18999, 18992]   \n",
       "2          [37824, 37657, 37064, 37058, 38678]   \n",
       "4          [66396, 65043, 66665, 68838, 68572]   \n",
       "8          [84380, 84243, 84594, 84141, 84300]   \n",
       "16    [129822, 134030, 131798, 129577, 130878]   \n",
       "32    [185354, 187715, 186313, 189191, 188496]   \n",
       "64    [231423, 232386, 232680, 231721, 232423]   \n",
       "128   [224435, 224239, 227767, 228333, 227664]   \n",
       "256   [224571, 225476, 225133, 224123, 221891]   \n",
       "512   [220980, 221307, 222249, 220135, 220788]   \n",
       "1024  [215736, 215657, 215335, 212757, 216258]   \n",
       "\n",
       "                                   tput20-spin  \n",
       "1          [14712, 14755, 14610, 14867, 14603]  \n",
       "2          [27478, 27002, 26850, 26880, 27119]  \n",
       "4          [49617, 50032, 51021, 48605, 49428]  \n",
       "8          [93602, 91114, 96788, 83013, 83860]  \n",
       "16    [101458, 121925, 101112, 100454, 101737]  \n",
       "32    [168214, 171324, 164918, 174953, 173541]  \n",
       "64    [229631, 230671, 230816, 228329, 229410]  \n",
       "128   [226023, 226575, 225953, 227588, 226886]  \n",
       "256   [224154, 224073, 223298, 223966, 223688]  \n",
       "512   [219136, 220044, 221010, 219276, 218361]  \n",
       "1024  [215410, 214565, 215516, 215765, 216434]  "
      ]
     },
     "execution_count": 188,
     "metadata": {},
     "output_type": "execute_result"
    }
   ],
   "source": [
    "df3"
   ]
  },
  {
   "cell_type": "code",
   "execution_count": 183,
   "metadata": {
    "scrolled": true
   },
   "outputs": [
    {
     "data": {
      "image/png": "[encoded data removed]",
      "text/plain": [
       "<matplotlib.figure.Figure at 0x7f527ad57978>"
      ]
     },
     "metadata": {},
     "output_type": "display_data"
    }
   ],
   "source": [
    "df1 = df[\"tput20+spin\"].apply(pd.Series).T\n",
    "df2 = df[\"tput20-spin\"].apply(pd.Series).T\n",
    "df3 = df3.apply(pd.Series).T\n",
    "\n",
    "mean1 = df1.mean()\n",
    "err1 = df1.std()\n",
    "\n",
    "mean2 = df2.mean()\n",
    "err2 = df2.std()\n",
    "\n",
    "mean3 = df3.mean()\n",
    "err2 = df3.std()\n",
    "\n",
    "df_all = pd.DataFrame({\"tput20+spin\": mean1, \"tput20-spin\": mean2, \"udp20\": })\n",
    "\n",
    "ax = df_all.plot(yerr=[err1,err2,err3])\n",
    "ax.set_xscale('log', basex=2)\n",
    "ax.set_yscale('log', basey=10)\n",
    "\n",
    "plt.show()"
   ]
  },
  {
   "cell_type": "code",
   "execution_count": null,
   "metadata": {
    "collapsed": true
   },
   "outputs": [],
   "source": []
  }
 ],
 "metadata": {
  "kernelspec": {
   "display_name": "Python 3",
   "language": "python",
   "name": "python3"
  },
  "language_info": {
   "codemirror_mode": {
    "name": "ipython",
    "version": 3
   },
   "file_extension": ".py",
   "mimetype": "text/x-python",
   "name": "python",
   "nbconvert_exporter": "python",
   "pygments_lexer": "ipython3",
   "version": "3.5.2"
  }
 },
 "nbformat": 4,
 "nbformat_minor": 2
}
