{
 "cells": [
  {
   "cell_type": "code",
   "execution_count": 11,
   "metadata": {},
   "outputs": [
    {
     "data": {
      "text/html": [
       "<script>requirejs.config({paths: { 'plotly': ['https://cdn.plot.ly/plotly-latest.min']},});if(!window.Plotly) {{require(['plotly'],function(plotly) {window.Plotly=plotly;});}}</script>"
      ],
      "text/vnd.plotly.v1+html": [
       "<script>requirejs.config({paths: { 'plotly': ['https://cdn.plot.ly/plotly-latest.min']},});if(!window.Plotly) {{require(['plotly'],function(plotly) {window.Plotly=plotly;});}}</script>"
      ]
     },
     "metadata": {},
     "output_type": "display_data"
    }
   ],
   "source": [
    "from plotly.offline import download_plotlyjs, init_notebook_mode, plot, iplot\n",
    "import plotly.graph_objs as go\n",
    "\n",
    "init_notebook_mode(connected=True)"
   ]
  },
  {
   "cell_type": "code",
   "execution_count": 36,
   "metadata": {},
   "outputs": [],
   "source": [
    "import sys\n",
    "# Want to compute throughput when memory is constrained\n",
    "# Cycles to page in memory: 300\n",
    "# Cycles to process request (msg sent + received): 500\n",
    "# L3 cache: 20MB\n",
    "# memory is per-connection\n",
    "# 2KB RAM per connection (http://highscalability.com/blog/2013/5/13/the-secret-to-10-million-concurrent-connections-the-kernel-i.html)\n",
    "\n",
    "def compute_throughput(nconnections, req_rate):\n",
    "    total_cycles = 2400000000  # 2.4GHz\n",
    "    total_memory = 20000000  # bytes\n",
    "    baseline_memory = 2000\n",
    "    newproto_memory = 200\n",
    "    \n",
    "    baseline_cycles = 500\n",
    "    newproto_cycles = 250\n",
    "    \n",
    "    baseline_total_memory = nconnections * baseline_memory\n",
    "    newproto_total_memory = nconnections * newproto_memory\n",
    "    \n",
    "    if baseline_total_memory > total_memory:\n",
    "        baseline_cycles += 600\n",
    "    if newproto_total_memory > total_memory:\n",
    "        newproto_cycles += 600\n",
    "    \n",
    "    total_cycles_per_request = total_cycles/req_rate\n",
    "    print(\"Total cycles per request: %f\" % total_cycles_per_request)\n",
    "    baseline_cpu = baseline_cycles/total_cycles_per_request\n",
    "    newproto_cpu = newproto_cycles/total_cycles_per_request\n",
    "    print(\"Baseline CPU %%: %f, new protocol CPU %%: %f\" % (baseline_cpu, newproto_cpu))\n",
    "    cycles_improvement = (baseline_cpu - newproto_cpu) * total_cycles\n",
    "    expected_impact_cycles = cycles_improvement/total_cycles_per_request\n",
    "    expected_impact_cpu = expected_impact_cycles/req_rate * 100\n",
    "    return expected_impact_cpu"
   ]
  },
  {
   "cell_type": "code",
   "execution_count": 37,
   "metadata": {},
   "outputs": [],
   "source": [
    "nconnections = []\n",
    "\n",
    "x = 100\n",
    "for i in range(5):\n",
    "    x = x * 10\n",
    "    nconnections.append(x)"
   ]
  },
  {
   "cell_type": "code",
   "execution_count": 50,
   "metadata": {},
   "outputs": [],
   "source": [
    "req_rate = []\n",
    "\n",
    "x = 1000\n",
    "for i in range(5):\n",
    "    x = x * 10\n",
    "    req_rate.append(x)"
   ]
  },
  {
   "cell_type": "code",
   "execution_count": 51,
   "metadata": {},
   "outputs": [
    {
     "data": {
      "text/plain": [
       "[10000, 100000, 1000000, 10000000, 100000000]"
      ]
     },
     "execution_count": 51,
     "metadata": {},
     "output_type": "execute_result"
    }
   ],
   "source": [
    "req_rate"
   ]
  },
  {
   "cell_type": "code",
   "execution_count": 52,
   "metadata": {},
   "outputs": [],
   "source": [
    "experiments = []\n",
    "for i in nconnections:\n",
    "    for j in req_rate: \n",
    "        experiments.append((i, j))"
   ]
  },
  {
   "cell_type": "code",
   "execution_count": 53,
   "metadata": {},
   "outputs": [
    {
     "data": {
      "text/plain": [
       "[(1000, 10000),\n",
       " (1000, 100000),\n",
       " (1000, 1000000),\n",
       " (1000, 10000000),\n",
       " (1000, 100000000),\n",
       " (10000, 10000),\n",
       " (10000, 100000),\n",
       " (10000, 1000000),\n",
       " (10000, 10000000),\n",
       " (10000, 100000000),\n",
       " (100000, 10000),\n",
       " (100000, 100000),\n",
       " (100000, 1000000),\n",
       " (100000, 10000000),\n",
       " (100000, 100000000),\n",
       " (1000000, 10000),\n",
       " (1000000, 100000),\n",
       " (1000000, 1000000),\n",
       " (1000000, 10000000),\n",
       " (1000000, 100000000),\n",
       " (10000000, 10000),\n",
       " (10000000, 100000),\n",
       " (10000000, 1000000),\n",
       " (10000000, 10000000),\n",
       " (10000000, 100000000)]"
      ]
     },
     "execution_count": 53,
     "metadata": {},
     "output_type": "execute_result"
    }
   ],
   "source": [
    "experiments"
   ]
  },
  {
   "cell_type": "code",
   "execution_count": 54,
   "metadata": {},
   "outputs": [
    {
     "name": "stdout",
     "output_type": "stream",
     "text": [
      "Total cycles per request: 240000.000000\n",
      "Baseline CPU %: 0.002083, new protocol CPU %: 0.001042\n",
      "Total cycles per request: 24000.000000\n",
      "Baseline CPU %: 0.020833, new protocol CPU %: 0.010417\n",
      "Total cycles per request: 2400.000000\n",
      "Baseline CPU %: 0.208333, new protocol CPU %: 0.104167\n",
      "Total cycles per request: 240.000000\n",
      "Baseline CPU %: 2.083333, new protocol CPU %: 1.041667\n",
      "Total cycles per request: 24.000000\n",
      "Baseline CPU %: 20.833333, new protocol CPU %: 10.416667\n",
      "Total cycles per request: 240000.000000\n",
      "Baseline CPU %: 0.002083, new protocol CPU %: 0.001042\n",
      "Total cycles per request: 24000.000000\n",
      "Baseline CPU %: 0.020833, new protocol CPU %: 0.010417\n",
      "Total cycles per request: 2400.000000\n",
      "Baseline CPU %: 0.208333, new protocol CPU %: 0.104167\n",
      "Total cycles per request: 240.000000\n",
      "Baseline CPU %: 2.083333, new protocol CPU %: 1.041667\n",
      "Total cycles per request: 24.000000\n",
      "Baseline CPU %: 20.833333, new protocol CPU %: 10.416667\n",
      "Total cycles per request: 240000.000000\n",
      "Baseline CPU %: 0.004583, new protocol CPU %: 0.001042\n",
      "Total cycles per request: 24000.000000\n",
      "Baseline CPU %: 0.045833, new protocol CPU %: 0.010417\n",
      "Total cycles per request: 2400.000000\n",
      "Baseline CPU %: 0.458333, new protocol CPU %: 0.104167\n",
      "Total cycles per request: 240.000000\n",
      "Baseline CPU %: 4.583333, new protocol CPU %: 1.041667\n",
      "Total cycles per request: 24.000000\n",
      "Baseline CPU %: 45.833333, new protocol CPU %: 10.416667\n",
      "Total cycles per request: 240000.000000\n",
      "Baseline CPU %: 0.004583, new protocol CPU %: 0.003542\n",
      "Total cycles per request: 24000.000000\n",
      "Baseline CPU %: 0.045833, new protocol CPU %: 0.035417\n",
      "Total cycles per request: 2400.000000\n",
      "Baseline CPU %: 0.458333, new protocol CPU %: 0.354167\n",
      "Total cycles per request: 240.000000\n",
      "Baseline CPU %: 4.583333, new protocol CPU %: 3.541667\n",
      "Total cycles per request: 24.000000\n",
      "Baseline CPU %: 45.833333, new protocol CPU %: 35.416667\n",
      "Total cycles per request: 240000.000000\n",
      "Baseline CPU %: 0.004583, new protocol CPU %: 0.003542\n",
      "Total cycles per request: 24000.000000\n",
      "Baseline CPU %: 0.045833, new protocol CPU %: 0.035417\n",
      "Total cycles per request: 2400.000000\n",
      "Baseline CPU %: 0.458333, new protocol CPU %: 0.354167\n",
      "Total cycles per request: 240.000000\n",
      "Baseline CPU %: 4.583333, new protocol CPU %: 3.541667\n",
      "Total cycles per request: 24.000000\n",
      "Baseline CPU %: 45.833333, new protocol CPU %: 35.416667\n"
     ]
    }
   ],
   "source": [
    "experiments = [(nconnections, req_rate, compute_throughput(nconnections, req_rate)) for nconnections, req_rate in experiments]"
   ]
  },
  {
   "cell_type": "code",
   "execution_count": 55,
   "metadata": {},
   "outputs": [
    {
     "data": {
      "text/plain": [
       "[(1000, 10000, 0.10416666666666667),\n",
       " (1000, 100000, 1.0416666666666667),\n",
       " (1000, 1000000, 10.416666666666668),\n",
       " (1000, 10000000, 104.16666666666666),\n",
       " (1000, 100000000, 1041.6666666666665),\n",
       " (10000, 10000, 0.10416666666666667),\n",
       " (10000, 100000, 1.0416666666666667),\n",
       " (10000, 1000000, 10.416666666666668),\n",
       " (10000, 10000000, 104.16666666666666),\n",
       " (10000, 100000000, 1041.6666666666665),\n",
       " (100000, 10000, 0.35416666666666663),\n",
       " (100000, 100000, 3.5416666666666665),\n",
       " (100000, 1000000, 35.416666666666664),\n",
       " (100000, 10000000, 354.16666666666663),\n",
       " (100000, 100000000, 3541.666666666667),\n",
       " (1000000, 10000, 0.10416666666666669),\n",
       " (1000000, 100000, 1.0416666666666665),\n",
       " (1000000, 1000000, 10.416666666666663),\n",
       " (1000000, 10000000, 104.16666666666666),\n",
       " (1000000, 100000000, 1041.6666666666672),\n",
       " (10000000, 10000, 0.10416666666666669),\n",
       " (10000000, 100000, 1.0416666666666665),\n",
       " (10000000, 1000000, 10.416666666666663),\n",
       " (10000000, 10000000, 104.16666666666666),\n",
       " (10000000, 100000000, 1041.6666666666672)]"
      ]
     },
     "execution_count": 55,
     "metadata": {},
     "output_type": "execute_result"
    }
   ],
   "source": [
    "experiments"
   ]
  },
  {
   "cell_type": "code",
   "execution_count": 78,
   "metadata": {},
   "outputs": [
    {
     "data": {
      "text/plain": [
       "'file:///Users/theano/tsch/temp-plot.html'"
      ]
     },
     "execution_count": 78,
     "metadata": {},
     "output_type": "execute_result"
    }
   ],
   "source": [
    "data = []\n",
    "\n",
    "for nconnection in nconnections:\n",
    "    data.append(go.Scatter(x=[req_rate for cxn, req_rate, _ in experiments if cxn == nconnection],\n",
    "                    y=[pct_change for cxn, _, pct_change in experiments if cxn == nconnection],\n",
    "                    mode='lines+markers',\n",
    "                    name=(\"%dK cxns\" % (nconnection / 1000))\n",
    "                    # marker=dict(\n",
    "                    # color=[(nconnections) for nconnections, req_rate, _ in experiments if nconnections == nconnection],\n",
    "                    # colorscale=\"Viridis\",\n",
    "                    # colorbar=dict(\n",
    "                    #     title='Cycles per request'\n",
    "                    # ),\n",
    "                    # showscale=True,\n",
    "                    #)\n",
    "               ))\n",
    "\n",
    "layout = go.Layout(\n",
    "    title='Expected percent improvement in application throughput<br>given improvements in per-connection memory utilization',\n",
    "    xaxis=dict(\n",
    "        type='log',\n",
    "        title='Application requests per second (log)'),\n",
    "    yaxis=dict(\n",
    "        title='Expected % improvement in app throughput'),\n",
    ")\n",
    "\n",
    "fig = go.Figure(data=data, layout=layout)\n",
    "plot(fig)"
   ]
  },
  {
   "cell_type": "code",
   "execution_count": null,
   "metadata": {
    "collapsed": true
   },
   "outputs": [],
   "source": []
  }
 ],
 "metadata": {
  "kernelspec": {
   "display_name": "Python 3",
   "language": "python",
   "name": "python3"
  },
  "language_info": {
   "codemirror_mode": {
    "name": "ipython",
    "version": 3
   },
   "file_extension": ".py",
   "mimetype": "text/x-python",
   "name": "python",
   "nbconvert_exporter": "python",
   "pygments_lexer": "ipython3",
   "version": "3.6.3"
  }
 },
 "nbformat": 4,
 "nbformat_minor": 2
}
