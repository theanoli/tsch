{
 "cells": [
  {
   "cell_type": "code",
   "execution_count": 39,
   "metadata": {},
   "outputs": [
    {
     "data": {
      "text/html": [
       "<script>requirejs.config({paths: { 'plotly': ['https://cdn.plot.ly/plotly-latest.min']},});if(!window.Plotly) {{require(['plotly'],function(plotly) {window.Plotly=plotly;});}}</script>"
      ],
      "text/vnd.plotly.v1+html": [
       "<script>requirejs.config({paths: { 'plotly': ['https://cdn.plot.ly/plotly-latest.min']},});if(!window.Plotly) {{require(['plotly'],function(plotly) {window.Plotly=plotly;});}}</script>"
      ]
     },
     "metadata": {},
     "output_type": "display_data"
    }
   ],
   "source": [
    "from plotly.offline import download_plotlyjs, init_notebook_mode, plot, iplot\n",
    "import plotly.graph_objs as go\n",
    "\n",
    "init_notebook_mode(connected=True)"
   ]
  },
  {
   "cell_type": "code",
   "execution_count": 80,
   "metadata": {
    "collapsed": true
   },
   "outputs": [],
   "source": [
    "import sys\n",
    "\n",
    "def compute_throughput(total_cycles, baseline_cycles, newproto_cycles, req_rate):\n",
    "        total_cycles_per_request = total_cycles/req_rate\n",
    "        print(\"Total cycles per request: %f\" % total_cycles_per_request)\n",
    "        baseline_cpu = baseline_cycles/total_cycles_per_request\n",
    "        newproto_cpu = newproto_cycles/total_cycles_per_request\n",
    "        print(\"Baseline CPU %%: %f, new protocol CPU %%: %f\" % (baseline_cpu, newproto_cpu))\n",
    "        cycles_improvement = (baseline_cpu - newproto_cpu) * total_cycles\n",
    "        expected_impact_cycles = cycles_improvement/total_cycles_per_request\n",
    "        expected_impact_cpu = expected_impact_cycles/req_rate * 100\n",
    "        return expected_impact_cpu"
   ]
  },
  {
   "cell_type": "code",
   "execution_count": 8,
   "metadata": {
    "collapsed": true
   },
   "outputs": [],
   "source": [
    "cpu = [x for x in range(50, 500, 100)][::-1]"
   ]
  },
  {
   "cell_type": "code",
   "execution_count": 9,
   "metadata": {},
   "outputs": [
    {
     "data": {
      "text/plain": [
       "[450, 350, 250, 150, 50]"
      ]
     },
     "execution_count": 9,
     "metadata": {},
     "output_type": "execute_result"
    }
   ],
   "source": [
    "cpu"
   ]
  },
  {
   "cell_type": "code",
   "execution_count": 106,
   "metadata": {
    "collapsed": true
   },
   "outputs": [],
   "source": [
    "req_rate = []"
   ]
  },
  {
   "cell_type": "code",
   "execution_count": 107,
   "metadata": {
    "collapsed": true
   },
   "outputs": [],
   "source": [
    "x = 4000\n",
    "for i in range(5):\n",
    "    x = x * 10\n",
    "    req_rate.append(x)"
   ]
  },
  {
   "cell_type": "code",
   "execution_count": 108,
   "metadata": {},
   "outputs": [
    {
     "data": {
      "text/plain": [
       "[40000, 400000, 4000000, 40000000, 400000000]"
      ]
     },
     "execution_count": 108,
     "metadata": {},
     "output_type": "execute_result"
    }
   ],
   "source": [
    "req_rate"
   ]
  },
  {
   "cell_type": "code",
   "execution_count": 109,
   "metadata": {
    "collapsed": true
   },
   "outputs": [],
   "source": [
    "experiments = []\n",
    "for i in cpu:\n",
    "    for j in req_rate: \n",
    "        experiments.append((i, j))"
   ]
  },
  {
   "cell_type": "code",
   "execution_count": 110,
   "metadata": {},
   "outputs": [
    {
     "data": {
      "text/plain": [
       "[(450, 40000),\n",
       " (450, 400000),\n",
       " (450, 4000000),\n",
       " (450, 40000000),\n",
       " (450, 400000000),\n",
       " (350, 40000),\n",
       " (350, 400000),\n",
       " (350, 4000000),\n",
       " (350, 40000000),\n",
       " (350, 400000000),\n",
       " (250, 40000),\n",
       " (250, 400000),\n",
       " (250, 4000000),\n",
       " (250, 40000000),\n",
       " (250, 400000000),\n",
       " (150, 40000),\n",
       " (150, 400000),\n",
       " (150, 4000000),\n",
       " (150, 40000000),\n",
       " (150, 400000000),\n",
       " (50, 40000),\n",
       " (50, 400000),\n",
       " (50, 4000000),\n",
       " (50, 40000000),\n",
       " (50, 400000000)]"
      ]
     },
     "execution_count": 110,
     "metadata": {},
     "output_type": "execute_result"
    }
   ],
   "source": [
    "experiments"
   ]
  },
  {
   "cell_type": "code",
   "execution_count": 111,
   "metadata": {},
   "outputs": [
    {
     "name": "stdout",
     "output_type": "stream",
     "text": [
      "Total cycles per request: 60000.000000\n",
      "Baseline CPU %: 0.008333, new protocol CPU %: 0.007500\n",
      "Total cycles per request: 6000.000000\n",
      "Baseline CPU %: 0.083333, new protocol CPU %: 0.075000\n",
      "Total cycles per request: 600.000000\n",
      "Baseline CPU %: 0.833333, new protocol CPU %: 0.750000\n",
      "Total cycles per request: 60.000000\n",
      "Baseline CPU %: 8.333333, new protocol CPU %: 7.500000\n",
      "Total cycles per request: 6.000000\n",
      "Baseline CPU %: 83.333333, new protocol CPU %: 75.000000\n",
      "Total cycles per request: 60000.000000\n",
      "Baseline CPU %: 0.008333, new protocol CPU %: 0.005833\n",
      "Total cycles per request: 6000.000000\n",
      "Baseline CPU %: 0.083333, new protocol CPU %: 0.058333\n",
      "Total cycles per request: 600.000000\n",
      "Baseline CPU %: 0.833333, new protocol CPU %: 0.583333\n",
      "Total cycles per request: 60.000000\n",
      "Baseline CPU %: 8.333333, new protocol CPU %: 5.833333\n",
      "Total cycles per request: 6.000000\n",
      "Baseline CPU %: 83.333333, new protocol CPU %: 58.333333\n",
      "Total cycles per request: 60000.000000\n",
      "Baseline CPU %: 0.008333, new protocol CPU %: 0.004167\n",
      "Total cycles per request: 6000.000000\n",
      "Baseline CPU %: 0.083333, new protocol CPU %: 0.041667\n",
      "Total cycles per request: 600.000000\n",
      "Baseline CPU %: 0.833333, new protocol CPU %: 0.416667\n",
      "Total cycles per request: 60.000000\n",
      "Baseline CPU %: 8.333333, new protocol CPU %: 4.166667\n",
      "Total cycles per request: 6.000000\n",
      "Baseline CPU %: 83.333333, new protocol CPU %: 41.666667\n",
      "Total cycles per request: 60000.000000\n",
      "Baseline CPU %: 0.008333, new protocol CPU %: 0.002500\n",
      "Total cycles per request: 6000.000000\n",
      "Baseline CPU %: 0.083333, new protocol CPU %: 0.025000\n",
      "Total cycles per request: 600.000000\n",
      "Baseline CPU %: 0.833333, new protocol CPU %: 0.250000\n",
      "Total cycles per request: 60.000000\n",
      "Baseline CPU %: 8.333333, new protocol CPU %: 2.500000\n",
      "Total cycles per request: 6.000000\n",
      "Baseline CPU %: 83.333333, new protocol CPU %: 25.000000\n",
      "Total cycles per request: 60000.000000\n",
      "Baseline CPU %: 0.008333, new protocol CPU %: 0.000833\n",
      "Total cycles per request: 6000.000000\n",
      "Baseline CPU %: 0.083333, new protocol CPU %: 0.008333\n",
      "Total cycles per request: 600.000000\n",
      "Baseline CPU %: 0.833333, new protocol CPU %: 0.083333\n",
      "Total cycles per request: 60.000000\n",
      "Baseline CPU %: 8.333333, new protocol CPU %: 0.833333\n",
      "Total cycles per request: 6.000000\n",
      "Baseline CPU %: 83.333333, new protocol CPU %: 8.333333\n"
     ]
    }
   ],
   "source": [
    "experiments = [(cpu, req_rate, compute_throughput(2400000000, 500, cpu, req_rate)) for cpu, req_rate in experiments]"
   ]
  },
  {
   "cell_type": "code",
   "execution_count": 115,
   "metadata": {},
   "outputs": [
    {
     "data": {
      "text/plain": [
       "[(450, 40000, 0.08333333333333336),\n",
       " (450, 400000, 0.8333333333333331),\n",
       " (450, 4000000, 8.333333333333337),\n",
       " (450, 40000000, 83.3333333333334),\n",
       " (450, 400000000, 833.3333333333328),\n",
       " (350, 40000, 0.24999999999999997),\n",
       " (350, 400000, 2.4999999999999996),\n",
       " (350, 4000000, 25.0),\n",
       " (350, 40000000, 250.00000000000009),\n",
       " (350, 400000000, 2499.9999999999995),\n",
       " (250, 40000, 0.4166666666666667),\n",
       " (250, 400000, 4.166666666666667),\n",
       " (250, 4000000, 41.66666666666667),\n",
       " (250, 40000000, 416.66666666666663),\n",
       " (250, 400000000, 4166.666666666666),\n",
       " (150, 40000, 0.5833333333333333),\n",
       " (150, 400000, 5.833333333333333),\n",
       " (150, 4000000, 58.333333333333336),\n",
       " (150, 40000000, 583.3333333333334),\n",
       " (150, 400000000, 5833.333333333333),\n",
       " (50, 40000, 0.75),\n",
       " (50, 400000, 7.5),\n",
       " (50, 4000000, 75.0),\n",
       " (50, 40000000, 750.0000000000002),\n",
       " (50, 400000000, 7500.0)]"
      ]
     },
     "execution_count": 115,
     "metadata": {},
     "output_type": "execute_result"
    }
   ],
   "source": [
    "experiments"
   ]
  },
  {
   "cell_type": "code",
   "execution_count": 114,
   "metadata": {},
   "outputs": [
    {
     "data": {
      "text/plain": [
       "'file:///home/theano/tsch/temp-plot.html'"
      ]
     },
     "execution_count": 114,
     "metadata": {},
     "output_type": "execute_result"
    }
   ],
   "source": [
    "data = [go.Scatter(x=[req_rate for cpu, req_rate, _ in experiments],\n",
    "                y=[pct_change for _, _, pct_change in experiments],\n",
    "                mode='markers',\n",
    "                 marker=dict(\n",
    "                 color=[(cpu) for cpu, req_rate, _ in experiments],\n",
    "                 colorscale=\"Viridis\",\n",
    "                 colorbar=dict(\n",
    "                     title='Cycles per request'\n",
    "                 ),\n",
    "                 showscale=True,\n",
    "                 ))]\n",
    "\n",
    "layout = go.Layout(\n",
    "    title='Expected percent improvement in application throughput<br>given improvements in transport CPU utilization',\n",
    "    xaxis=dict(\n",
    "        type='log',\n",
    "        title='Application requests per second (log)'),\n",
    "    yaxis=dict(\n",
    "        title='Expected % improvement in app throughput'))\n",
    "\n",
    "fig = go.Figure(data=data, layout=layout)\n",
    "plot(fig)"
   ]
  },
  {
   "cell_type": "code",
   "execution_count": null,
   "metadata": {
    "collapsed": true
   },
   "outputs": [],
   "source": []
  }
 ],
 "metadata": {
  "kernelspec": {
   "display_name": "Python 3",
   "language": "python",
   "name": "python3"
  },
  "language_info": {
   "codemirror_mode": {
    "name": "ipython",
    "version": 3
   },
   "file_extension": ".py",
   "mimetype": "text/x-python",
   "name": "python",
   "nbconvert_exporter": "python",
   "pygments_lexer": "ipython3",
   "version": "3.6.3"
  }
 },
 "nbformat": 4,
 "nbformat_minor": 2
}
